{
 "cells": [
  {
   "cell_type": "markdown",
   "id": "9830b037-0828-4988-b323-7dfb13257762",
   "metadata": {},
   "source": [
    "# SIPSA Project\n",
    "##### Developed by Sébastien Lozano-Forero"
   ]
  },
  {
   "cell_type": "code",
   "execution_count": 4,
   "id": "927a6d64-96e9-4bdc-82aa-9f9a7c8c0fdd",
   "metadata": {},
   "outputs": [],
   "source": [
    "import sys\n",
    "from pathlib import Path\n",
    "\n",
    "# Add the 'utils' directory to the system path so we can import from it\n",
    "sys.path.append(str(Path().resolve().parent / 'utils'))\n",
    "sys.path.append(str(Path().resolve().parent / 'src'))\n",
    "sys.path.append(str(Path().resolve().parent / 'app'))\n",
    "\n",
    "import pandas as pd\n",
    "from aws_utils import DataPipelineManager\n",
    "from visualization_utils import lineplot_per_category, lineplot_per_category_grid\n",
    "from DataIngestor import DataIngestor"
   ]
  },
  {
   "cell_type": "code",
   "execution_count": 5,
   "id": "67b10873-428d-45c0-acc7-a47d2334a0c2",
   "metadata": {},
   "outputs": [],
   "source": [
    "run = DataPipelineManager()"
   ]
  },
  {
   "cell_type": "code",
   "execution_count": 6,
   "id": "13c662af-1218-4329-8eec-23f9a18e54fe",
   "metadata": {},
   "outputs": [
    {
     "ename": "ModuleNotFoundError",
     "evalue": "No module named 'queries'",
     "output_type": "error",
     "traceback": [
      "\u001b[1;31m---------------------------------------------------------------------------\u001b[0m",
      "\u001b[1;31mModuleNotFoundError\u001b[0m                       Traceback (most recent call last)",
      "Cell \u001b[1;32mIn[6], line 1\u001b[0m\n\u001b[1;32m----> 1\u001b[0m \u001b[38;5;28;01mimport\u001b[39;00m \u001b[38;5;21;01mqueries\u001b[39;00m \n\u001b[0;32m      2\u001b[0m \u001b[38;5;28;01mimport\u001b[39;00m \u001b[38;5;21;01mvisualizations\u001b[39;00m \u001b[38;5;28;01mas\u001b[39;00m \u001b[38;5;21;01mvisuals\u001b[39;00m\n",
      "\u001b[1;31mModuleNotFoundError\u001b[0m: No module named 'queries'"
     ]
    }
   ],
   "source": [
    "import queries \n",
    "import visualizations as visuals"
   ]
  },
  {
   "cell_type": "code",
   "execution_count": null,
   "id": "966ef46b-6ba6-4aea-a813-662d18785029",
   "metadata": {},
   "outputs": [],
   "source": [
    "cities = 'bogota'\n",
    "product = 'beef_ribs'"
   ]
  },
  {
   "cell_type": "code",
   "execution_count": null,
   "id": "e46cdb9b-163a-4e7b-9b58-5d747c1e86ee",
   "metadata": {},
   "outputs": [],
   "source": [
    "dataframe = queries.product_evolution_query_by_city(cities = cities, \n",
    "                                                    product = product)"
   ]
  },
  {
   "cell_type": "code",
   "execution_count": null,
   "id": "bef47478-7f58-4123-a5ee-c0fe9894c82b",
   "metadata": {},
   "outputs": [],
   "source": [
    "visuals.plot_product_seasonal_trends(dataframe=dataframe, \n",
    "                                            product = product, \n",
    "                                            cities = cities)"
   ]
  },
  {
   "cell_type": "code",
   "execution_count": null,
   "id": "34698bf2-d6b8-40ab-9dab-6f149a9c7968",
   "metadata": {},
   "outputs": [],
   "source": []
  }
 ],
 "metadata": {
  "kernelspec": {
   "display_name": "Python 3 (ipykernel)",
   "language": "python",
   "name": "python3"
  },
  "language_info": {
   "codemirror_mode": {
    "name": "ipython",
    "version": 3
   },
   "file_extension": ".py",
   "mimetype": "text/x-python",
   "name": "python",
   "nbconvert_exporter": "python",
   "pygments_lexer": "ipython3",
   "version": "3.9.20"
  }
 },
 "nbformat": 4,
 "nbformat_minor": 5
}
