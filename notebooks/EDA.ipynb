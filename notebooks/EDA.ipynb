{
 "cells": [
  {
   "cell_type": "markdown",
   "id": "4c89a737",
   "metadata": {},
   "source": [
    "# SIPSA Project\n",
    "##### Developed by Sébastien Lozano-Forero\n",
    "\n",
    "\n",
    "## Exploratory Data Analysis\n",
    "\n"
   ]
  },
  {
   "cell_type": "code",
   "execution_count": 1,
   "id": "86d825e2",
   "metadata": {
    "ExecuteTime": {
     "end_time": "2024-10-04T22:51:14.474949Z",
     "start_time": "2024-10-04T22:51:14.081245Z"
    }
   },
   "outputs": [
    {
     "ename": "ModuleNotFoundError",
     "evalue": "No module named 'src'",
     "output_type": "error",
     "traceback": [
      "\u001b[1;31m---------------------------------------------------------------------------\u001b[0m",
      "\u001b[1;31mModuleNotFoundError\u001b[0m                       Traceback (most recent call last)",
      "\u001b[1;32m~\\AppData\\Local\\Temp/ipykernel_16408/4074096196.py\u001b[0m in \u001b[0;36m<module>\u001b[1;34m\u001b[0m\n\u001b[1;32m----> 1\u001b[1;33m \u001b[1;32mfrom\u001b[0m \u001b[0msrc\u001b[0m\u001b[1;33m.\u001b[0m\u001b[0mlogging_setup\u001b[0m \u001b[1;32mimport\u001b[0m \u001b[0msetup_logger\u001b[0m\u001b[1;33m\u001b[0m\u001b[1;33m\u001b[0m\u001b[0m\n\u001b[0m\u001b[0;32m      2\u001b[0m \u001b[1;32mfrom\u001b[0m \u001b[0msrc\u001b[0m\u001b[1;33m.\u001b[0m\u001b[0mProcessHandler\u001b[0m \u001b[1;32mimport\u001b[0m \u001b[0mProcessHandler\u001b[0m\u001b[1;33m\u001b[0m\u001b[1;33m\u001b[0m\u001b[0m\n\u001b[0;32m      3\u001b[0m \u001b[1;32mfrom\u001b[0m \u001b[0mdotenv\u001b[0m \u001b[1;32mimport\u001b[0m \u001b[0mload_dotenv\u001b[0m\u001b[1;33m\u001b[0m\u001b[1;33m\u001b[0m\u001b[0m\n\u001b[0;32m      4\u001b[0m \u001b[1;32mfrom\u001b[0m \u001b[0msqlalchemy\u001b[0m \u001b[1;32mimport\u001b[0m \u001b[0mcreate_engine\u001b[0m\u001b[1;33m\u001b[0m\u001b[1;33m\u001b[0m\u001b[0m\n\u001b[0;32m      5\u001b[0m \u001b[1;32mimport\u001b[0m \u001b[0mboto3\u001b[0m\u001b[1;33m\u001b[0m\u001b[1;33m\u001b[0m\u001b[0m\n",
      "\u001b[1;31mModuleNotFoundError\u001b[0m: No module named 'src'"
     ]
    }
   ],
   "source": [
    "\n",
    "from src.logging_setup import setup_logger\n",
    "from src.ProcessHandler import ProcessHandler\n",
    "from dotenv import load_dotenv\n",
    "from sqlalchemy import create_engine\n",
    "import boto3\n",
    "import os\n",
    "\n",
    "# Loading credentials\n",
    "load_dotenv()\n",
    "aws_access_key_id = os.environ['aws_access_key_id']\n",
    "aws_secret_access_key = os.environ['aws_secret_access_key']\n",
    "    \n",
    "db_user = os.environ['db_user']\n",
    "db_pass = os.environ['db_pass']\n",
    "db_host = os.environ['db_host']\n",
    "db_port = os.environ['db_port']\n",
    "db_name = os.environ['db_name']\n",
    "\n",
    "table_name = os.environ['table_name']\n",
    "bucket_name = os.environ['bucket_name']\n",
    "\n",
    "\n",
    "# Creating connection to database\n",
    "engine = create_engine(f'postgresql://{db_user}:{db_pass}@{db_host}:{db_port}/{db_name}')\n",
    "\n",
    "# Creating boto3 session (access the S3 bucket)\n",
    "s3 = boto3.resource('s3',\n",
    "                    aws_access_key_id = aws_access_key_id, \n",
    "                    aws_secret_access_key = aws_secret_access_key)\n",
    "\n",
    "# Initialize logger\n",
    "logger = setup_logger()\n",
    "\n",
    "\n",
    "sipsa_process = ProcessHandler(s3 = s3, \n",
    "                               engine = engine, \n",
    "                               bucket_name = bucket_name, \n",
    "                               table_name = table_name, \n",
    "                               logger = logger)\n"
   ]
  }
 ],
 "metadata": {
  "kernelspec": {
   "display_name": "Python 3 (ipykernel)",
   "language": "python",
   "name": "python3"
  },
  "language_info": {
   "codemirror_mode": {
    "name": "ipython",
    "version": 3
   },
   "file_extension": ".py",
   "mimetype": "text/x-python",
   "name": "python",
   "nbconvert_exporter": "python",
   "pygments_lexer": "ipython3",
   "version": "3.9.7"
  },
  "toc": {
   "base_numbering": 1,
   "nav_menu": {},
   "number_sections": true,
   "sideBar": true,
   "skip_h1_title": false,
   "title_cell": "Table of Contents",
   "title_sidebar": "Contents",
   "toc_cell": false,
   "toc_position": {},
   "toc_section_display": true,
   "toc_window_display": false
  },
  "varInspector": {
   "cols": {
    "lenName": 16,
    "lenType": 16,
    "lenVar": 40
   },
   "kernels_config": {
    "python": {
     "delete_cmd_postfix": "",
     "delete_cmd_prefix": "del ",
     "library": "var_list.py",
     "varRefreshCmd": "print(var_dic_list())"
    },
    "r": {
     "delete_cmd_postfix": ") ",
     "delete_cmd_prefix": "rm(",
     "library": "var_list.r",
     "varRefreshCmd": "cat(var_dic_list()) "
    }
   },
   "types_to_exclude": [
    "module",
    "function",
    "builtin_function_or_method",
    "instance",
    "_Feature"
   ],
   "window_display": false
  }
 },
 "nbformat": 4,
 "nbformat_minor": 5
}
