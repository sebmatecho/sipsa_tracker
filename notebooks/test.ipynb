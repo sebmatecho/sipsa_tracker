{
 "cells": [
  {
   "cell_type": "markdown",
   "metadata": {},
   "source": [
    "# SIPSA PROJECT\n",
    "### Developed by [Sébastien Lozano-Forero](https://www.linkedin.com/in/sebastienlozanoforero/)\n"
   ]
  },
  {
   "cell_type": "markdown",
   "metadata": {},
   "source": [
    "### Imports"
   ]
  },
  {
   "cell_type": "markdown",
   "metadata": {},
   "source": [
    "## v1.0 full"
   ]
  },
  {
   "cell_type": "markdown",
   "metadata": {},
   "source": [
    "Until early september, this version was the most complete dealing with data transformation for both formats. "
   ]
  },
  {
   "cell_type": "markdown",
   "metadata": {
    "heading_collapsed": true
   },
   "source": [
    "### DataCollector"
   ]
  },
  {
   "cell_type": "code",
   "execution_count": 3,
   "metadata": {
    "ExecuteTime": {
     "end_time": "2024-09-16T14:15:29.447368Z",
     "start_time": "2024-09-16T14:15:29.383168Z"
    },
    "hidden": true
   },
   "outputs": [],
   "source": [
    "# Set up logging\n",
    "logger = logging.getLogger('DataCollectorLogger')\n",
    "logger.setLevel(logging.INFO)\n",
    "\n",
    "# Create a file handler for logging\n",
    "file_handler = logging.FileHandler('data_collector.log', mode='w')\n",
    "file_handler.setLevel(logging.INFO)\n",
    "\n",
    "# Create a logging format\n",
    "formatter = logging.Formatter('%(asctime)s - %(levelname)s - %(message)s')\n",
    "file_handler.setFormatter(formatter)\n",
    "\n",
    "# Add the file handler to the logger\n",
    "logger.addHandler(file_handler)\n",
    "\n",
    "class DataCollector:\n",
    "    def __init__(self, s3: boto3.resource) -> None:\n",
    "        \"\"\"\n",
    "        Initialize the DataCollector with S3 resource and configuration parameters.\n",
    "        \"\"\"\n",
    "        self.url_base = 'https://www.dane.gov.co'\n",
    "        self.url = 'https://www.dane.gov.co/index.php/estadisticas-por-tema/agropecuario/sistema-de-informacion-de-precios-sipsa/mayoristas-boletin-semanal-1'\n",
    "        self.headers = {\n",
    "            \"User-Agent\": \"Mozilla/5.0 (Windows NT 10.0; Win64; x64) AppleWebKit/537.36 (KHTML, like Gecko) Chrome/80.0.3987.149 Safari/537.36\"\n",
    "        }\n",
    "        self.s3 = s3\n",
    "        self.files_tracker_name = 'files_tracker.csv'\n",
    "        self.logfile_name = 'logfile'\n",
    "\n",
    "    def all_years_links(self) -> List[str]:\n",
    "        \"\"\"\n",
    "        Get the set of year links available on the DANE webpage.\n",
    "        \"\"\"\n",
    "        response = requests.get(self.url, headers=self.headers)\n",
    "        soup = BeautifulSoup(response.content, \"html.parser\")\n",
    "        link_years = soup.find_all(lambda tag: tag.name == 'a' and re.match(r'^\\d+$', tag.get_text().strip()))\n",
    "        return link_years\n",
    "\n",
    "    def links_per_year(self, link: str) -> List[str]:\n",
    "        \"\"\"\n",
    "        Get all report links for a specific year.\n",
    "        \"\"\"\n",
    "        r = requests.get(self.url_base + link['href'], headers=self.headers)\n",
    "        logger.info(f\"Working on {link['href'][-4:]} files\")\n",
    "        soup_year = BeautifulSoup(r.content, \"html.parser\")\n",
    "        one_year_links = [item for item in soup_year.find_all(target='_blank') if 'Anexo' in item.text]\n",
    "        return one_year_links\n",
    "\n",
    "    def check_file_exists_in_s3(self, bucket_name: str, file_name: str) -> bool:\n",
    "        \"\"\"\n",
    "        Check if a file already exists in the S3 bucket.\n",
    "        \"\"\"\n",
    "        try:\n",
    "            self.s3.Object(bucket_name, file_name).load()\n",
    "            return True\n",
    "        except ClientError as e:\n",
    "            if e.response['Error']['Code'] == '404':\n",
    "                return False\n",
    "            else:\n",
    "                raise\n",
    "\n",
    "    def load_files_tracker(self, bucket_name: str) -> pd.DataFrame:\n",
    "        \"\"\"\n",
    "        Load the files_tracker.csv from S3 or create a new DataFrame if it does not exist.\n",
    "        \"\"\"\n",
    "        try:\n",
    "            # Check if files_tracker.csv exists in the bucket\n",
    "            obj = self.s3.Object(bucket_name, self.files_tracker_name)\n",
    "            response = obj.get()\n",
    "            tracker_df = pd.read_csv(BytesIO(response['Body'].read()))\n",
    "            logger.info(\"Loaded existing files tracker from S3.\")\n",
    "        except self.s3.meta.client.exceptions.NoSuchKey:\n",
    "            # If files_tracker.csv does not exist, initialize an empty DataFrame\n",
    "            tracker_df = pd.DataFrame(columns=['file', 'link', 'date_added'])\n",
    "            logger.info(\"No existing files tracker found in S3. Creating a new one.\")\n",
    "        except ClientError as e:\n",
    "            if e.response['Error']['Code'] == '404':\n",
    "                tracker_df = pd.DataFrame(columns=['file', 'link', 'date_added'])\n",
    "                logger.info(\"No existing files tracker found in S3. Creating a new one.\")\n",
    "            else:\n",
    "                raise\n",
    "        return tracker_df\n",
    "\n",
    "    def update_files_tracker(self, df: pd.DataFrame, bucket_name: str):\n",
    "        \"\"\"\n",
    "        Update the files_tracker.csv in S3.\n",
    "        \"\"\"\n",
    "        buffer = BytesIO()\n",
    "        df.to_csv(buffer, index=False)\n",
    "        buffer.seek(0)\n",
    "        self.s3.Bucket(bucket_name).put_object(Body=buffer, Key=self.files_tracker_name)\n",
    "        logger.info(\"Files tracker updated successfully in S3.\")\n",
    "\n",
    "    def upload_or_update_dataframe_to_s3(self, df: pd.DataFrame, bucket_name: str, file_name: str):\n",
    "        \"\"\"\n",
    "        Upload or update a DataFrame as a CSV file to an S3 bucket.\n",
    "        \"\"\"\n",
    "        # Convert DataFrame to CSV in memory\n",
    "        buffer = BytesIO()\n",
    "        df.to_csv(buffer, index=False)\n",
    "        buffer.seek(0)\n",
    "        self.s3.Bucket(bucket_name).upload_fileobj(buffer, file_name, ExtraArgs={'ContentType': 'text/csv'})\n",
    "        logger.info(f\"DataFrame {file_name} uploaded successfully to S3 bucket {bucket_name}.\")\n",
    "\n",
    "    def download_files_per_year(self, link, bucket_name: str = None):\n",
    "        \"\"\"\n",
    "        Download all files for a specific year and optionally upload them directly to an S3 bucket.\n",
    "\n",
    "        Args:\n",
    "            link (str): The link for a specific year.\n",
    "            bucket_name (str, optional): The name of the S3 bucket to upload the files to. Defaults to None.\n",
    "        \"\"\"\n",
    "        links_per_year = self.links_per_year(link)\n",
    "        n = len(links_per_year)\n",
    "\n",
    "        tracker_df = self.load_files_tracker(bucket_name) if bucket_name else None\n",
    "\n",
    "        new_files_count = 0\n",
    "\n",
    "        with tqdm(total=n, desc=f\"Processing {link['href'][-4:]} files\", unit='file') as pbar:\n",
    "            for i, file in enumerate(links_per_year):\n",
    "                file_name = f'week_{n - i}_{file[\"href\"].split(\"/\")[-1]}'\n",
    "                file_link = self.url_base + file['href']\n",
    "\n",
    "                if bucket_name and file_name in tracker_df['file'].values:\n",
    "                    pbar.update(1)\n",
    "                    continue\n",
    "\n",
    "                try:\n",
    "                    with requests.get(file_link, headers=self.headers, stream=True) as result:\n",
    "                        result.raise_for_status()\n",
    "\n",
    "                        if bucket_name:\n",
    "                            destination_key = f'reports/{link.text.strip()}/{file_name}'\n",
    "                            self.s3.Bucket(bucket_name).upload_fileobj(result.raw, destination_key)\n",
    "\n",
    "                            new_entry = pd.DataFrame({\n",
    "                                'file': [file_name],\n",
    "                                'link': [file_link],\n",
    "                                'date_added': [datetime.datetime.today().strftime('%Y-%m-%d')]\n",
    "                            })\n",
    "                            tracker_df = pd.concat([tracker_df, new_entry], ignore_index=True)\n",
    "                            new_files_count += 1\n",
    "\n",
    "                except requests.RequestException as e:\n",
    "                    logger.error(f\"Failed to download file from {file['href']}: {e}\")\n",
    "                    continue\n",
    "                except ClientError as e:\n",
    "                    logger.error(f\"Failed to upload file {file_name} to S3 bucket {bucket_name}: {e}\")\n",
    "                    continue\n",
    "                finally:\n",
    "                    pbar.update(1)\n",
    "\n",
    "        if bucket_name:\n",
    "            self.update_files_tracker(tracker_df, bucket_name)\n",
    "            logger.info(f\"Year {link['href'][-4:]} processed: {new_files_count} new files uploaded to S3 bucket {bucket_name}.\")\n",
    "\n",
    "    def get_files(self, bucket_name: str = None):\n",
    "        \"\"\"\n",
    "        Download all files from all years and optionally upload them to an S3 bucket.\n",
    "        \"\"\"\n",
    "        all_years_links = self.all_years_links()\n",
    "        for link in all_years_links:\n",
    "            self.download_files_per_year(link, bucket_name)\n",
    "\n",
    "        # Upload log file to S3 after processing\n",
    "        if bucket_name:\n",
    "            try:\n",
    "                self.s3.Bucket(bucket_name).upload_file('data_collector.log', self.logfile_name)\n",
    "                logger.info(f\"Log file {self.logfile_name} uploaded successfully to S3 bucket {bucket_name}.\")\n",
    "            except ClientError as e:\n",
    "                logger.error(f\"Failed to upload log file to S3 bucket {bucket_name}: {e}\")\n",
    "\n",
    "    def display_files_tracker(self, bucket_name: str) -> pd.DataFrame:\n",
    "        \"\"\"\n",
    "        Display the DataFrame contained in the files_tracker.csv file from the S3 bucket.\n",
    "\n",
    "        Args:\n",
    "            bucket_name (str): The name of the S3 bucket where files_tracker.csv is stored.\n",
    "\n",
    "        Returns:\n",
    "            pd.DataFrame: The contents of files_tracker.csv as a pandas DataFrame.\n",
    "        \"\"\"\n",
    "        try:\n",
    "            # Check if files_tracker.csv exists in the bucket\n",
    "            obj = self.s3.Object(bucket_name, self.files_tracker_name)\n",
    "            response = obj.get()\n",
    "            tracker_df = pd.read_csv(BytesIO(response['Body'].read()))\n",
    "            logger.info(\"Loaded files_tracker.csv from S3 successfully.\")\n",
    "        except self.s3.meta.client.exceptions.NoSuchKey:\n",
    "            logger.warning(\"files_tracker.csv does not exist in S3.\")\n",
    "            return pd.DataFrame()  # Return an empty DataFrame if the file does not exist\n",
    "        except ClientError as e:\n",
    "            logger.error(f\"Failed to load files_tracker.csv from S3: {e}\")\n",
    "            return pd.DataFrame()  # Return an empty DataFrame if there was an error\n",
    "\n",
    "        # Display the DataFrame\n",
    "        return tracker_df\n"
   ]
  },
  {
   "cell_type": "markdown",
   "metadata": {
    "heading_collapsed": true
   },
   "source": [
    "### FileNameBuilder"
   ]
  },
  {
   "cell_type": "code",
   "execution_count": 4,
   "metadata": {
    "ExecuteTime": {
     "end_time": "2024-09-16T14:15:30.358178Z",
     "start_time": "2024-09-16T14:15:30.336178Z"
    },
    "hidden": true
   },
   "outputs": [],
   "source": [
    "import logging\n",
    "from pathlib import Path\n",
    "import boto3\n",
    "\n",
    "class FileNameBuilder(DataCollector): \n",
    "    def __init__(self, s3: boto3.resource): \n",
    "        \"\"\"\n",
    "        Initialize FileNameBuilder with S3 resource.\n",
    "\n",
    "        Args:\n",
    "            s3 (boto3.resource): The boto3 S3 resource to interact with S3.\n",
    "        \"\"\"\n",
    "        super().__init__(s3)\n",
    "\n",
    "    def first_format_paths(self, bucket_name: str) -> list:\n",
    "        \"\"\"\n",
    "        Get the paths of files in the S3 bucket that match the first format criteria.\n",
    "\n",
    "        Args:\n",
    "            bucket_name (str): The name of the S3 bucket.\n",
    "\n",
    "        Returns:\n",
    "            list: A list of file paths that match the first format.\n",
    "        \"\"\"\n",
    "        logger.info(f\"Fetching first format paths from bucket: {bucket_name}\")\n",
    "        bucket = self.s3.Bucket(bucket_name)\n",
    "        object_names = [obj.key for obj in bucket.objects.all()]\n",
    "        \n",
    "        first_format_years = set(['2012', '2013', '2014', '2015', '2016', '2017', '2018'])\n",
    "        final_files_paths_first = []\n",
    "\n",
    "        for path in object_names:\n",
    "            try:\n",
    "                year = str(Path(path).parts[1])\n",
    "                week = int(Path(path).stem.split('_')[1])\n",
    "\n",
    "                # Check for files in years prior to 2018 and specific weeks in 2018\n",
    "                if year in first_format_years:\n",
    "                    if year == '2018' and week > 19:\n",
    "                        continue\n",
    "                    final_files_paths_first.append(path)\n",
    "                    logger.debug(f\"File added to first format: {path}\")\n",
    "\n",
    "            except (IndexError, ValueError) as e:\n",
    "                logger.warning(f\"Error processing path {path}: {e}\")\n",
    "        \n",
    "        logger.info(f\"Found {len(final_files_paths_first)} files for the first format.\")\n",
    "        return final_files_paths_first\n",
    "\n",
    "    def second_format_paths(self, bucket_name: str) -> list:\n",
    "        \"\"\"\n",
    "        Get the paths of files in the S3 bucket that match the second format criteria.\n",
    "\n",
    "        Args:\n",
    "            bucket_name (str): The name of the S3 bucket.\n",
    "\n",
    "        Returns:\n",
    "            list: A list of file paths that match the second format.\n",
    "        \"\"\"\n",
    "        logger.info(f\"Fetching second format paths from bucket: {bucket_name}\")\n",
    "        bucket = self.s3.Bucket(bucket_name)\n",
    "        object_names = [obj.key for obj in bucket.objects.all()]\n",
    "        \n",
    "        second_format_years = set(['2018', '2019', '2020', '2021', '2022', '2023', '2024'])\n",
    "        final_files_paths_second = []\n",
    "\n",
    "        for path in object_names:\n",
    "            try:\n",
    "                year = str(Path(path).parts[1])\n",
    "                week = int(Path(path).stem.split('_')[1])\n",
    "\n",
    "                # Check for files in years after 2018 and specific weeks in 2018\n",
    "                if year in second_format_years:\n",
    "                    if year == '2018' and week <= 19:\n",
    "                        continue\n",
    "                    final_files_paths_second.append(path)\n",
    "                    logger.debug(f\"File added to second format: {path}\")\n",
    "\n",
    "            except (IndexError, ValueError) as e:\n",
    "                logger.warning(f\"Error processing path {path}: {e}\")\n",
    "        \n",
    "        logger.info(f\"Found {len(final_files_paths_second)} files for the second format.\")\n",
    "        return final_files_paths_second\n"
   ]
  },
  {
   "cell_type": "markdown",
   "metadata": {
    "heading_collapsed": true
   },
   "source": [
    "### DataWrangler"
   ]
  },
  {
   "cell_type": "code",
   "execution_count": 7,
   "metadata": {
    "ExecuteTime": {
     "end_time": "2024-09-16T10:25:13.219474Z",
     "start_time": "2024-09-16T10:25:13.083897Z"
    },
    "hidden": true
   },
   "outputs": [],
   "source": [
    "class DataWrangler(FileNameBuilder):\n",
    "    def __init__(self, \n",
    "                 bucket_name:str, \n",
    "                 s3: boto3.resource):\n",
    "        super().__init__(s3)\n",
    "        self.bucket_name = bucket_name\n",
    "        self.s3 = s3\n",
    "        self.categories_dict = categories_dict\n",
    "        self.city_to_region = city_to_region\n",
    "\n",
    "\n",
    "    def first_format_data_extraction(self,\n",
    "                                    file_path:str)-> pd.DataFrame:\n",
    "        \"\"\"\n",
    "        Extracts and processes data from an Excel file stored in an S3 bucket, handling multiple file formats.\n",
    "\n",
    "        This function attempts to retrieve an Excel file from a specified S3 bucket and process its data.\n",
    "        It uses two different engines (`openpyxl` and `xlrd`) to read the file, as some files may require \n",
    "        different engines depending on their format. If both attempts fail, an error message is logged. \n",
    "        It also filters the data to only include rows where the first column contains alphabetic characters \n",
    "        (words) and is not empty.\n",
    "\n",
    "        Args:\n",
    "            s3 (boto3.resource): A Boto3 resource object used to access the S3 bucket.\n",
    "            bucket_name (str): The name of the S3 bucket where the file is stored.\n",
    "            file_path (str): The key (path) of the file within the S3 bucket.\n",
    "\n",
    "        Returns:\n",
    "            pd.DataFrame: A pandas DataFrame containing the data from the file. If an error occurs or the \n",
    "                          file cannot be read, an empty DataFrame is returned.\n",
    "\n",
    "        Processing:\n",
    "        - Retrieves the file from the specified S3 bucket.\n",
    "        - Attempts to read the file using the `openpyxl` engine for `.xlsx` files first. If that fails, \n",
    "          it tries using the `xlrd` engine for `.xls` files.\n",
    "        - Filters the DataFrame to include only rows where the first column contains alphabetic characters \n",
    "          and is not NaN.\n",
    "\n",
    "        Example Usage:\n",
    "            first_format_data_extraction(s3, bucket_name, file_path)\n",
    "\n",
    "        Notes:\n",
    "            - This function is designed to handle files stored in S3 and may require appropriate AWS \n",
    "              credentials to access the S3 bucket.\n",
    "            - It assumes that the data file is an Excel format (`.xlsx` or `.xls`), and will print a warning \n",
    "              if the file cannot be processed.\n",
    "            - The function does not currently handle other file formats (e.g., `.csv`, `.json`).\n",
    "        \"\"\"\n",
    "        bucket = self.s3.Bucket(self.bucket_name)\n",
    "        obj = bucket.Object(file_path)\n",
    "\n",
    "        # Determine file format by extension\n",
    "    #     file_extension = Path(file_path).suffix.lower()\n",
    "    #     print(f\"Processing file: {file_path}, with extension: {file_extension}\")\n",
    "\n",
    "        # Try to read the file from S3\n",
    "\n",
    "        xls_data = obj.get()['Body'].read()\n",
    "\n",
    "        try: \n",
    "            dataframe = pd.read_excel(BytesIO(xls_data), engine='openpyxl') \n",
    "        except: \n",
    "            try:\n",
    "                dataframe = pd.read_excel(BytesIO(xls_data), engine='xlrd')\n",
    "            except: \n",
    "                print(f'[INFO] {file_path} failed to download')\n",
    "\n",
    "\n",
    "        if dataframe.shape[0]>0: \n",
    "            dataframe = dataframe[dataframe[dataframe.columns[0]].apply(lambda x: bool(re.search(r'[a-zA-Z]', str(x))) and pd.notna(x))]\n",
    "\n",
    "    # Using a classifier for the extension proved to be a wrong idea as some of the files with one extension would \n",
    "    # work with command from another one. \n",
    "    #     # Handle .xlsx files with openpyxl engine\n",
    "    #     if file_extension == '.xlsx':\n",
    "    #         dataframe = pd.read_excel(BytesIO(xls_data), engine='openpyxl')\n",
    "\n",
    "    #     # Handle .xls files with xlrd engine\n",
    "    #     elif file_extension == '.xls':\n",
    "    #         dataframe = pd.read_excel(BytesIO(xls_data), engine='xlrd')\n",
    "    #     else:\n",
    "    #         print(f\"Unsupported file extension: {file_path}\")\n",
    "    #         dataframe = pd.DataFrame()  # Handle unsupported file extensions\n",
    "\n",
    "        return dataframe\n",
    "\n",
    "    def first_format_data_transformation(self,\n",
    "                                         dataframe: pd.DataFrame, \n",
    "                                         file_path:str) -> pd.DataFrame:\n",
    "        \"\"\"\n",
    "        Transforms the raw data extracted from a file into a structured format with relevant categories and products.\n",
    "\n",
    "        This function processes the raw data extracted from an Excel file, organizing it into various food categories and\n",
    "        associated products. The transformation includes:\n",
    "        - Keeping the first five columns and renaming them.\n",
    "        - Removing rows where the 'ciudad' column is null.\n",
    "        - Identifying food categories based on sections of the file marked by the word 'cuadro'.\n",
    "        - Within each food category, identifying product blocks based on blank values in the 'precio_minimo' column.\n",
    "        - Adding relevant metadata such as the week number and year from the file path.\n",
    "\n",
    "        Args:\n",
    "            dataframe (pd.DataFrame): The raw data extracted from an Excel file.\n",
    "            file_path (str): The file path or S3 key from which the file was downloaded. Used to extract metadata such as the \n",
    "                             year and week number.\n",
    "\n",
    "        Returns:\n",
    "            pd.DataFrame: A structured DataFrame with cleaned and organized data. The resulting DataFrame will have the \n",
    "                          following columns: \n",
    "                          - 'ciudad': The city where the prices were recorded.\n",
    "                          - 'precio_minimo': The minimum price for the product.\n",
    "                          - 'precio_maximo': The maximum price for the product.\n",
    "                          - 'precio_medio': The average price for the product.\n",
    "                          - 'tendencia': The trend for the product's price.\n",
    "                          - 'categoria': The food category to which the product belongs (e.g., 'verduras_hortalizas').\n",
    "                          - 'producto': The specific product being tracked.\n",
    "                          - 'mercado': The marketplace where the product was sold (if available).\n",
    "                          - 'semana_no': The week number, extracted from the file name.\n",
    "                          - 'anho': The year, extracted from the file name.\n",
    "\n",
    "        Processing Steps:\n",
    "        - The function first cleans the data by retaining only relevant columns and removing rows with missing cities.\n",
    "        - It identifies sections of the data marked by the word 'cuadro' and treats them as different food categories.\n",
    "        - Each category is further broken down into products, where blank values in the 'precio_minimo' column indicate \n",
    "          the beginning of a new product block.\n",
    "        - City and marketplace names are cleaned and standardized.\n",
    "        - Week number and year information is added based on the file name.\n",
    "\n",
    "        Example Usage:\n",
    "            dataframe = pd.read_excel('my_file.xlsx')\n",
    "            transformed_df = first_format_data_transformation(dataframe, 'data/week_12_2023.xlsx')\n",
    "\n",
    "        Notes:\n",
    "            - The function expects that the raw data follows a specific structure with 'cuadro' as a marker for categories and \n",
    "              blank 'precio_minimo' values as markers for products within categories.\n",
    "            - It assumes that the file name contains metadata, specifically the week number and year, in the format 'week_<number>_<year>.xlsx'.\n",
    "            - The function handles exceptions silently (e.g., missing 'cuadro' titles) and skips problematic parts of the data.\n",
    "            - 'reports/2015/week_16_Anexo_13_17abr_2015.xls' fails \n",
    "        \"\"\"\n",
    "        # Keep only the first five columns and rename them\n",
    "        dataframe = dataframe.iloc[:, 0:5]\n",
    "        dataframe.columns = ['ciudad', 'precio_minimo', 'precio_maximo', 'precio_medio', 'tendencia']\n",
    "        dataframe['ciudad'] = dataframe['ciudad'].str.lower().str.replace('bogotá, d.c.', 'bogota')\n",
    "\n",
    "        # Remove rows where 'ciudad' is null\n",
    "        dataframe = dataframe[~dataframe['ciudad'].isnull()]\n",
    "\n",
    "        # This formatting would have eight food categories within the same spreadsheet divided only by a big title.\n",
    "        # Such title would include the word 'cuadro'. So, to separate categories, we look for blocks of data contained\n",
    "        # within two consecutive appearances of such words.\n",
    "\n",
    "        # Get row indexes where the word 'cuadro' is present\n",
    "        index_cuadro = dataframe[dataframe['ciudad'].str.contains('cuadro')].index\n",
    "\n",
    "        # Creating target dataframe for all data\n",
    "        df_final = pd.DataFrame()\n",
    "\n",
    "        # Iterating over food categories.\n",
    "        for i_categoria in range(len(index_cuadro) + 1):\n",
    "            # week 16 of 2015 does not have the 'cuadro' titles. \n",
    "            try:\n",
    "                # Capturing first category\n",
    "                if i_categoria == 0:\n",
    "                    dataframe_categoria = dataframe[1:index_cuadro[i_categoria]]\n",
    "                # capturing intermediate categories\n",
    "                elif (i_categoria <= 6) and (i_categoria > 0):\n",
    "                    dataframe_categoria = dataframe[index_cuadro[i_categoria - 1] + 2:index_cuadro[i_categoria]]\n",
    "                # Capturing last category\n",
    "                else:\n",
    "                    dataframe_categoria = dataframe[index_cuadro[i_categoria - 1] + 2:]\n",
    "\n",
    "                # Within each category block, add category name\n",
    "                dataframe_categoria['categoria'] = self.categories_dict[i_categoria + 1]\n",
    "\n",
    "                # within each category block, there are several products. In the whole reporting, products are very likely to\n",
    "                # contain several rows (same food item in different locations). What identifies such product blocks is the\n",
    "                # fact that the precio_minimo column will be blank. So the product data would be contain within two\n",
    "                # consecutive occurrences of blank prices.\n",
    "                index_producto = dataframe_categoria[dataframe_categoria['precio_minimo'].isnull()].index\n",
    "\n",
    "                # creating target data frame for product category\n",
    "                df_categoria_final = pd.DataFrame()\n",
    "\n",
    "                # Iterating over products within food category\n",
    "                for i_producto in range(len(index_producto)):\n",
    "\n",
    "                    # Capturing the first product in the category\n",
    "                    if i_producto == 0:\n",
    "                        dataframe_producto = dataframe_categoria.loc[\n",
    "                                            index_producto[i_producto] - 1:index_producto[i_producto + 1] - 1].reset_index(\n",
    "                            drop=True)\n",
    "\n",
    "                    # Capturing all intermediate products\n",
    "                    elif i_producto < len(index_producto) - 1:\n",
    "                        dataframe_producto = dataframe_categoria.loc[\n",
    "                                        index_producto[i_producto]:index_producto[i_producto + 1] - 1].reset_index(\n",
    "                                drop=True)\n",
    "\n",
    "                    # Capturing last product within category\n",
    "                    else:\n",
    "                        dataframe_producto = dataframe_categoria.loc[index_producto[i_producto]:].reset_index(drop=True)\n",
    "\n",
    "                    # Adding product name column to each block of products\n",
    "                    dataframe_producto['producto'] = dataframe_producto['ciudad'][0]\n",
    "\n",
    "                    # Keeping only city name under the ciudad column\n",
    "                    dataframe_producto['ciudad'] = dataframe_producto['ciudad'].str.replace(r'\\s*\\([^)]*\\)', '', regex=True)\n",
    "\n",
    "                    # The name of the marketplaces is included on some of the city names. So we try to retrieve it\n",
    "                    try:\n",
    "                        dataframe_producto['mercado'] = dataframe_producto['ciudad'].str.split(',').str[1].str.strip()\n",
    "                    except:\n",
    "                        dataframe_producto['mercado'] = np.nan\n",
    "\n",
    "                    # Getting a clean version of city name\n",
    "                    try:\n",
    "                        dataframe_producto['ciudad'] = dataframe_producto['ciudad'].str.split(',').str[0].str.strip()\n",
    "                    except:\n",
    "                        None\n",
    "\n",
    "                    # Dropping first row\n",
    "                    dataframe_producto = dataframe_producto.drop(0)\n",
    "\n",
    "                    # Putting together all data for products within food category\n",
    "                    df_categoria_final = pd.concat([df_categoria_final, dataframe_producto], ignore_index=True)\n",
    "\n",
    "                # Putting together all data\n",
    "                df_final = pd.concat([df_final, df_categoria_final], ignore_index=True)\n",
    "            except: \n",
    "                None\n",
    "            # Once data per file is complete, time stamps are added: year and week number\n",
    "            df_final['semana_no'] = int(Path(file_path).name.split('_')[1])  # file_path.stem[5:7]\n",
    "            df_final['anho'] = Path(file_path).stem[-4:]\n",
    "        try: \n",
    "            df_final = df_final[['producto', 'ciudad', 'precio_minimo', 'precio_maximo', 'precio_medio',\n",
    "           'tendencia', 'categoria', 'mercado', 'semana_no', 'anho']]\n",
    "        except: \n",
    "            print(f'[INFO] {file_path} has no all columns')\n",
    "\n",
    "        return df_final\n",
    "\n",
    "\n",
    "\n",
    "    def second_format_data_extraction(self, \n",
    "                                      file_path:str) -> pd.DataFrame:\n",
    "        \"\"\"\n",
    "        Extracts and processes data from an Excel file stored in an S3 bucket using multiple sheets for the second format.\n",
    "\n",
    "        This function retrieves an Excel file from the specified S3 bucket and processes its data, which is spread across\n",
    "        multiple sheets (typically 8). It handles two possible formats (`openpyxl` for `.xlsx` and `xlrd` for `.xls`), attempting \n",
    "        both methods if necessary. The function extracts the relevant data from each sheet, processes it, and returns a combined \n",
    "        DataFrame.\n",
    "\n",
    "        Args:\n",
    "            s3 (boto3.resource): A Boto3 resource object used to access the S3 bucket.\n",
    "            bucket_name (str): The name of the S3 bucket where the file is stored.\n",
    "            file_path (str): The key (path) of the file within the S3 bucket.\n",
    "\n",
    "        Returns:\n",
    "            pd.DataFrame: A combined pandas DataFrame with data extracted from all relevant sheets in the Excel file. \n",
    "                          The resulting DataFrame will have the following columns:\n",
    "                          - 'producto': The product being tracked.\n",
    "                          - 'ciudad': The city where the prices were recorded.\n",
    "                          - 'precio_minimo': The minimum price for the product.\n",
    "                          - 'precio_maximo': The maximum price for the product.\n",
    "                          - 'precio_medio': The average price for the product.\n",
    "                          - 'tendencia': The trend for the product's price.\n",
    "                          - 'categoria': The food category of the product.\n",
    "                          - 'mercado': The marketplace where the product was sold (if available).\n",
    "                          - 'semana_no': The week number, extracted from the file name.\n",
    "                          - 'anho': The year, extracted from the file name.\n",
    "\n",
    "        Processing Steps:\n",
    "        - The function retrieves the file from S3 using the provided `file_path` and reads the Excel data using both the `openpyxl`\n",
    "          and `xlrd` engines as necessary.\n",
    "        - It extracts the names of all the sheets in the file.\n",
    "        - For each sheet, it processes the data by:\n",
    "          - Renaming columns to a standardized format.\n",
    "          - Removing rows with missing city names.\n",
    "          - Cleaning city and marketplace names.\n",
    "          - Adding metadata like the product category, week number, and year from the file name.\n",
    "        - The processed data from all sheets is concatenated into a single DataFrame and returned.\n",
    "\n",
    "        Example Usage:\n",
    "            s3 = boto3.resource('s3')\n",
    "            bucket_name = 'my-bucket'\n",
    "            file_path = 'data/week_12_2023.xlsx'\n",
    "            dataframe = second_format_data_extraction(s3, bucket_name, file_path)\n",
    "\n",
    "        Notes:\n",
    "            - The function handles both `.xlsx` and `.xls` formats. It will try to read the file with `openpyxl` first, \n",
    "              then fall back to `xlrd` if needed.\n",
    "            - The function assumes that the file has a specific structure, including multiple sheets, and that the \n",
    "              sheet names can be used to extract data relevant to food categories.\n",
    "            - Errors encountered while processing specific files or sheets are logged but not raised, allowing the function \n",
    "              to continue processing other files.\n",
    "        \"\"\"\n",
    "        bucket = self.s3.Bucket(self.bucket_name)\n",
    "        obj = bucket.Object(file_path)\n",
    "        #  Read the Excel file from S3\n",
    "        xls_data = obj.get()['Body'].read()\n",
    "\n",
    "        # Create an ExcelFile object with specified encoding\n",
    "        try: \n",
    "            xl = pd.ExcelFile(BytesIO(xls_data), engine='openpyxl') \n",
    "        except: \n",
    "            try:\n",
    "                xl = pd.ExcelFile(BytesIO(xls_data), engine='xlrd')\n",
    "            except: \n",
    "                print(f'[INFO] {file_path} failed to download')\n",
    "        # Get the list of sheet names\n",
    "        ref_dic = {i: xl.sheet_names[i] for i in range(len(xl.sheet_names))}\n",
    "\n",
    "\n",
    "        full_dataframe = pd.DataFrame()\n",
    "        for index in range(1,9):\n",
    "\n",
    "            try: \n",
    "                dataframe = pd.read_excel(BytesIO(xls_data), engine='openpyxl', sheet_name = ref_dic[index]) \n",
    "            except: \n",
    "                try:\n",
    "                    dataframe = pd.read_excel(BytesIO(xls_data), engine='xlrd', sheet_name = ref_dic[index])\n",
    "                except: \n",
    "                    print(f'[INFO] {file_path} failed to download')\n",
    "\n",
    "            if file_path == 'reports/2018/week_20_Sem_12may__18may_2018.xlsx':\n",
    "                dataframe['mercado'] = dataframe['Mercado mayorista'].str.split(',').str[1].str.strip()\n",
    "                dataframe['ciudad'] = dataframe['Mercado mayorista'].str.split(',').str[0].str.strip()\n",
    "                dataframe.columns = dataframe.columns.str.lower().str.replace(' ','_').str.replace('í','i').str.replace('á','a')\n",
    "            else:\n",
    "\n",
    "                if pd.isnull(dataframe.iloc[9, 0]):\n",
    "                    dataframe = dataframe.iloc[10:, :6]\n",
    "                else:\n",
    "                    dataframe = dataframe.iloc[9:, :6]\n",
    "                dataframe.columns = ['producto', 'ciudad', 'precio_minimo', 'precio_maximo', 'precio_medio', 'tendencia']\n",
    "            dataframe = dataframe[~dataframe['ciudad'].isnull()]\n",
    "            dataframe['ciudad'] = dataframe['ciudad'].str.replace(r'\\s*\\([^)]*\\)', '', regex=True)\n",
    "            dataframe['ciudad'] = dataframe['ciudad'].str.lower().str.replace('bogotá, d.c.', 'bogota')\n",
    "            dataframe['ciudad'] = dataframe['ciudad'].str.replace(r'\\s*\\([^)]*\\)', '', regex=True)\n",
    "\n",
    "            # Adding categoria and ciudad info\n",
    "            dataframe['categoria'] = categories_dict[index]\n",
    "\n",
    "\n",
    "            # The name of the marketplaces is included on some of the city names. So we try to retrieve it\n",
    "            try:\n",
    "                dataframe['mercado'] = dataframe['ciudad'].str.split(',').str[1].str.strip()\n",
    "            except:\n",
    "                dataframe['mercado'] = np.nan\n",
    "\n",
    "            # Getting a clean version of city name\n",
    "            try:\n",
    "                dataframe['ciudad'] = dataframe['ciudad'].str.split(',').str[0].str.strip()\n",
    "            except:\n",
    "                pass\n",
    "\n",
    "            # Once data per file is complete, time stamps are added: year and week number\n",
    "            dataframe['semana_no'] = int(Path(file_path).name.split('_')[1])  # file_path.stem[5:7]\n",
    "            dataframe['anho'] = Path(file_path).stem[-4:]\n",
    "            full_dataframe = full_dataframe.append(dataframe)\n",
    "        full_dataframe = full_dataframe.reset_index(drop = True)\n",
    "\n",
    "        try: \n",
    "            full_dataframe = full_dataframe[['producto', 'ciudad', 'precio_minimo', 'precio_maximo', 'precio_medio',\n",
    "           'tendencia', 'categoria', 'mercado', 'semana_no', 'anho']]\n",
    "        except: \n",
    "            print(f'[INFO] {file_path} has not all columns')\n",
    "        return full_dataframe\n",
    "\n",
    "    def building_complete_report(self):\n",
    "        \"\"\"\n",
    "    Constructs a complete report by extracting and transforming data from two different file formats stored in an S3 bucket.\n",
    "\n",
    "    This method processes two batches of files from an S3 bucket:\n",
    "    \n",
    "    - The first batch is associated with a specific format used for files prior to and including the 19th week of 2018.\n",
    "    - The second batch is associated with files from after the 19th week of 2018.\n",
    "    \n",
    "    For each batch:\n",
    "    \n",
    "    1. The method retrieves the file paths for both formats from S3.\n",
    "    2. For the first format, it extracts the data from each file and applies the required transformations before appending it to a final DataFrame.\n",
    "    3. For the second format, it extracts the data from each file and appends it to a final DataFrame.\n",
    "    4. The method finally concatenates both DataFrames (from the two formats) into a single complete report.\n",
    "\n",
    "    Returns:\n",
    "        pd.DataFrame: A concatenated DataFrame containing all the data from both file formats, fully extracted and transformed.\n",
    "\n",
    "    Workflow:\n",
    "    - Calls `FileNameBuilder.first_format_paths()` to get file paths for the first format.\n",
    "    - Calls `FileNameBuilder.second_format_paths()` to get file paths for the second format.\n",
    "    - For each file in the first batch:\n",
    "        - Uses `first_format_data_extraction()` to extract data from the file.\n",
    "        - Uses `first_format_data_transformation()` to transform the extracted data.\n",
    "    - For each file in the second batch:\n",
    "        - Uses `second_format_data_extraction()` to extract data from the file.\n",
    "    - Finally, concatenates the processed data from both batches into one DataFrame.\n",
    "\n",
    "    Args:\n",
    "        None\n",
    "\n",
    "    Returns:\n",
    "        pd.DataFrame: A DataFrame containing all data from both formats processed and concatenated together.\n",
    "\n",
    "    Example:\n",
    "        report = self.building_complete_report()\n",
    "    \n",
    "    \"\"\"\n",
    "        file_names = FileNameBuilder(s3 = self.s3)\n",
    "        first_format_paths_aws = file_names.first_format_paths(bucket_name = self.bucket_name)\n",
    "        second_format_paths_aws = file_names.second_format_paths(bucket_name = self.bucket_name)\n",
    "        first_format_final = pd.DataFrame()\n",
    "        print('[INFO] First batch of files')\n",
    "        # print(path_to_file_in_aws)\n",
    "        for file_path in tqdm(first_format_paths_aws):\n",
    "            dataframe = self.first_format_data_extraction(file_path = file_path)\n",
    "\n",
    "            first_format_final = first_format_final.append(\n",
    "                self.first_format_data_transformation(dataframe = dataframe, \n",
    "                                                      file_path = file_path)\n",
    "            )\n",
    "        print('[INFO] second batch of files')\n",
    "        second_format_final = pd.DataFrame()\n",
    "        for file_path in tqdm(second_format_paths_aws):\n",
    "            second_format_final = second_format_final.append(self.second_format_data_extraction(file_path = file_path))\n",
    "\n",
    "\n",
    "        return pd.concat([first_format_final,second_format_final])"
   ]
  },
  {
   "cell_type": "markdown",
   "metadata": {},
   "source": [
    "## v2.0 development "
   ]
  },
  {
   "cell_type": "markdown",
   "metadata": {},
   "source": [
    "### Logging "
   ]
  },
  {
   "cell_type": "code",
   "execution_count": 44,
   "metadata": {
    "ExecuteTime": {
     "end_time": "2024-09-28T15:53:20.242790Z",
     "start_time": "2024-09-28T15:53:20.210246Z"
    }
   },
   "outputs": [],
   "source": [
    "%%writefile\n",
    "\n",
    "import logging\n",
    "import sys\n",
    "\n",
    "# Configure logging\n",
    "def setup_logger():\n",
    "    logger = logging.getLogger(__name__)\n",
    "    logger.setLevel(logging.INFO)\n",
    "\n",
    "    # Create handlers\n",
    "    c_handler = logging.StreamHandler(sys.stdout)\n",
    "    f_handler = logging.FileHandler('data_collector.log', mode='w')\n",
    "\n",
    "    # Set levels\n",
    "    c_handler.setLevel(logging.INFO)\n",
    "    f_handler.setLevel(logging.INFO)\n",
    "\n",
    "    # Create formatters and add them to handlers\n",
    "    formatter = logging.Formatter('%(asctime)s - %(levelname)s - %(message)s')\n",
    "    c_handler.setFormatter(formatter)\n",
    "    f_handler.setFormatter(formatter)\n",
    "\n",
    "    # Add handlers to the logger\n",
    "    logger.addHandler(c_handler)\n",
    "    logger.addHandler(f_handler)\n",
    "\n",
    "    return logger\n",
    "\n",
    "# Initialize logger\n",
    "logger = setup_logger()\n"
   ]
  },
  {
   "cell_type": "markdown",
   "metadata": {},
   "source": [
    "### DataCollector"
   ]
  },
  {
   "cell_type": "code",
   "execution_count": 45,
   "metadata": {
    "ExecuteTime": {
     "end_time": "2024-09-28T15:53:20.745734Z",
     "start_time": "2024-09-28T15:53:20.660982Z"
    }
   },
   "outputs": [],
   "source": [
    "import boto3\n",
    "import requests\n",
    "import re\n",
    "from bs4 import BeautifulSoup\n",
    "import pandas as pd\n",
    "import datetime\n",
    "from io import BytesIO\n",
    "from typing import List\n",
    "from botocore.exceptions import ClientError\n",
    "from pathlib import Path\n",
    "from tqdm import tqdm\n",
    "\n",
    "class DataCollector:\n",
    "    def __init__(self, s3: boto3.resource) -> None:\n",
    "        \"\"\"\n",
    "        Initialize the DataCollector with S3 resource and configuration parameters.\n",
    "        \"\"\"\n",
    "        self.url_base = 'https://www.dane.gov.co'\n",
    "        self.url = 'https://www.dane.gov.co/index.php/estadisticas-por-tema/agropecuario/sistema-de-informacion-de-precios-sipsa/mayoristas-boletin-semanal-1'\n",
    "        self.headers = {\n",
    "            \"User-Agent\": \"Mozilla/5.0 (Windows NT 10.0; Win64; x64)\"\n",
    "        }\n",
    "        self.s3 = s3\n",
    "        self.files_tracker_name = 'files_tracker.csv'\n",
    "        self.logfile_name = 'logfile'\n",
    "\n",
    "    def all_years_links(self) -> List[BeautifulSoup]:\n",
    "        \"\"\"\n",
    "        Get the set of year links available on the DANE webpage.\n",
    "        \"\"\"\n",
    "        try:\n",
    "            response = requests.get(self.url, headers=self.headers)\n",
    "            response.raise_for_status()\n",
    "        except requests.RequestException as e:\n",
    "            logger.error(f\"Failed to fetch URL {self.url}: {e}\")\n",
    "            return []\n",
    "\n",
    "        soup = BeautifulSoup(response.content, \"html.parser\")\n",
    "        link_years = soup.find_all(lambda tag: tag.name == 'a' and re.match(r'^\\d+$', tag.get_text().strip()))\n",
    "        return link_years\n",
    "\n",
    "    def links_per_year(self, link: BeautifulSoup) -> List[BeautifulSoup]:\n",
    "        \"\"\"\n",
    "        Get all report links for a specific year.\n",
    "        \"\"\"\n",
    "        try:\n",
    "            r = requests.get(self.url_base + link['href'], headers=self.headers)\n",
    "            r.raise_for_status()\n",
    "        except requests.RequestException as e:\n",
    "            logger.error(f\"Failed to fetch URL {self.url_base + link['href']}: {e}\")\n",
    "            return []\n",
    "\n",
    "        logger.info(f\"Working on {link['href'][-4:]} files\")\n",
    "        soup_year = BeautifulSoup(r.content, \"html.parser\")\n",
    "        one_year_links = [item for item in soup_year.find_all(target='_blank') if 'Anexo' in item.text]\n",
    "        return one_year_links\n",
    "\n",
    "    def check_file_exists_in_s3(self, bucket_name: str, file_name: str) -> bool:\n",
    "        \"\"\"\n",
    "        Check if a file already exists in the S3 bucket.\n",
    "        \"\"\"\n",
    "        try:\n",
    "            self.s3.Object(bucket_name, file_name).load()\n",
    "            return True\n",
    "        except ClientError as e:\n",
    "            if e.response['Error']['Code'] == '404':\n",
    "                return False\n",
    "            else:\n",
    "                logger.error(f\"ClientError when checking {file_name} in bucket {bucket_name}: {e}\")\n",
    "                raise\n",
    "\n",
    "    def load_files_tracker(self, bucket_name: str) -> pd.DataFrame:\n",
    "        \"\"\"\n",
    "        Load the files_tracker.csv from S3 or create a new DataFrame if it does not exist.\n",
    "        \"\"\"\n",
    "        try:\n",
    "            obj = self.s3.Object(bucket_name, self.files_tracker_name)\n",
    "            response = obj.get()\n",
    "            tracker_df = pd.read_csv(BytesIO(response['Body'].read()))\n",
    "            logger.info(\"Loaded existing files tracker from S3.\")\n",
    "        except self.s3.meta.client.exceptions.NoSuchKey:\n",
    "            # If files_tracker.csv does not exist, initialize an empty DataFrame\n",
    "            tracker_df = pd.DataFrame(columns=['file', 'link', 'date_added'])\n",
    "            logger.info(\"No existing files tracker found in S3. Creating a new one.\")\n",
    "        except ClientError as e:\n",
    "            if e.response['Error']['Code'] == 'NoSuchKey':\n",
    "                tracker_df = pd.DataFrame(columns=['file', 'link', 'date_added'])\n",
    "                logger.info(\"No existing files tracker found in S3. Creating a new one.\")\n",
    "            else:\n",
    "                logger.error(f\"ClientError when accessing {self.files_tracker_name}: {e}\")\n",
    "                raise\n",
    "        return tracker_df\n",
    "\n",
    "    def update_files_tracker(self, df: pd.DataFrame, bucket_name: str):\n",
    "        \"\"\"\n",
    "        Update the files_tracker.csv in S3.\n",
    "        \"\"\"\n",
    "        buffer = BytesIO()\n",
    "        df.to_csv(buffer, index=False)\n",
    "        buffer.seek(0)\n",
    "        try:\n",
    "            self.s3.Bucket(bucket_name).put_object(Body=buffer, Key=self.files_tracker_name)\n",
    "#             logger.info(\"Files tracker updated successfully in S3.\")\n",
    "        except ClientError as e:\n",
    "            logger.error(f\"Failed to update files tracker in S3 bucket {bucket_name}: {e}\")\n",
    "            raise\n",
    "\n",
    "    def upload_or_update_dataframe_to_s3(self, df: pd.DataFrame, bucket_name: str, file_name: str):\n",
    "        \"\"\"\n",
    "        Upload or update a DataFrame as a CSV file to an S3 bucket.\n",
    "        \"\"\"\n",
    "        buffer = BytesIO()\n",
    "        df.to_csv(buffer, index=False)\n",
    "        buffer.seek(0)\n",
    "        try:\n",
    "            self.s3.Bucket(bucket_name).upload_fileobj(buffer, file_name, ExtraArgs={'ContentType': 'text/csv'})\n",
    "            logger.info(f\"DataFrame {file_name} uploaded successfully to S3 bucket {bucket_name}.\")\n",
    "        except ClientError as e:\n",
    "            logger.error(f\"Failed to upload DataFrame {file_name} to S3 bucket {bucket_name}: {e}\")\n",
    "            raise\n",
    "\n",
    "    def download_files_per_year(self, link: BeautifulSoup, bucket_name: str = None):\n",
    "        \"\"\"\n",
    "        Download all files for a specific year and optionally upload them directly to an S3 bucket.\n",
    "        \"\"\"\n",
    "        links_per_year = self.links_per_year(link)\n",
    "        n = len(links_per_year)\n",
    "\n",
    "        tracker_df = self.load_files_tracker(bucket_name) if bucket_name else pd.DataFrame(columns=['file', 'link', 'date_added'])\n",
    "\n",
    "        new_files_count = 0\n",
    "\n",
    "        with tqdm(total=n, desc=f\"Processing {link['href'][-4:]} files\", unit='file') as pbar:\n",
    "            for i, file in enumerate(links_per_year):\n",
    "                file_name = f'week_{n - i}_{file[\"href\"].split(\"/\")[-1]}'\n",
    "                file_link = self.url_base + file['href']\n",
    "\n",
    "                if bucket_name and file_name in tracker_df['file'].values:\n",
    "                    pbar.update(1)\n",
    "                    continue\n",
    "\n",
    "                try:\n",
    "                    with requests.get(file_link, headers=self.headers, stream=True) as result:\n",
    "                        result.raise_for_status()\n",
    "\n",
    "                        if bucket_name:\n",
    "                            destination_key = f'reports/{link.text.strip()}/{file_name}'\n",
    "                            self.s3.Bucket(bucket_name).upload_fileobj(result.raw, destination_key)\n",
    "\n",
    "                            new_entry = pd.DataFrame({\n",
    "                                'file': [file_name],\n",
    "                                'link': [file_link],\n",
    "                                'date_added': [datetime.datetime.today().strftime('%Y-%m-%d')]\n",
    "                            })\n",
    "                            tracker_df = pd.concat([tracker_df, new_entry], ignore_index=True)\n",
    "                            new_files_count += 1\n",
    "\n",
    "                except requests.RequestException as e:\n",
    "                    logger.error(f\"Failed to download file from {file_link}: {e}\")\n",
    "                    continue\n",
    "                except ClientError as e:\n",
    "                    logger.error(f\"Failed to upload file {file_name} to S3 bucket {bucket_name}: {e}\")\n",
    "                    continue\n",
    "                finally:\n",
    "                    pbar.update(1)\n",
    "\n",
    "        if bucket_name:\n",
    "            self.update_files_tracker(tracker_df, bucket_name)\n",
    "            logger.info(f\"Year {link['href'][-4:]} processed: {new_files_count} new files uploaded to S3 bucket {bucket_name}.\")\n",
    "\n",
    "    def get_files(self, bucket_name: str = None):\n",
    "        \"\"\"\n",
    "        Download all files from all years and optionally upload them to an S3 bucket.\n",
    "        \"\"\"\n",
    "        all_years_links = self.all_years_links()\n",
    "        for link in all_years_links:\n",
    "            self.download_files_per_year(link, bucket_name)\n",
    "\n",
    "        # Upload log file to S3 after processing\n",
    "        if bucket_name:\n",
    "            try:\n",
    "                self.s3.Bucket(bucket_name).upload_file('data_collector.log', self.logfile_name)\n",
    "                logger.info(f\"Log file {self.logfile_name} uploaded successfully to S3 bucket {bucket_name}.\")\n",
    "            except ClientError as e:\n",
    "                logger.error(f\"Failed to upload log file to S3 bucket {bucket_name}: {e}\")\n",
    "\n",
    "    def display_files_tracker(self, bucket_name: str) -> pd.DataFrame:\n",
    "        \"\"\"\n",
    "        Display the DataFrame contained in the files_tracker.csv file from the S3 bucket.\n",
    "        \"\"\"\n",
    "        tracker_df = self.load_files_tracker(bucket_name)\n",
    "        return tracker_df\n"
   ]
  },
  {
   "cell_type": "markdown",
   "metadata": {},
   "source": [
    "### FileNameBuilder"
   ]
  },
  {
   "cell_type": "code",
   "execution_count": 47,
   "metadata": {
    "ExecuteTime": {
     "end_time": "2024-09-28T15:53:21.091567Z",
     "start_time": "2024-09-28T15:53:21.064566Z"
    }
   },
   "outputs": [],
   "source": [
    "from typing import List\n",
    "\n",
    "class FileNameBuilder:\n",
    "    def __init__(self, s3: boto3.resource):\n",
    "        \"\"\"\n",
    "        Initialize FileNameBuilder with S3 resource.\n",
    "        \"\"\"\n",
    "        self.s3 = s3\n",
    "\n",
    "    def first_format_paths(self, bucket_name: str) -> List[str]:\n",
    "        \"\"\"\n",
    "        Get the paths of files in the S3 bucket that match the first format criteria.\n",
    "        \"\"\"\n",
    "        logger.info(f\"Fetching first format paths from bucket: {bucket_name}\")\n",
    "        bucket = self.s3.Bucket(bucket_name)\n",
    "        object_names = [obj.key for obj in bucket.objects.all() if obj.key.endswith(('.xls', '.xlsx'))]\n",
    "\n",
    "        first_format_years = {'2012', '2013', '2014', '2015', '2016', '2017'}\n",
    "        final_files_paths_first = []\n",
    "\n",
    "        for path in object_names:\n",
    "            try:\n",
    "                parts = Path(path).parts\n",
    "                if len(parts) < 2:\n",
    "                    continue\n",
    "                year = parts[1]\n",
    "                week = int(Path(path).stem.split('_')[1])\n",
    "\n",
    "                # Check for files in years prior to 2018\n",
    "                if year in first_format_years:\n",
    "                    final_files_paths_first.append(path)\n",
    "                    logger.debug(f\"File added to first format: {path}\")\n",
    "                elif year == '2018' and week <= 19:\n",
    "                    final_files_paths_first.append(path)\n",
    "                    logger.debug(f\"File added to first format: {path}\")\n",
    "\n",
    "            except (IndexError, ValueError) as e:\n",
    "                logger.warning(f\"Error processing path {path}: {e}\")\n",
    "\n",
    "        logger.info(f\"Found {len(final_files_paths_first)} files for the first format.\")\n",
    "        return final_files_paths_first\n",
    "\n",
    "    def second_format_paths(self, bucket_name: str) -> List[str]:\n",
    "        \"\"\"\n",
    "        Get the paths of files in the S3 bucket that match the second format criteria.\n",
    "        \"\"\"\n",
    "        logger.info(f\"Fetching second format paths from bucket: {bucket_name}\")\n",
    "        bucket = self.s3.Bucket(bucket_name)\n",
    "        object_names = [obj.key for obj in bucket.objects.all() if obj.key.endswith(('.xls', '.xlsx'))]\n",
    "\n",
    "        second_format_years = {'2018', '2019', '2020', '2021', '2022', '2023', '2024'}\n",
    "        final_files_paths_second = []\n",
    "\n",
    "        for path in object_names:\n",
    "            try:\n",
    "                parts = Path(path).parts\n",
    "                if len(parts) < 2:\n",
    "                    continue\n",
    "                year = parts[1]\n",
    "                week = int(Path(path).stem.split('_')[1])\n",
    "\n",
    "                if year in second_format_years:\n",
    "                    if year == '2018' and week <= 19:\n",
    "                        continue\n",
    "                    final_files_paths_second.append(path)\n",
    "                    logger.debug(f\"File added to second format: {path}\")\n",
    "\n",
    "            except (IndexError, ValueError) as e:\n",
    "                logger.warning(f\"Error processing path {path}: {e}\")\n",
    "\n",
    "        logger.info(f\"Found {len(final_files_paths_second)} files for the second format.\")\n",
    "        return final_files_paths_second\n"
   ]
  },
  {
   "cell_type": "markdown",
   "metadata": {},
   "source": [
    "### DataWrangler"
   ]
  },
  {
   "cell_type": "code",
   "execution_count": 159,
   "metadata": {
    "ExecuteTime": {
     "end_time": "2024-09-28T17:49:44.244265Z",
     "start_time": "2024-09-28T17:49:44.187519Z"
    }
   },
   "outputs": [],
   "source": [
    "from config import CATEGORIES_DICT, CITY_TO_REGION\n",
    "\n",
    "class DataWrangler:\n",
    "    def __init__(self, bucket_name: str, s3: boto3.resource):\n",
    "        self.bucket_name = bucket_name\n",
    "        self.s3 = s3\n",
    "        self.categories_dict = CATEGORIES_DICT\n",
    "        self.city_to_region = CITY_TO_REGION\n",
    "        \n",
    "    def first_format_data_extraction(self, file_path: str) -> pd.DataFrame:\n",
    "        \"\"\"\n",
    "        Extracts and processes data from an Excel file stored in an S3 bucket, handling multiple file formats.\n",
    "        \"\"\"\n",
    "        bucket = self.s3.Bucket(self.bucket_name)\n",
    "        obj = bucket.Object(file_path)\n",
    "        xls_data = obj.get()['Body'].read()\n",
    "\n",
    "        dataframe = None\n",
    "        try:\n",
    "            dataframe = pd.read_excel(BytesIO(xls_data), engine='openpyxl')\n",
    "        except Exception as e:\n",
    "            logger.debug(f\"openpyxl failed for {file_path}: {e}\")\n",
    "        if dataframe is None:\n",
    "            try:\n",
    "                dataframe = pd.read_excel(BytesIO(xls_data), engine='xlrd')\n",
    "            except Exception as e:\n",
    "                logger.error(f\"Failed to read Excel file {file_path} with xlrd: {e}\")\n",
    "                return pd.DataFrame()  # Return empty DataFrame if reading fails\n",
    "\n",
    "        if dataframe.empty:\n",
    "            logger.warning(f\"No data found in {file_path}\")\n",
    "            return pd.DataFrame()\n",
    "\n",
    "        dataframe = dataframe[dataframe[dataframe.columns[0]].apply(\n",
    "            lambda x: bool(re.search(r'[a-zA-Z]', str(x))) and pd.notna(x))]\n",
    "\n",
    "        return dataframe\n",
    "\n",
    "    def first_format_data_transformation(self, dataframe: pd.DataFrame, file_path: str) -> pd.DataFrame:\n",
    "        \"\"\"\n",
    "        Transforms the raw data extracted from a file into a structured format with relevant categories and products.\n",
    "        \"\"\"\n",
    "        # Keep only the first five columns and rename them\n",
    "        dataframe = dataframe.iloc[:, 0:5]\n",
    "        dataframe.columns = ['ciudad', 'precio_minimo', 'precio_maximo', 'precio_medio', 'tendencia']\n",
    "        dataframe['ciudad'] = dataframe['ciudad'].str.lower().str.replace('bogotá, d.c.', 'bogota')\n",
    "\n",
    "        # Remove rows where 'ciudad' is null\n",
    "        dataframe = dataframe[~dataframe['ciudad'].isnull()]\n",
    "\n",
    "        # Get row indexes where the word 'cuadro' is present\n",
    "        index_cuadro = dataframe[dataframe['ciudad'].str.contains('cuadro', case=False, na=False)].index.tolist()\n",
    "\n",
    "        if not index_cuadro:\n",
    "            logger.warning(f\"No 'cuadro' titles found in {file_path}\")\n",
    "            return pd.DataFrame()  # Return empty DataFrame if no categories found\n",
    "\n",
    "        # Create target dataframe for all data\n",
    "        df_final = pd.DataFrame()\n",
    "\n",
    "        # Iterate over food categories\n",
    "        for i_categoria in range(len(index_cuadro) + 1):\n",
    "            try:\n",
    "                if i_categoria == 0:\n",
    "                    dataframe_categoria = dataframe.iloc[1:index_cuadro[i_categoria]]\n",
    "                elif i_categoria <= 6:\n",
    "                    dataframe_categoria = dataframe.iloc[index_cuadro[i_categoria - 1] + 2:index_cuadro[i_categoria]]\n",
    "                else:\n",
    "                    dataframe_categoria = dataframe.iloc[index_cuadro[i_categoria - 1] + 2:]\n",
    "\n",
    "                # Add category name\n",
    "                dataframe_categoria = dataframe_categoria.copy()\n",
    "                dataframe_categoria['categoria'] = self.categories_dict.get(i_categoria + 1, 'unknown')\n",
    "\n",
    "                # Identify products within category\n",
    "                index_producto = dataframe_categoria[dataframe_categoria['precio_minimo'].isnull()].index.tolist()\n",
    "                if not index_producto:\n",
    "                    continue\n",
    "\n",
    "                df_categoria_final = pd.DataFrame()\n",
    "\n",
    "                for i_producto in range(len(index_producto)):\n",
    "                    if i_producto < len(index_producto) - 1:\n",
    "                        start_idx = index_producto[i_producto]\n",
    "                        end_idx = index_producto[i_producto + 1]\n",
    "                    else:\n",
    "                        start_idx = index_producto[i_producto]\n",
    "                        end_idx = None\n",
    "\n",
    "                    dataframe_producto = dataframe_categoria.loc[start_idx:end_idx].reset_index(drop=True)\n",
    "\n",
    "                    # Add product name\n",
    "                    producto_name = dataframe_producto.at[0, 'ciudad']\n",
    "                    dataframe_producto['producto'] = producto_name\n",
    "\n",
    "                    # Clean city names\n",
    "                    dataframe_producto['ciudad'] = dataframe_producto['ciudad'].str.replace(r'\\s*\\([^)]*\\)', '', regex=True)\n",
    "\n",
    "                    # Extract marketplace if present\n",
    "                    dataframe_producto['mercado'] = dataframe_producto['ciudad'].str.extract(r',\\s*(.*)')[0]\n",
    "                    dataframe_producto['ciudad'] = dataframe_producto['ciudad'].str.split(',').str[0].str.strip()\n",
    "                    dataframe_producto = dataframe_producto[~dataframe_producto['precio_medio'].isnull()]\n",
    "                    \n",
    "                    # Drop first row (product name)\n",
    "                    dataframe_producto = dataframe_producto.iloc[1:].reset_index(drop=True)\n",
    "\n",
    "                    df_categoria_final = pd.concat([df_categoria_final, dataframe_producto], ignore_index=True)\n",
    "\n",
    "                df_final = pd.concat([df_final, df_categoria_final], ignore_index=True)\n",
    "\n",
    "            except Exception as e:\n",
    "                logger.error(f\"Error processing category {i_categoria} in file {file_path}: {e}\")\n",
    "                continue\n",
    "\n",
    "        if df_final.empty:\n",
    "            logger.warning(f\"No data extracted from {file_path} after transformation.\")\n",
    "            return df_final\n",
    "\n",
    "        # Add timestamps\n",
    "        try:\n",
    "            df_final['semana_no'] = int(Path(file_path).stem.split('_')[1])\n",
    "            df_final['anho'] = Path(file_path).stem[-4:]\n",
    "        except Exception as e:\n",
    "            logger.error(f\"Error extracting week and year from {file_path}: {e}\")\n",
    "            df_final['semana_no'] = None\n",
    "            df_final['anho'] = None\n",
    "\n",
    "        # Reorder columns\n",
    "        df_final = df_final[['producto', 'ciudad', 'precio_minimo', 'precio_maximo', 'precio_medio',\n",
    "                             'tendencia', 'categoria', 'mercado', 'semana_no', 'anho']]\n",
    "        \n",
    "        df_final= df_final[~df_final['precio_medio'].isnull()]\n",
    "        \n",
    "        return df_final\n",
    "\n",
    "    def second_format_data_extraction(self, file_path: str) -> pd.DataFrame:\n",
    "        \"\"\"\n",
    "        Extracts and processes data from an Excel file stored in an S3 bucket using multiple sheets for the second format.\n",
    "        \"\"\"\n",
    "        bucket = self.s3.Bucket(self.bucket_name)\n",
    "        obj = bucket.Object(file_path)\n",
    "        xls_data = obj.get()['Body'].read()\n",
    "\n",
    "        xl = None\n",
    "        try:\n",
    "            xl = pd.ExcelFile(BytesIO(xls_data), engine='openpyxl')\n",
    "        except Exception as e:\n",
    "            logger.debug(f\"openpyxl failed for {file_path}: {e}\")\n",
    "        if xl is None:\n",
    "            try:\n",
    "                xl = pd.ExcelFile(BytesIO(xls_data), engine='xlrd')\n",
    "            except Exception as e:\n",
    "                logger.error(f\"Failed to read Excel file {file_path} with xlrd: {e}\")\n",
    "                return pd.DataFrame()\n",
    "\n",
    "        full_dataframe = pd.DataFrame()\n",
    "        for index in range(1, 9):\n",
    "            sheet_name = xl.sheet_names[index]\n",
    "            dataframe = None\n",
    "            try:\n",
    "                dataframe = pd.read_excel(BytesIO(xls_data), sheet_name=sheet_name)\n",
    "            except Exception as e:\n",
    "                logger.error(f\"Failed to read sheet {sheet_name} in {file_path}: {e}\")\n",
    "                continue\n",
    "\n",
    "            if dataframe.empty:\n",
    "                logger.warning(f\"No data found in sheet {sheet_name} of {file_path}\")\n",
    "                continue\n",
    "\n",
    "            if file_path == 'reports/2018/week_20_Sem_12may__18may_2018.xlsx':\n",
    "                dataframe['mercado'] = dataframe['Mercado mayorista'].str.split(',').str[1].str.strip()\n",
    "                dataframe['ciudad'] = dataframe['Mercado mayorista'].str.split(',').str[0].str.strip()\n",
    "                dataframe.columns = dataframe.columns.str.lower().str.replace(' ','_').str.replace('í','i').str.replace('á','a')\n",
    "            else:\n",
    "\n",
    "                if pd.isnull(dataframe.iloc[9, 0]):\n",
    "                    dataframe = dataframe.iloc[10:, :6]\n",
    "                else:\n",
    "                    dataframe = dataframe.iloc[9:, :6]\n",
    "                dataframe.columns = ['producto', 'ciudad', 'precio_minimo', 'precio_maximo', 'precio_medio', 'tendencia']\n",
    "            dataframe = dataframe[~dataframe['ciudad'].isnull()]\n",
    "            dataframe['ciudad'] = dataframe['ciudad'].str.replace(r'\\s*\\([^)]*\\)', '', regex=True)\n",
    "            dataframe['ciudad'] = dataframe['ciudad'].str.lower().str.replace('bogotá, d.c.', 'bogota')\n",
    "            dataframe['ciudad'] = dataframe['ciudad'].str.replace(r'\\s*\\([^)]*\\)', '', regex=True)\n",
    "\n",
    "            # Adding categoria and ciudad info\n",
    "            dataframe['categoria'] = self.categories_dict[index]\n",
    "\n",
    "\n",
    "            # The name of the marketplaces is included on some of the city names. So we try to retrieve it\n",
    "            try:\n",
    "                dataframe['mercado'] = dataframe['ciudad'].str.split(',').str[1].str.strip()\n",
    "            except:\n",
    "                dataframe['mercado'] = np.nan\n",
    "\n",
    "            # Getting a clean version of city name\n",
    "            try:\n",
    "                dataframe['ciudad'] = dataframe['ciudad'].str.split(',').str[0].str.strip()\n",
    "            except:\n",
    "                pass\n",
    "            # Once data per file is complete, time stamps are added: year and week number\n",
    "            dataframe['semana_no'] = int(Path(file_path).name.split('_')[1])  # file_path.stem[5:7]\n",
    "            dataframe['anho'] = Path(file_path).stem[-4:]\n",
    "          \n",
    "\n",
    "            # Add to full_dataframe\n",
    "            full_dataframe = pd.concat([full_dataframe, dataframe], ignore_index=True)\n",
    "\n",
    "        if full_dataframe.empty:\n",
    "            logger.warning(f\"No data extracted from {file_path} after processing all sheets.\")\n",
    "            return full_dataframe\n",
    "\n",
    "        # Reorder columns\n",
    "        full_dataframe = full_dataframe[['producto', 'ciudad', 'precio_minimo', 'precio_maximo', 'precio_medio',\n",
    "                                         'tendencia', 'categoria', 'mercado', 'semana_no', 'anho']]\n",
    "        return full_dataframe\n",
    "\n",
    "    def building_complete_report(self) -> pd.DataFrame:\n",
    "        \"\"\"\n",
    "        Constructs a complete report by extracting and transforming data from two different file formats stored in an S3 bucket.\n",
    "        \"\"\"\n",
    "        file_name_builder = FileNameBuilder(self.s3)\n",
    "        first_format_paths_aws = file_name_builder.first_format_paths(bucket_name=self.bucket_name)\n",
    "        second_format_paths_aws = file_name_builder.second_format_paths(bucket_name=self.bucket_name)\n",
    "\n",
    "        first_format_final = pd.DataFrame()\n",
    "        logger.info('[INFO] First batch of files')\n",
    "\n",
    "        for file_path in tqdm(first_format_paths_aws):\n",
    "            dataframe = self.first_format_data_extraction(file_path)\n",
    "            if not dataframe.empty:\n",
    "                transformed_df = self.first_format_data_transformation(dataframe, file_path)\n",
    "                first_format_final = pd.concat([first_format_final, transformed_df], ignore_index=True)\n",
    "\n",
    "        logger.info('[INFO] Second batch of files')\n",
    "        second_format_final = pd.DataFrame()\n",
    "        for file_path in tqdm(second_format_paths_aws):\n",
    "            dataframe = self.second_format_data_extraction(file_path)\n",
    "            second_format_final = pd.concat([second_format_final, dataframe], ignore_index=True)\n",
    "\n",
    "        complete_report = pd.concat([first_format_final, second_format_final], ignore_index=True)\n",
    "        return complete_report\n"
   ]
  },
  {
   "cell_type": "markdown",
   "metadata": {},
   "source": [
    "### Data Validator"
   ]
  },
  {
   "cell_type": "code",
   "execution_count": 99,
   "metadata": {
    "ExecuteTime": {
     "end_time": "2024-09-28T16:23:22.927058Z",
     "start_time": "2024-09-28T16:23:22.897054Z"
    }
   },
   "outputs": [],
   "source": [
    "\n",
    "import pandas as pd\n",
    "import re\n",
    "\n",
    "class DataValidator:\n",
    "    def __init__(self):\n",
    "        # Load or define reference data for validation\n",
    "        self.valid_cities = [\n",
    "            'barranquilla', 'bogota', 'bucaramanga', 'cali', 'cartagena', 'cúcuta', 'medellín', 'sincelejo', \n",
    "            'valledupar', 'pereira', 'manizales', 'armenia', 'pasto', 'ibagué', 'villavicencio', 'yopal',\n",
    "            'florencia', 'leticia', 'riohacha', 'neiva', 'montería', 'mocoa', 'puerto carreño', 'mitú', 'inírida',\n",
    "            'sogamoso', 'tunja', 'pamplona', 'girardot', 'popayán', 'tumaco', 'quibdó', 'villavicencio',\n",
    "            'arauca', 'buenaventura', 'cartago', 'chiquinquirá', 'la dorada', 'santander'\n",
    "        ]\n",
    "        \n",
    "        self.valid_products = [\n",
    "            'acelga', 'manzana', 'pollo', 'leche', 'papa', 'arroz', 'frijol', 'tomate', 'cebolla', 'naranja',\n",
    "            # Add more valid products here\n",
    "        ]\n",
    "        \n",
    "        self.valid_tendencias = ['+', '-', '=', '++', '--', '+++', '---']\n",
    "        self.valid_categorias = [\n",
    "            'verduras_hortalizas', 'frutas_frescas', 'tuberculos_raices_platanos', 'granos_cereales',\n",
    "            'huevos_lacteos', 'carnes', 'pescados', 'productos_procesados'\n",
    "        ]\n",
    "\n",
    "    def validate_city(self, city: str) -> bool:\n",
    "        \"\"\"Check if the city is valid.\"\"\"\n",
    "        return True\n",
    "#         return city in self.valid_cities\n",
    "\n",
    "    def validate_product(self, product: str) -> bool:\n",
    "        \"\"\"Check if the product is valid.\"\"\"\n",
    "        return True\n",
    "#         return product in self.valid_products\n",
    "\n",
    "\n",
    "    def validate_price(self, price) -> bool:\n",
    "        \"\"\"Check if the price is a positive integer.\"\"\"\n",
    "        try:\n",
    "            return price >= 0\n",
    "        except TypeError:\n",
    "            return False\n",
    "\n",
    "    def validate_tendencia(self, tendencia: str) -> bool:\n",
    "        \"\"\"Check if the tendencia is valid.\"\"\"\n",
    "        return tendencia in self.valid_tendencias\n",
    "\n",
    "    def validate_categoria(self, categoria: str) -> bool:\n",
    "        \"\"\"Check if the categoria is valid.\"\"\"\n",
    "        return categoria in self.valid_categorias\n",
    "    # Function to remove accents\n",
    "    \n",
    "    def remove_accents_trails_caps(self, text):\n",
    "        return unidecode(text.lower().replace(' ','_'))\n",
    "\n",
    "    def validate_dataframe(self, dataframe: pd.DataFrame) -> pd.DataFrame:\n",
    "        \"\"\"Validate the entire dataframe, and filter out rows that fail validation.\"\"\"\n",
    "        try: \n",
    "            # Validate each column and store the valid rows in a new DataFrame\n",
    "            dataframe['ciudad'] = dataframe['ciudad'].apply(self.remove_accents_trails_caps)\n",
    "            dataframe['producto'] = dataframe['producto'].apply(self.remove_accents_trails_caps)\n",
    "\n",
    "            valid_df = dataframe[\n",
    "                dataframe['ciudad'].apply(self.validate_city) &\n",
    "                dataframe['producto'].apply(self.validate_product) &\n",
    "                dataframe['precio_minimo'].apply(self.validate_price) &\n",
    "                dataframe['precio_maximo'].apply(self.validate_price) &\n",
    "                dataframe['precio_medio'].apply(self.validate_price) &\n",
    "                dataframe['tendencia'].apply(self.validate_tendencia) &\n",
    "                dataframe['categoria'].apply(self.validate_categoria)\n",
    "            ]\n",
    "\n",
    "            # Log the rows that were removed\n",
    "            invalid_rows = dataframe[~dataframe.index.isin(valid_df.index)]\n",
    "    #         if not invalid_rows.empty:\n",
    "    #             logger.warning(f\"Invalid rows found and removed:\\n{invalid_rows}\")\n",
    "\n",
    "            return valid_df\n",
    "        except: \n",
    "            dataframe = pd.DataFrame()\n",
    "            return dataframe"
   ]
  },
  {
   "cell_type": "markdown",
   "metadata": {},
   "source": [
    "### DataIngestor"
   ]
  },
  {
   "cell_type": "code",
   "execution_count": 100,
   "metadata": {
    "ExecuteTime": {
     "end_time": "2024-09-28T16:23:23.917462Z",
     "start_time": "2024-09-28T16:23:23.910463Z"
    }
   },
   "outputs": [
    {
     "name": "stdout",
     "output_type": "stream",
     "text": [
      "\n",
      "CREATE TABLE product_prices (\n",
      "    producto VARCHAR(255),\n",
      "    ciudad VARCHAR(255),\n",
      "    precio_minimo INT,\n",
      "    precio_maximo INT,\n",
      "    precio_medio INT,\n",
      "    tendencia VARCHAR(10),\n",
      "    categoria VARCHAR(255),\n",
      "    mercado VARCHAR(255),\n",
      "    semana_no INT,\n",
      "    anho INT\n",
      ");\n",
      "\n"
     ]
    }
   ],
   "source": [
    "table_name = 'product_prices'\n",
    "text = f\"\"\"\n",
    "CREATE TABLE {table_name} (\n",
    "    producto VARCHAR(255),\n",
    "    ciudad VARCHAR(255),\n",
    "    precio_minimo INT,\n",
    "    precio_maximo INT,\n",
    "    precio_medio INT,\n",
    "    tendencia VARCHAR(10),\n",
    "    categoria VARCHAR(255),\n",
    "    mercado VARCHAR(255),\n",
    "    semana_no INT,\n",
    "    anho INT\n",
    ");\n",
    "\"\"\"\n",
    "print(text)"
   ]
  },
  {
   "cell_type": "code",
   "execution_count": 101,
   "metadata": {
    "ExecuteTime": {
     "end_time": "2024-09-28T16:23:24.295180Z",
     "start_time": "2024-09-28T16:23:24.234255Z"
    }
   },
   "outputs": [],
   "source": [
    "class DataIngestor:\n",
    "    def __init__(self, \n",
    "                 engine:sqlalchemy.engine.base.Engine)-> None:\n",
    "        self.engine = engine\n",
    "        \n",
    "    def insert_dataframe_to_db(self,\n",
    "                               dataframe: pd.DataFrame, \n",
    "                               table_name: str)-> None:\n",
    "    \n",
    "        \"\"\"\n",
    "        Inserts a DataFrame into a PostgreSQL table.\n",
    "\n",
    "        :param dataframe: DataFrame to be inserted.\n",
    "        :param table_name: Name of the PostgreSQL table.\n",
    "        :param engine: SQLAlchemy engine for the connection.\n",
    "\n",
    "        \"\"\"\n",
    "\n",
    "        try:\n",
    "            # Insert data in chunks to handle large DataFrames\n",
    "            dataframe.to_sql(table_name, \n",
    "                             self.engine, \n",
    "                             if_exists='append', \n",
    "                             index=False, \n",
    "                             chunksize=500)\n",
    "\n",
    "            logging.info(f\"Data successfully inserted into {table_name}.\")\n",
    "#             print(f\"Data successfully inserted into {table_name}.\")\n",
    "\n",
    "        except SQLAlchemyError as e:\n",
    "            logging.error(f\"Error inserting data: {e}\")\n",
    "            print(f\"Error inserting data:\")\n",
    "\n",
    "        finally:\n",
    "            # Close the connection\n",
    "            engine.dispose()\n"
   ]
  },
  {
   "cell_type": "markdown",
   "metadata": {},
   "source": [
    "### ProcessHandler"
   ]
  },
  {
   "cell_type": "code",
   "execution_count": 1,
   "metadata": {
    "ExecuteTime": {
     "end_time": "2024-09-28T14:30:10.953634Z",
     "start_time": "2024-09-28T14:30:03.195404Z"
    }
   },
   "outputs": [],
   "source": [
    "import boto3\n",
    "import pandas as pd\n",
    "from io import BytesIO\n",
    "from botocore.exceptions import ClientError\n",
    "from pathlib import Path\n",
    "import datetime\n",
    "from tqdm import tqdm\n",
    "import requests\n",
    "from bs4 import BeautifulSoup\n",
    "import re\n",
    "from typing import List\n",
    "import logging\n",
    "from dotenv import load_dotenv\n",
    "import os\n",
    "import sqlalchemy\n",
    "from sqlalchemy import create_engine\n",
    "from sqlalchemy.exc import SQLAlchemyError\n",
    "import matplotlib.pyplot as plt\n",
    "\n",
    "import warnings\n",
    "warnings.filterwarnings(\"ignore\")"
   ]
  },
  {
   "cell_type": "code",
   "execution_count": 2,
   "metadata": {
    "ExecuteTime": {
     "end_time": "2024-09-28T14:30:14.593815Z",
     "start_time": "2024-09-28T14:30:13.459397Z"
    }
   },
   "outputs": [],
   "source": [
    "# Loading credentials\n",
    "load_dotenv()\n",
    "aws_access_key_id = os.environ['aws_access_key_id']\n",
    "aws_secret_access_key = os.environ['aws_secret_access_key']\n",
    "    \n",
    "db_user = os.environ['db_user']\n",
    "db_pass = os.environ['db_pass']\n",
    "db_host = os.environ['db_host']\n",
    "db_port = os.environ['db_port']\n",
    "db_name = os.environ['db_name']\n",
    "\n",
    "bucket_name = os.environ['bucket_name']\n",
    "\n",
    "\n",
    "# Creating connection to database\n",
    "engine = create_engine(f'postgresql://{db_user}:{db_pass}@{db_host}:{db_port}/{db_name}')\n",
    "\n",
    "# Creating boto3 session (access the S3 bucket)\n",
    "s3 = boto3.resource('s3',\n",
    "                    aws_access_key_id = aws_access_key_id, \n",
    "                    aws_secret_access_key = aws_secret_access_key)"
   ]
  },
  {
   "cell_type": "code",
   "execution_count": 104,
   "metadata": {
    "ExecuteTime": {
     "end_time": "2024-09-28T16:23:25.475159Z",
     "start_time": "2024-09-28T16:23:25.364257Z"
    }
   },
   "outputs": [],
   "source": [
    "class ProcessHandler(DataWrangler, DataIngestor, DataCollector):\n",
    "    def __init__(self, s3, engine, bucket_name, table_name):\n",
    "        # Initialize DataCollector and other base classes\n",
    "        DataCollector.__init__(self, s3)\n",
    "        DataIngestor.__init__(self, engine)\n",
    "        DataWrangler.__init__(self, bucket_name, s3)\n",
    "\n",
    "        # Set class attributes\n",
    "        self.s3 = s3\n",
    "        self.engine = engine\n",
    "        self.bucket_name = bucket_name\n",
    "        self.table_name = table_name\n",
    "\n",
    "        # Load files tracker after initializing the DataCollector\n",
    "        self.files_tracker_df = self.load_files_tracker(self.bucket_name)  \n",
    "        \n",
    "        # Ensure 'rds_load' column exists in the files_tracker_df\n",
    "        if 'rds_load' not in self.files_tracker_df.columns:\n",
    "            self.files_tracker_df['rds_load'] = 'no'\n",
    "        \n",
    "        self.data_validator = DataValidator()  # Initialize the DataValidator\n",
    "\n",
    "    def executing_process(self, output_dataframe: bool = False) -> pd.DataFrame:\n",
    "        \"\"\"\n",
    "        Constructs a complete report by extracting and transforming data from two different file formats stored in an S3 bucket.\n",
    "        Only processes files not marked as 'rds_load' in the files tracker.\n",
    "        \"\"\"\n",
    "        # Fetch all files from the source\n",
    "        self.get_files(self.bucket_name)\n",
    "\n",
    "        # Generate paths for the different file formats\n",
    "        file_name_builder = FileNameBuilder(self.s3)\n",
    "        first_format_paths_aws = file_name_builder.first_format_paths(bucket_name=self.bucket_name)\n",
    "        second_format_paths_aws = file_name_builder.second_format_paths(bucket_name=self.bucket_name)\n",
    "\n",
    "        first_format_final = pd.DataFrame()\n",
    "        logger.info('[INFO] First batch of files')\n",
    "\n",
    "        # Process files in the first format\n",
    "        for file_path in tqdm(first_format_paths_aws):\n",
    "            \n",
    "            file_name = Path(file_path).name\n",
    "            # Skip files that are already loaded into RDS\n",
    "            if not self.files_tracker_df.empty and self.files_tracker_df.loc[self.files_tracker_df['file'] == file_name, 'rds_load'].values[0] == 'yes':\n",
    "                logger.info(f\"[INFO] Skipping file {file_name} as it is already loaded into RDS.\")\n",
    "                continue\n",
    "\n",
    "            dataframe = self.first_format_data_extraction(file_path)\n",
    "            if not dataframe.empty:\n",
    "                transformed_df = self.first_format_data_transformation(dataframe, file_path)\n",
    "\n",
    "                # Validate DataFrame before inserting into the database\n",
    "                valid_df = self.data_validator.validate_dataframe(transformed_df)\n",
    "\n",
    "                if output_dataframe:\n",
    "                    first_format_final = pd.concat([first_format_final, transformed_df], ignore_index=True)\n",
    "                self.insert_dataframe_to_db(dataframe=valid_df, table_name=self.table_name)\n",
    "                self.update_files_tracker_with_rds_load(file_name)  # Update tracker after successful load\n",
    "        logger.info('[INFO] Second batch of files')\n",
    "        second_format_final = pd.DataFrame()\n",
    "        \n",
    "        # Process files in the second format\n",
    "        for file_path in tqdm(second_format_paths_aws):\n",
    "            file_name = Path(file_path).name\n",
    "            # Skip files that are already loaded into RDS\n",
    "            if not self.files_tracker_df.empty and self.files_tracker_df.loc[self.files_tracker_df['file'] == file_name, 'rds_load'].values[0] == 'yes':\n",
    "                logger.info(f\"[INFO] Skipping file {file_name} as it is already loaded into RDS.\")\n",
    "                continue\n",
    "\n",
    "            dataframe = self.second_format_data_extraction(file_path)\n",
    "            \n",
    "            # Validate DataFrame before inserting into the database\n",
    "            valid_df = self.data_validator.validate_dataframe(dataframe)\n",
    "            \n",
    "            self.insert_dataframe_to_db(dataframe=valid_df, table_name=self.table_name)\n",
    "            self.update_files_tracker_with_rds_load(file_name)  # Update tracker after successful load\n",
    "            if output_dataframe:\n",
    "                second_format_final = pd.concat([second_format_final, dataframe], ignore_index=True)\n",
    "\n",
    "        if output_dataframe:\n",
    "            complete_report = pd.concat([first_format_final, second_format_final], ignore_index=True)\n",
    "            return complete_report\n",
    "\n",
    "\n",
    "    def update_files_tracker_with_rds_load(self, file_name: str):\n",
    "        \"\"\"\n",
    "        Update the 'rds_load' status in the files tracker after successful insertion into RDS.\n",
    "        \"\"\"\n",
    "        # Check if the file is already present in the tracker and update it\n",
    "        if file_name in self.files_tracker_df['file'].values:\n",
    "            self.files_tracker_df.loc[self.files_tracker_df['file'] == file_name, 'rds_load'] = 'yes'\n",
    "        else:\n",
    "            # If not present, add a new entry\n",
    "            new_entry = pd.DataFrame({'file': [file_name], 'rds_load': ['yes']})\n",
    "            self.files_tracker_df = pd.concat([self.files_tracker_df, new_entry], ignore_index=True)\n",
    "        \n",
    "        # Update the tracker in S3\n",
    "        self.update_files_tracker(self.files_tracker_df, self.bucket_name)\n",
    "\n",
    "    def querying_db(self, query: str) -> pd.DataFrame:\n",
    "        \"\"\"\n",
    "        Downloads dataframe based on query pulling data from AWS RDS instance.\n",
    "\n",
    "        Args:\n",
    "            query (str): SQL query to retrieve data.\n",
    "\n",
    "        Returns:\n",
    "            pd.DataFrame with the output of query.\n",
    "        \"\"\"\n",
    "        # Running query and importing it \n",
    "        with self.engine.begin() as conn:\n",
    "            df = pd.read_sql(sql=query, con=conn)\n",
    "\n",
    "        print(f'[Info] Data Frame with {df.shape[0]} rows and {df.shape[1]} columns imported successfully.')\n",
    "        return df"
   ]
  },
  {
   "cell_type": "markdown",
   "metadata": {
    "ExecuteTime": {
     "end_time": "2024-09-24T23:19:24.655603Z",
     "start_time": "2024-09-24T23:19:24.650602Z"
    }
   },
   "source": [
    "## testing playground"
   ]
  },
  {
   "cell_type": "code",
   "execution_count": 105,
   "metadata": {
    "ExecuteTime": {
     "end_time": "2024-09-28T16:23:27.139933Z",
     "start_time": "2024-09-28T16:23:27.132924Z"
    }
   },
   "outputs": [],
   "source": [
    "import random\n",
    "from unidecode import unidecode"
   ]
  },
  {
   "cell_type": "code",
   "execution_count": 106,
   "metadata": {
    "ExecuteTime": {
     "end_time": "2024-09-28T16:23:29.901777Z",
     "start_time": "2024-09-28T16:23:27.900510Z"
    }
   },
   "outputs": [
    {
     "name": "stdout",
     "output_type": "stream",
     "text": [
      "2024-09-28 11:23:27,902 - INFO - Fetching first format paths from bucket: sipsa-bucket\n",
      "2024-09-28 11:23:27,902 - INFO - Fetching first format paths from bucket: sipsa-bucket\n"
     ]
    },
    {
     "name": "stderr",
     "output_type": "stream",
     "text": [
      "INFO:__main__:Fetching first format paths from bucket: sipsa-bucket\n"
     ]
    },
    {
     "name": "stdout",
     "output_type": "stream",
     "text": [
      "2024-09-28 11:23:28,924 - INFO - Found 285 files for the first format.\n",
      "2024-09-28 11:23:28,924 - INFO - Found 285 files for the first format.\n"
     ]
    },
    {
     "name": "stderr",
     "output_type": "stream",
     "text": [
      "INFO:__main__:Found 285 files for the first format.\n"
     ]
    },
    {
     "name": "stdout",
     "output_type": "stream",
     "text": [
      "2024-09-28 11:23:28,926 - INFO - Fetching second format paths from bucket: sipsa-bucket\n",
      "2024-09-28 11:23:28,926 - INFO - Fetching second format paths from bucket: sipsa-bucket\n"
     ]
    },
    {
     "name": "stderr",
     "output_type": "stream",
     "text": [
      "INFO:__main__:Fetching second format paths from bucket: sipsa-bucket\n"
     ]
    },
    {
     "name": "stdout",
     "output_type": "stream",
     "text": [
      "2024-09-28 11:23:29,896 - INFO - Found 333 files for the second format.\n",
      "2024-09-28 11:23:29,896 - INFO - Found 333 files for the second format.\n"
     ]
    },
    {
     "name": "stderr",
     "output_type": "stream",
     "text": [
      "INFO:__main__:Found 333 files for the second format.\n"
     ]
    }
   ],
   "source": [
    "names = FileNameBuilder(s3 = s3)\n",
    "first_format = names.first_format_paths(bucket_name = bucket_name)\n",
    "second_format = names.second_format_paths(bucket_name = bucket_name)"
   ]
  },
  {
   "cell_type": "code",
   "execution_count": 107,
   "metadata": {
    "ExecuteTime": {
     "end_time": "2024-09-28T16:23:30.063852Z",
     "start_time": "2024-09-28T16:23:30.058850Z"
    }
   },
   "outputs": [],
   "source": [
    "j = random.randint(a = 0, b = len(second_format))\n",
    "file_path = second_format[j]"
   ]
  },
  {
   "cell_type": "code",
   "execution_count": 108,
   "metadata": {
    "ExecuteTime": {
     "end_time": "2024-09-28T16:23:30.193867Z",
     "start_time": "2024-09-28T16:23:30.188853Z"
    }
   },
   "outputs": [],
   "source": [
    "testing_validation = DataWrangler(bucket_name = bucket_name, \n",
    "                                  s3 = s3 )\n",
    "validator = DataValidator()"
   ]
  },
  {
   "cell_type": "code",
   "execution_count": 113,
   "metadata": {
    "ExecuteTime": {
     "end_time": "2024-09-28T16:23:57.211743Z",
     "start_time": "2024-09-28T16:23:53.798938Z"
    }
   },
   "outputs": [
    {
     "data": {
      "text/html": [
       "<div>\n",
       "<style scoped>\n",
       "    .dataframe tbody tr th:only-of-type {\n",
       "        vertical-align: middle;\n",
       "    }\n",
       "\n",
       "    .dataframe tbody tr th {\n",
       "        vertical-align: top;\n",
       "    }\n",
       "\n",
       "    .dataframe thead th {\n",
       "        text-align: right;\n",
       "    }\n",
       "</style>\n",
       "<table border=\"1\" class=\"dataframe\">\n",
       "  <thead>\n",
       "    <tr style=\"text-align: right;\">\n",
       "      <th></th>\n",
       "      <th>producto</th>\n",
       "      <th>ciudad</th>\n",
       "      <th>precio_minimo</th>\n",
       "      <th>precio_maximo</th>\n",
       "      <th>precio_medio</th>\n",
       "      <th>tendencia</th>\n",
       "      <th>categoria</th>\n",
       "      <th>mercado</th>\n",
       "      <th>semana_no</th>\n",
       "      <th>anho</th>\n",
       "    </tr>\n",
       "  </thead>\n",
       "  <tbody>\n",
       "    <tr>\n",
       "      <th>0</th>\n",
       "      <td>acelga</td>\n",
       "      <td>barranquilla</td>\n",
       "      <td>2800</td>\n",
       "      <td>3100</td>\n",
       "      <td>2967</td>\n",
       "      <td>-</td>\n",
       "      <td>verduras_hortalizas</td>\n",
       "      <td>barranquillita</td>\n",
       "      <td>18</td>\n",
       "      <td>2016</td>\n",
       "    </tr>\n",
       "    <tr>\n",
       "      <th>1</th>\n",
       "      <td>acelga</td>\n",
       "      <td>bogota</td>\n",
       "      <td>300</td>\n",
       "      <td>700</td>\n",
       "      <td>440</td>\n",
       "      <td>+</td>\n",
       "      <td>verduras_hortalizas</td>\n",
       "      <td>corabastos</td>\n",
       "      <td>18</td>\n",
       "      <td>2016</td>\n",
       "    </tr>\n",
       "    <tr>\n",
       "      <th>2</th>\n",
       "      <td>acelga</td>\n",
       "      <td>bucaramanga</td>\n",
       "      <td>1000</td>\n",
       "      <td>1500</td>\n",
       "      <td>1458</td>\n",
       "      <td>+++</td>\n",
       "      <td>verduras_hortalizas</td>\n",
       "      <td>centroabastos</td>\n",
       "      <td>18</td>\n",
       "      <td>2016</td>\n",
       "    </tr>\n",
       "    <tr>\n",
       "      <th>3</th>\n",
       "      <td>acelga</td>\n",
       "      <td>cartagena</td>\n",
       "      <td>2100</td>\n",
       "      <td>2100</td>\n",
       "      <td>2100</td>\n",
       "      <td>=</td>\n",
       "      <td>verduras_hortalizas</td>\n",
       "      <td>bazurto</td>\n",
       "      <td>18</td>\n",
       "      <td>2016</td>\n",
       "    </tr>\n",
       "    <tr>\n",
       "      <th>4</th>\n",
       "      <td>acelga</td>\n",
       "      <td>chiquinquira</td>\n",
       "      <td>1250</td>\n",
       "      <td>1333</td>\n",
       "      <td>1278</td>\n",
       "      <td>+</td>\n",
       "      <td>verduras_hortalizas</td>\n",
       "      <td>NaN</td>\n",
       "      <td>18</td>\n",
       "      <td>2016</td>\n",
       "    </tr>\n",
       "    <tr>\n",
       "      <th>...</th>\n",
       "      <td>...</td>\n",
       "      <td>...</td>\n",
       "      <td>...</td>\n",
       "      <td>...</td>\n",
       "      <td>...</td>\n",
       "      <td>...</td>\n",
       "      <td>...</td>\n",
       "      <td>...</td>\n",
       "      <td>...</td>\n",
       "      <td>...</td>\n",
       "    </tr>\n",
       "    <tr>\n",
       "      <th>4259</th>\n",
       "      <td>vinagre</td>\n",
       "      <td>cucuta</td>\n",
       "      <td>1667</td>\n",
       "      <td>1667</td>\n",
       "      <td>1667</td>\n",
       "      <td>=</td>\n",
       "      <td>productos_procesados</td>\n",
       "      <td>la nueva sexta</td>\n",
       "      <td>18</td>\n",
       "      <td>2016</td>\n",
       "    </tr>\n",
       "    <tr>\n",
       "      <th>4260</th>\n",
       "      <td>vinagre</td>\n",
       "      <td>pamplona</td>\n",
       "      <td>1500</td>\n",
       "      <td>1583</td>\n",
       "      <td>1563</td>\n",
       "      <td>-</td>\n",
       "      <td>productos_procesados</td>\n",
       "      <td>NaN</td>\n",
       "      <td>18</td>\n",
       "      <td>2016</td>\n",
       "    </tr>\n",
       "    <tr>\n",
       "      <th>4261</th>\n",
       "      <td>vinagre</td>\n",
       "      <td>santa_marta</td>\n",
       "      <td>1183</td>\n",
       "      <td>1325</td>\n",
       "      <td>1253</td>\n",
       "      <td>+</td>\n",
       "      <td>productos_procesados</td>\n",
       "      <td>NaN</td>\n",
       "      <td>18</td>\n",
       "      <td>2016</td>\n",
       "    </tr>\n",
       "    <tr>\n",
       "      <th>4262</th>\n",
       "      <td>vinagre</td>\n",
       "      <td>sincelejo</td>\n",
       "      <td>2000</td>\n",
       "      <td>2150</td>\n",
       "      <td>2083</td>\n",
       "      <td>=</td>\n",
       "      <td>productos_procesados</td>\n",
       "      <td>NaN</td>\n",
       "      <td>18</td>\n",
       "      <td>2016</td>\n",
       "    </tr>\n",
       "    <tr>\n",
       "      <th>4263</th>\n",
       "      <td>vinagre</td>\n",
       "      <td>valledupar</td>\n",
       "      <td>1167</td>\n",
       "      <td>1250</td>\n",
       "      <td>1194</td>\n",
       "      <td>=</td>\n",
       "      <td>productos_procesados</td>\n",
       "      <td>mercado nuevo</td>\n",
       "      <td>18</td>\n",
       "      <td>2016</td>\n",
       "    </tr>\n",
       "  </tbody>\n",
       "</table>\n",
       "<p>4213 rows × 10 columns</p>\n",
       "</div>"
      ],
      "text/plain": [
       "     producto        ciudad precio_minimo precio_maximo precio_medio  \\\n",
       "0      acelga  barranquilla          2800          3100         2967   \n",
       "1      acelga        bogota           300           700          440   \n",
       "2      acelga   bucaramanga          1000          1500         1458   \n",
       "3      acelga     cartagena          2100          2100         2100   \n",
       "4      acelga  chiquinquira          1250          1333         1278   \n",
       "...       ...           ...           ...           ...          ...   \n",
       "4259  vinagre        cucuta          1667          1667         1667   \n",
       "4260  vinagre      pamplona          1500          1583         1563   \n",
       "4261  vinagre   santa_marta          1183          1325         1253   \n",
       "4262  vinagre     sincelejo          2000          2150         2083   \n",
       "4263  vinagre    valledupar          1167          1250         1194   \n",
       "\n",
       "     tendencia             categoria         mercado  semana_no  anho  \n",
       "0            -   verduras_hortalizas  barranquillita         18  2016  \n",
       "1            +   verduras_hortalizas      corabastos         18  2016  \n",
       "2          +++   verduras_hortalizas   centroabastos         18  2016  \n",
       "3            =   verduras_hortalizas         bazurto         18  2016  \n",
       "4            +   verduras_hortalizas             NaN         18  2016  \n",
       "...        ...                   ...             ...        ...   ...  \n",
       "4259         =  productos_procesados  la nueva sexta         18  2016  \n",
       "4260         -  productos_procesados             NaN         18  2016  \n",
       "4261         +  productos_procesados             NaN         18  2016  \n",
       "4262         =  productos_procesados             NaN         18  2016  \n",
       "4263         =  productos_procesados   mercado nuevo         18  2016  \n",
       "\n",
       "[4213 rows x 10 columns]"
      ]
     },
     "execution_count": 113,
     "metadata": {},
     "output_type": "execute_result"
    }
   ],
   "source": [
    "i = random.randint(a = 0, b = len(first_format))\n",
    "file_path = first_format[i]\n",
    "# file_path = 'reports/2015/week_16_Anexo_13_17abr_2015.xls'\n",
    "dataframe = first_format_data_extraction(file_path = file_path)\n",
    "dataframe = testing_validation.first_format_data_extraction(file_path = file_path)\n",
    "\n",
    "dataframe = testing_validation.first_format_data_transformation(dataframe = dataframe, \n",
    "                                                    file_path = file_path)\n",
    "\n",
    "dataframe = validator.validate_dataframe(dataframe = dataframe)\n",
    "\n",
    "dataframe"
   ]
  },
  {
   "cell_type": "code",
   "execution_count": 114,
   "metadata": {
    "ExecuteTime": {
     "end_time": "2024-09-28T16:24:01.581909Z",
     "start_time": "2024-09-28T16:23:57.568746Z"
    }
   },
   "outputs": [
    {
     "data": {
      "text/html": [
       "<div>\n",
       "<style scoped>\n",
       "    .dataframe tbody tr th:only-of-type {\n",
       "        vertical-align: middle;\n",
       "    }\n",
       "\n",
       "    .dataframe tbody tr th {\n",
       "        vertical-align: top;\n",
       "    }\n",
       "\n",
       "    .dataframe thead th {\n",
       "        text-align: right;\n",
       "    }\n",
       "</style>\n",
       "<table border=\"1\" class=\"dataframe\">\n",
       "  <thead>\n",
       "    <tr style=\"text-align: right;\">\n",
       "      <th></th>\n",
       "      <th>producto</th>\n",
       "      <th>ciudad</th>\n",
       "      <th>precio_minimo</th>\n",
       "      <th>precio_maximo</th>\n",
       "      <th>precio_medio</th>\n",
       "      <th>tendencia</th>\n",
       "      <th>categoria</th>\n",
       "      <th>mercado</th>\n",
       "      <th>semana_no</th>\n",
       "      <th>anho</th>\n",
       "    </tr>\n",
       "  </thead>\n",
       "  <tbody>\n",
       "    <tr>\n",
       "      <th>0</th>\n",
       "      <td>acelga</td>\n",
       "      <td>armenia</td>\n",
       "      <td>1200</td>\n",
       "      <td>1200</td>\n",
       "      <td>1200</td>\n",
       "      <td>-</td>\n",
       "      <td>verduras_hortalizas</td>\n",
       "      <td>mercar</td>\n",
       "      <td>47</td>\n",
       "      <td>2021</td>\n",
       "    </tr>\n",
       "    <tr>\n",
       "      <th>1</th>\n",
       "      <td>acelga</td>\n",
       "      <td>barranquilla</td>\n",
       "      <td>4000</td>\n",
       "      <td>4000</td>\n",
       "      <td>4000</td>\n",
       "      <td>=</td>\n",
       "      <td>verduras_hortalizas</td>\n",
       "      <td>barranquillita</td>\n",
       "      <td>47</td>\n",
       "      <td>2021</td>\n",
       "    </tr>\n",
       "    <tr>\n",
       "      <th>2</th>\n",
       "      <td>acelga</td>\n",
       "      <td>bogota</td>\n",
       "      <td>467</td>\n",
       "      <td>667</td>\n",
       "      <td>574</td>\n",
       "      <td>+++</td>\n",
       "      <td>verduras_hortalizas</td>\n",
       "      <td>corabastos</td>\n",
       "      <td>47</td>\n",
       "      <td>2021</td>\n",
       "    </tr>\n",
       "    <tr>\n",
       "      <th>3</th>\n",
       "      <td>acelga</td>\n",
       "      <td>bucaramanga</td>\n",
       "      <td>1500</td>\n",
       "      <td>2000</td>\n",
       "      <td>1675</td>\n",
       "      <td>--</td>\n",
       "      <td>verduras_hortalizas</td>\n",
       "      <td>centroabastos</td>\n",
       "      <td>47</td>\n",
       "      <td>2021</td>\n",
       "    </tr>\n",
       "    <tr>\n",
       "      <th>4</th>\n",
       "      <td>acelga</td>\n",
       "      <td>chiquinquira</td>\n",
       "      <td>1200</td>\n",
       "      <td>1500</td>\n",
       "      <td>1367</td>\n",
       "      <td>+</td>\n",
       "      <td>verduras_hortalizas</td>\n",
       "      <td>NaN</td>\n",
       "      <td>47</td>\n",
       "      <td>2021</td>\n",
       "    </tr>\n",
       "    <tr>\n",
       "      <th>...</th>\n",
       "      <td>...</td>\n",
       "      <td>...</td>\n",
       "      <td>...</td>\n",
       "      <td>...</td>\n",
       "      <td>...</td>\n",
       "      <td>...</td>\n",
       "      <td>...</td>\n",
       "      <td>...</td>\n",
       "      <td>...</td>\n",
       "      <td>...</td>\n",
       "    </tr>\n",
       "    <tr>\n",
       "      <th>4440</th>\n",
       "      <td>vinagre</td>\n",
       "      <td>pamplona</td>\n",
       "      <td>1500</td>\n",
       "      <td>1500</td>\n",
       "      <td>1500</td>\n",
       "      <td>=</td>\n",
       "      <td>productos_procesados</td>\n",
       "      <td>NaN</td>\n",
       "      <td>47</td>\n",
       "      <td>2021</td>\n",
       "    </tr>\n",
       "    <tr>\n",
       "      <th>4441</th>\n",
       "      <td>vinagre</td>\n",
       "      <td>pereira</td>\n",
       "      <td>4875</td>\n",
       "      <td>5160</td>\n",
       "      <td>4984</td>\n",
       "      <td>=</td>\n",
       "      <td>productos_procesados</td>\n",
       "      <td>mercasa</td>\n",
       "      <td>47</td>\n",
       "      <td>2021</td>\n",
       "    </tr>\n",
       "    <tr>\n",
       "      <th>4442</th>\n",
       "      <td>vinagre</td>\n",
       "      <td>santa_marta</td>\n",
       "      <td>1217</td>\n",
       "      <td>1250</td>\n",
       "      <td>1242</td>\n",
       "      <td>=</td>\n",
       "      <td>productos_procesados</td>\n",
       "      <td>NaN</td>\n",
       "      <td>47</td>\n",
       "      <td>2021</td>\n",
       "    </tr>\n",
       "    <tr>\n",
       "      <th>4443</th>\n",
       "      <td>vinagre</td>\n",
       "      <td>sincelejo</td>\n",
       "      <td>1125</td>\n",
       "      <td>1333</td>\n",
       "      <td>1229</td>\n",
       "      <td>=</td>\n",
       "      <td>productos_procesados</td>\n",
       "      <td>nuevo mercado</td>\n",
       "      <td>47</td>\n",
       "      <td>2021</td>\n",
       "    </tr>\n",
       "    <tr>\n",
       "      <th>4444</th>\n",
       "      <td>vinagre</td>\n",
       "      <td>valledupar</td>\n",
       "      <td>1083</td>\n",
       "      <td>1083</td>\n",
       "      <td>1083</td>\n",
       "      <td>=</td>\n",
       "      <td>productos_procesados</td>\n",
       "      <td>mercado nuevo</td>\n",
       "      <td>47</td>\n",
       "      <td>2021</td>\n",
       "    </tr>\n",
       "  </tbody>\n",
       "</table>\n",
       "<p>4411 rows × 10 columns</p>\n",
       "</div>"
      ],
      "text/plain": [
       "     producto        ciudad precio_minimo precio_maximo precio_medio  \\\n",
       "0      acelga       armenia          1200          1200         1200   \n",
       "1      acelga  barranquilla          4000          4000         4000   \n",
       "2      acelga        bogota           467           667          574   \n",
       "3      acelga   bucaramanga          1500          2000         1675   \n",
       "4      acelga  chiquinquira          1200          1500         1367   \n",
       "...       ...           ...           ...           ...          ...   \n",
       "4440  vinagre      pamplona          1500          1500         1500   \n",
       "4441  vinagre       pereira          4875          5160         4984   \n",
       "4442  vinagre   santa_marta          1217          1250         1242   \n",
       "4443  vinagre     sincelejo          1125          1333         1229   \n",
       "4444  vinagre    valledupar          1083          1083         1083   \n",
       "\n",
       "     tendencia             categoria         mercado  semana_no  anho  \n",
       "0            -   verduras_hortalizas          mercar         47  2021  \n",
       "1            =   verduras_hortalizas  barranquillita         47  2021  \n",
       "2          +++   verduras_hortalizas      corabastos         47  2021  \n",
       "3           --   verduras_hortalizas   centroabastos         47  2021  \n",
       "4            +   verduras_hortalizas             NaN         47  2021  \n",
       "...        ...                   ...             ...        ...   ...  \n",
       "4440         =  productos_procesados             NaN         47  2021  \n",
       "4441         =  productos_procesados         mercasa         47  2021  \n",
       "4442         =  productos_procesados             NaN         47  2021  \n",
       "4443         =  productos_procesados   nuevo mercado         47  2021  \n",
       "4444         =  productos_procesados   mercado nuevo         47  2021  \n",
       "\n",
       "[4411 rows x 10 columns]"
      ]
     },
     "execution_count": 114,
     "metadata": {},
     "output_type": "execute_result"
    }
   ],
   "source": [
    "i = random.randint(a = 0, b = len(second_format))\n",
    "file_path = second_format[i]\n",
    "dataframe = testing_validation.second_format_data_extraction(file_path = file_path)\n",
    "dataframe = validator.validate_dataframe(dataframe = dataframe)\n",
    "dataframe"
   ]
  },
  {
   "cell_type": "markdown",
   "metadata": {},
   "source": [
    "## Final testing "
   ]
  },
  {
   "cell_type": "code",
   "execution_count": 118,
   "metadata": {
    "ExecuteTime": {
     "end_time": "2024-09-28T17:29:41.707947Z",
     "start_time": "2024-09-28T17:29:41.321942Z"
    }
   },
   "outputs": [
    {
     "name": "stdout",
     "output_type": "stream",
     "text": [
      "2024-09-28 12:29:41,699 - INFO - Loaded existing files tracker from S3.\n",
      "2024-09-28 12:29:41,699 - INFO - Loaded existing files tracker from S3.\n"
     ]
    },
    {
     "name": "stderr",
     "output_type": "stream",
     "text": [
      "INFO:__main__:Loaded existing files tracker from S3.\n"
     ]
    }
   ],
   "source": [
    "final = ProcessHandler(s3 = s3, \n",
    "                       engine = engine, \n",
    "                       bucket_name = bucket_name, \n",
    "                       table_name = table_name)"
   ]
  },
  {
   "cell_type": "code",
   "execution_count": 116,
   "metadata": {
    "ExecuteTime": {
     "end_time": "2024-09-28T17:23:23.249735Z",
     "start_time": "2024-09-28T16:24:07.780222Z"
    },
    "scrolled": false
   },
   "outputs": [
    {
     "name": "stdout",
     "output_type": "stream",
     "text": [
      "2024-09-28 11:24:11,086 - INFO - Working on 2024 files\n",
      "2024-09-28 11:24:11,086 - INFO - Working on 2024 files\n"
     ]
    },
    {
     "name": "stderr",
     "output_type": "stream",
     "text": [
      "INFO:__main__:Working on 2024 files\n"
     ]
    },
    {
     "name": "stdout",
     "output_type": "stream",
     "text": [
      "2024-09-28 11:24:11,818 - INFO - Loaded existing files tracker from S3.\n",
      "2024-09-28 11:24:11,818 - INFO - Loaded existing files tracker from S3.\n"
     ]
    },
    {
     "name": "stderr",
     "output_type": "stream",
     "text": [
      "INFO:__main__:Loaded existing files tracker from S3.\n",
      "Processing 2024 files: 100%|██████████| 39/39 [00:00<00:00, 9762.93file/s]\n"
     ]
    },
    {
     "name": "stdout",
     "output_type": "stream",
     "text": [
      "2024-09-28 11:24:12,018 - INFO - Year 2024 processed: 0 new files uploaded to S3 bucket sipsa-bucket.\n",
      "2024-09-28 11:24:12,018 - INFO - Year 2024 processed: 0 new files uploaded to S3 bucket sipsa-bucket.\n"
     ]
    },
    {
     "name": "stderr",
     "output_type": "stream",
     "text": [
      "INFO:__main__:Year 2024 processed: 0 new files uploaded to S3 bucket sipsa-bucket.\n"
     ]
    },
    {
     "name": "stdout",
     "output_type": "stream",
     "text": [
      "2024-09-28 11:24:13,580 - INFO - Working on 2023 files\n",
      "2024-09-28 11:24:13,580 - INFO - Working on 2023 files\n"
     ]
    },
    {
     "name": "stderr",
     "output_type": "stream",
     "text": [
      "INFO:__main__:Working on 2023 files\n"
     ]
    },
    {
     "name": "stdout",
     "output_type": "stream",
     "text": [
      "2024-09-28 11:24:14,561 - INFO - Loaded existing files tracker from S3.\n",
      "2024-09-28 11:24:14,561 - INFO - Loaded existing files tracker from S3.\n"
     ]
    },
    {
     "name": "stderr",
     "output_type": "stream",
     "text": [
      "INFO:__main__:Loaded existing files tracker from S3.\n",
      "Processing 2023 files: 100%|██████████| 54/54 [00:00<00:00, 11276.13file/s]"
     ]
    },
    {
     "name": "stdout",
     "output_type": "stream",
     "text": [
      "2024-09-28 11:24:14,722 - INFO - Year 2023 processed: 0 new files uploaded to S3 bucket sipsa-bucket.\n",
      "2024-09-28 11:24:14,722 - INFO - Year 2023 processed: 0 new files uploaded to S3 bucket sipsa-bucket.\n"
     ]
    },
    {
     "name": "stderr",
     "output_type": "stream",
     "text": [
      "\n",
      "INFO:__main__:Year 2023 processed: 0 new files uploaded to S3 bucket sipsa-bucket.\n"
     ]
    },
    {
     "name": "stdout",
     "output_type": "stream",
     "text": [
      "2024-09-28 11:24:19,212 - INFO - Working on 2022 files\n",
      "2024-09-28 11:24:19,212 - INFO - Working on 2022 files\n"
     ]
    },
    {
     "name": "stderr",
     "output_type": "stream",
     "text": [
      "INFO:__main__:Working on 2022 files\n"
     ]
    },
    {
     "name": "stdout",
     "output_type": "stream",
     "text": [
      "2024-09-28 11:24:19,506 - INFO - Loaded existing files tracker from S3.\n",
      "2024-09-28 11:24:19,506 - INFO - Loaded existing files tracker from S3.\n"
     ]
    },
    {
     "name": "stderr",
     "output_type": "stream",
     "text": [
      "INFO:__main__:Loaded existing files tracker from S3.\n",
      "Processing 2022 files:   0%|          | 0/53 [00:00<?, ?file/s]"
     ]
    },
    {
     "name": "stdout",
     "output_type": "stream",
     "text": [
      "2024-09-28 11:24:19,734 - ERROR - Failed to download file from https://www.dane.gov.cohttps://www.dane.gov.co/files/investigaciones/agropecuario/sipsa/anex_22oct_al_28oct_2022.xlsx: HTTPSConnectionPool(host='www.dane.gov.cohttps', port=443): Max retries exceeded with url: //www.dane.gov.co/files/investigaciones/agropecuario/sipsa/anex_22oct_al_28oct_2022.xlsx (Caused by NewConnectionError('<urllib3.connection.HTTPSConnection object at 0x0000020B24E3FF10>: Failed to establish a new connection: [Errno 11001] getaddrinfo failed'))\n",
      "2024-09-28 11:24:19,734 - ERROR - Failed to download file from https://www.dane.gov.cohttps://www.dane.gov.co/files/investigaciones/agropecuario/sipsa/anex_22oct_al_28oct_2022.xlsx: HTTPSConnectionPool(host='www.dane.gov.cohttps', port=443): Max retries exceeded with url: //www.dane.gov.co/files/investigaciones/agropecuario/sipsa/anex_22oct_al_28oct_2022.xlsx (Caused by NewConnectionError('<urllib3.connection.HTTPSConnection object at 0x0000020B24E3FF10>: Failed to establish a new connection: [Errno 11001] getaddrinfo failed'))\n"
     ]
    },
    {
     "name": "stderr",
     "output_type": "stream",
     "text": [
      "ERROR:__main__:Failed to download file from https://www.dane.gov.cohttps://www.dane.gov.co/files/investigaciones/agropecuario/sipsa/anex_22oct_al_28oct_2022.xlsx: HTTPSConnectionPool(host='www.dane.gov.cohttps', port=443): Max retries exceeded with url: //www.dane.gov.co/files/investigaciones/agropecuario/sipsa/anex_22oct_al_28oct_2022.xlsx (Caused by NewConnectionError('<urllib3.connection.HTTPSConnection object at 0x0000020B24E3FF10>: Failed to establish a new connection: [Errno 11001] getaddrinfo failed'))\n",
      "Processing 2022 files:  21%|██        | 11/53 [00:00<00:00, 48.89file/s]"
     ]
    },
    {
     "name": "stdout",
     "output_type": "stream",
     "text": [
      "2024-09-28 11:24:19,748 - ERROR - Failed to download file from https://www.dane.gov.cohttps://www.dane.gov.co/files/investigaciones/agropecuario/sipsa/anex_15oct_al_21oct_2022.xlsx: HTTPSConnectionPool(host='www.dane.gov.cohttps', port=443): Max retries exceeded with url: //www.dane.gov.co/files/investigaciones/agropecuario/sipsa/anex_15oct_al_21oct_2022.xlsx (Caused by NewConnectionError('<urllib3.connection.HTTPSConnection object at 0x0000020B24E3F790>: Failed to establish a new connection: [Errno 11001] getaddrinfo failed'))\n",
      "2024-09-28 11:24:19,748 - ERROR - Failed to download file from https://www.dane.gov.cohttps://www.dane.gov.co/files/investigaciones/agropecuario/sipsa/anex_15oct_al_21oct_2022.xlsx: HTTPSConnectionPool(host='www.dane.gov.cohttps', port=443): Max retries exceeded with url: //www.dane.gov.co/files/investigaciones/agropecuario/sipsa/anex_15oct_al_21oct_2022.xlsx (Caused by NewConnectionError('<urllib3.connection.HTTPSConnection object at 0x0000020B24E3F790>: Failed to establish a new connection: [Errno 11001] getaddrinfo failed'))\n"
     ]
    },
    {
     "name": "stderr",
     "output_type": "stream",
     "text": [
      "ERROR:__main__:Failed to download file from https://www.dane.gov.cohttps://www.dane.gov.co/files/investigaciones/agropecuario/sipsa/anex_15oct_al_21oct_2022.xlsx: HTTPSConnectionPool(host='www.dane.gov.cohttps', port=443): Max retries exceeded with url: //www.dane.gov.co/files/investigaciones/agropecuario/sipsa/anex_15oct_al_21oct_2022.xlsx (Caused by NewConnectionError('<urllib3.connection.HTTPSConnection object at 0x0000020B24E3F790>: Failed to establish a new connection: [Errno 11001] getaddrinfo failed'))\n",
      "Processing 2022 files: 100%|██████████| 53/53 [00:00<00:00, 217.22file/s]"
     ]
    },
    {
     "name": "stdout",
     "output_type": "stream",
     "text": [
      "2024-09-28 11:24:19,927 - INFO - Year 2022 processed: 0 new files uploaded to S3 bucket sipsa-bucket.\n"
     ]
    },
    {
     "name": "stderr",
     "output_type": "stream",
     "text": [
      "\n"
     ]
    },
    {
     "name": "stdout",
     "output_type": "stream",
     "text": [
      "2024-09-28 11:24:19,927 - INFO - Year 2022 processed: 0 new files uploaded to S3 bucket sipsa-bucket.\n"
     ]
    },
    {
     "name": "stderr",
     "output_type": "stream",
     "text": [
      "INFO:__main__:Year 2022 processed: 0 new files uploaded to S3 bucket sipsa-bucket.\n"
     ]
    },
    {
     "name": "stdout",
     "output_type": "stream",
     "text": [
      "2024-09-28 11:24:21,717 - INFO - Working on 2021 files\n",
      "2024-09-28 11:24:21,717 - INFO - Working on 2021 files\n"
     ]
    },
    {
     "name": "stderr",
     "output_type": "stream",
     "text": [
      "INFO:__main__:Working on 2021 files\n"
     ]
    },
    {
     "name": "stdout",
     "output_type": "stream",
     "text": [
      "2024-09-28 11:24:22,254 - INFO - Loaded existing files tracker from S3.\n",
      "2024-09-28 11:24:22,254 - INFO - Loaded existing files tracker from S3.\n"
     ]
    },
    {
     "name": "stderr",
     "output_type": "stream",
     "text": [
      "INFO:__main__:Loaded existing files tracker from S3.\n",
      "Processing 2021 files: 100%|██████████| 51/51 [00:00<00:00, 12792.87file/s]"
     ]
    },
    {
     "name": "stdout",
     "output_type": "stream",
     "text": [
      "2024-09-28 11:24:22,416 - INFO - Year 2021 processed: 0 new files uploaded to S3 bucket sipsa-bucket.\n",
      "2024-09-28 11:24:22,416 - INFO - Year 2021 processed: 0 new files uploaded to S3 bucket sipsa-bucket.\n"
     ]
    },
    {
     "name": "stderr",
     "output_type": "stream",
     "text": [
      "\n",
      "INFO:__main__:Year 2021 processed: 0 new files uploaded to S3 bucket sipsa-bucket.\n"
     ]
    },
    {
     "name": "stdout",
     "output_type": "stream",
     "text": [
      "2024-09-28 11:24:23,908 - INFO - Working on 2020 files\n",
      "2024-09-28 11:24:23,908 - INFO - Working on 2020 files\n"
     ]
    },
    {
     "name": "stderr",
     "output_type": "stream",
     "text": [
      "INFO:__main__:Working on 2020 files\n"
     ]
    },
    {
     "name": "stdout",
     "output_type": "stream",
     "text": [
      "2024-09-28 11:24:24,666 - INFO - Loaded existing files tracker from S3.\n",
      "2024-09-28 11:24:24,666 - INFO - Loaded existing files tracker from S3.\n"
     ]
    },
    {
     "name": "stderr",
     "output_type": "stream",
     "text": [
      "INFO:__main__:Loaded existing files tracker from S3.\n",
      "Processing 2020 files: 100%|██████████| 53/53 [00:00<00:00, 7574.30file/s]\n"
     ]
    },
    {
     "name": "stdout",
     "output_type": "stream",
     "text": [
      "2024-09-28 11:24:25,035 - INFO - Year 2020 processed: 0 new files uploaded to S3 bucket sipsa-bucket.\n",
      "2024-09-28 11:24:25,035 - INFO - Year 2020 processed: 0 new files uploaded to S3 bucket sipsa-bucket.\n"
     ]
    },
    {
     "name": "stderr",
     "output_type": "stream",
     "text": [
      "INFO:__main__:Year 2020 processed: 0 new files uploaded to S3 bucket sipsa-bucket.\n"
     ]
    },
    {
     "name": "stdout",
     "output_type": "stream",
     "text": [
      "2024-09-28 11:24:26,741 - INFO - Working on 2019 files\n",
      "2024-09-28 11:24:26,741 - INFO - Working on 2019 files\n"
     ]
    },
    {
     "name": "stderr",
     "output_type": "stream",
     "text": [
      "INFO:__main__:Working on 2019 files\n"
     ]
    },
    {
     "name": "stdout",
     "output_type": "stream",
     "text": [
      "2024-09-28 11:24:27,556 - INFO - Loaded existing files tracker from S3.\n",
      "2024-09-28 11:24:27,556 - INFO - Loaded existing files tracker from S3.\n"
     ]
    },
    {
     "name": "stderr",
     "output_type": "stream",
     "text": [
      "INFO:__main__:Loaded existing files tracker from S3.\n",
      "Processing 2019 files: 100%|██████████| 52/52 [00:00<00:00, 13008.70file/s]\n"
     ]
    },
    {
     "name": "stdout",
     "output_type": "stream",
     "text": [
      "2024-09-28 11:24:27,887 - INFO - Year 2019 processed: 0 new files uploaded to S3 bucket sipsa-bucket.\n",
      "2024-09-28 11:24:27,887 - INFO - Year 2019 processed: 0 new files uploaded to S3 bucket sipsa-bucket.\n"
     ]
    },
    {
     "name": "stderr",
     "output_type": "stream",
     "text": [
      "INFO:__main__:Year 2019 processed: 0 new files uploaded to S3 bucket sipsa-bucket.\n"
     ]
    },
    {
     "name": "stdout",
     "output_type": "stream",
     "text": [
      "2024-09-28 11:24:29,490 - INFO - Working on 2018 files\n",
      "2024-09-28 11:24:29,490 - INFO - Working on 2018 files\n"
     ]
    },
    {
     "name": "stderr",
     "output_type": "stream",
     "text": [
      "INFO:__main__:Working on 2018 files\n"
     ]
    },
    {
     "name": "stdout",
     "output_type": "stream",
     "text": [
      "2024-09-28 11:24:30,516 - INFO - Loaded existing files tracker from S3.\n",
      "2024-09-28 11:24:30,516 - INFO - Loaded existing files tracker from S3.\n"
     ]
    },
    {
     "name": "stderr",
     "output_type": "stream",
     "text": [
      "INFO:__main__:Loaded existing files tracker from S3.\n",
      "Processing 2018 files: 100%|██████████| 52/52 [00:00<00:00, 10383.42file/s]\n"
     ]
    },
    {
     "name": "stdout",
     "output_type": "stream",
     "text": [
      "2024-09-28 11:24:30,849 - INFO - Year 2018 processed: 0 new files uploaded to S3 bucket sipsa-bucket.\n",
      "2024-09-28 11:24:30,849 - INFO - Year 2018 processed: 0 new files uploaded to S3 bucket sipsa-bucket.\n"
     ]
    },
    {
     "name": "stderr",
     "output_type": "stream",
     "text": [
      "INFO:__main__:Year 2018 processed: 0 new files uploaded to S3 bucket sipsa-bucket.\n"
     ]
    },
    {
     "name": "stdout",
     "output_type": "stream",
     "text": [
      "2024-09-28 11:24:32,341 - INFO - Working on 2017 files\n",
      "2024-09-28 11:24:32,341 - INFO - Working on 2017 files\n"
     ]
    },
    {
     "name": "stderr",
     "output_type": "stream",
     "text": [
      "INFO:__main__:Working on 2017 files\n"
     ]
    },
    {
     "name": "stdout",
     "output_type": "stream",
     "text": [
      "2024-09-28 11:24:32,761 - INFO - Loaded existing files tracker from S3.\n",
      "2024-09-28 11:24:32,761 - INFO - Loaded existing files tracker from S3.\n"
     ]
    },
    {
     "name": "stderr",
     "output_type": "stream",
     "text": [
      "INFO:__main__:Loaded existing files tracker from S3.\n",
      "Processing 2017 files: 100%|██████████| 52/52 [00:00<00:00, 5778.20file/s]\n"
     ]
    },
    {
     "name": "stdout",
     "output_type": "stream",
     "text": [
      "2024-09-28 11:24:33,056 - INFO - Year 2017 processed: 0 new files uploaded to S3 bucket sipsa-bucket.\n",
      "2024-09-28 11:24:33,056 - INFO - Year 2017 processed: 0 new files uploaded to S3 bucket sipsa-bucket.\n"
     ]
    },
    {
     "name": "stderr",
     "output_type": "stream",
     "text": [
      "INFO:__main__:Year 2017 processed: 0 new files uploaded to S3 bucket sipsa-bucket.\n"
     ]
    },
    {
     "name": "stdout",
     "output_type": "stream",
     "text": [
      "2024-09-28 11:24:34,474 - INFO - Working on 2016 files\n",
      "2024-09-28 11:24:34,474 - INFO - Working on 2016 files\n"
     ]
    },
    {
     "name": "stderr",
     "output_type": "stream",
     "text": [
      "INFO:__main__:Working on 2016 files\n"
     ]
    },
    {
     "name": "stdout",
     "output_type": "stream",
     "text": [
      "2024-09-28 11:24:35,127 - INFO - Loaded existing files tracker from S3.\n",
      "2024-09-28 11:24:35,127 - INFO - Loaded existing files tracker from S3.\n"
     ]
    },
    {
     "name": "stderr",
     "output_type": "stream",
     "text": [
      "INFO:__main__:Loaded existing files tracker from S3.\n",
      "Processing 2016 files: 100%|██████████| 52/52 [00:00<00:00, 10446.59file/s]\n"
     ]
    },
    {
     "name": "stdout",
     "output_type": "stream",
     "text": [
      "2024-09-28 11:24:35,407 - INFO - Year 2016 processed: 0 new files uploaded to S3 bucket sipsa-bucket.\n",
      "2024-09-28 11:24:35,407 - INFO - Year 2016 processed: 0 new files uploaded to S3 bucket sipsa-bucket.\n"
     ]
    },
    {
     "name": "stderr",
     "output_type": "stream",
     "text": [
      "INFO:__main__:Year 2016 processed: 0 new files uploaded to S3 bucket sipsa-bucket.\n"
     ]
    },
    {
     "name": "stdout",
     "output_type": "stream",
     "text": [
      "2024-09-28 11:24:37,457 - INFO - Working on 2015 files\n",
      "2024-09-28 11:24:37,457 - INFO - Working on 2015 files\n"
     ]
    },
    {
     "name": "stderr",
     "output_type": "stream",
     "text": [
      "INFO:__main__:Working on 2015 files\n"
     ]
    },
    {
     "name": "stdout",
     "output_type": "stream",
     "text": [
      "2024-09-28 11:24:38,241 - INFO - Loaded existing files tracker from S3.\n",
      "2024-09-28 11:24:38,241 - INFO - Loaded existing files tracker from S3.\n"
     ]
    },
    {
     "name": "stderr",
     "output_type": "stream",
     "text": [
      "INFO:__main__:Loaded existing files tracker from S3.\n",
      "Processing 2015 files: 100%|██████████| 53/53 [00:00<00:00, 13228.88file/s]"
     ]
    },
    {
     "name": "stdout",
     "output_type": "stream",
     "text": [
      "2024-09-28 11:24:38,430 - INFO - Year 2015 processed: 0 new files uploaded to S3 bucket sipsa-bucket.\n"
     ]
    },
    {
     "name": "stderr",
     "output_type": "stream",
     "text": [
      "\n"
     ]
    },
    {
     "name": "stdout",
     "output_type": "stream",
     "text": [
      "2024-09-28 11:24:38,430 - INFO - Year 2015 processed: 0 new files uploaded to S3 bucket sipsa-bucket.\n"
     ]
    },
    {
     "name": "stderr",
     "output_type": "stream",
     "text": [
      "INFO:__main__:Year 2015 processed: 0 new files uploaded to S3 bucket sipsa-bucket.\n"
     ]
    },
    {
     "name": "stdout",
     "output_type": "stream",
     "text": [
      "2024-09-28 11:24:39,847 - INFO - Working on 14-1 files\n",
      "2024-09-28 11:24:39,847 - INFO - Working on 14-1 files\n"
     ]
    },
    {
     "name": "stderr",
     "output_type": "stream",
     "text": [
      "INFO:__main__:Working on 14-1 files\n"
     ]
    },
    {
     "name": "stdout",
     "output_type": "stream",
     "text": [
      "2024-09-28 11:24:40,357 - INFO - Loaded existing files tracker from S3.\n",
      "2024-09-28 11:24:40,357 - INFO - Loaded existing files tracker from S3.\n"
     ]
    },
    {
     "name": "stderr",
     "output_type": "stream",
     "text": [
      "INFO:__main__:Loaded existing files tracker from S3.\n",
      "Processing 14-1 files: 100%|██████████| 51/51 [00:00<00:00, 12724.38file/s]\n"
     ]
    },
    {
     "name": "stdout",
     "output_type": "stream",
     "text": [
      "2024-09-28 11:24:40,655 - INFO - Year 14-1 processed: 0 new files uploaded to S3 bucket sipsa-bucket.\n",
      "2024-09-28 11:24:40,655 - INFO - Year 14-1 processed: 0 new files uploaded to S3 bucket sipsa-bucket.\n"
     ]
    },
    {
     "name": "stderr",
     "output_type": "stream",
     "text": [
      "INFO:__main__:Year 14-1 processed: 0 new files uploaded to S3 bucket sipsa-bucket.\n"
     ]
    },
    {
     "name": "stdout",
     "output_type": "stream",
     "text": [
      "2024-09-28 11:24:42,717 - INFO - Working on 13-1 files\n",
      "2024-09-28 11:24:42,717 - INFO - Working on 13-1 files\n"
     ]
    },
    {
     "name": "stderr",
     "output_type": "stream",
     "text": [
      "INFO:__main__:Working on 13-1 files\n"
     ]
    },
    {
     "name": "stdout",
     "output_type": "stream",
     "text": [
      "2024-09-28 11:24:43,067 - INFO - Loaded existing files tracker from S3.\n",
      "2024-09-28 11:24:43,067 - INFO - Loaded existing files tracker from S3.\n"
     ]
    },
    {
     "name": "stderr",
     "output_type": "stream",
     "text": [
      "INFO:__main__:Loaded existing files tracker from S3.\n",
      "Processing 13-1 files: 100%|██████████| 51/51 [00:00<00:00, 17009.34file/s]"
     ]
    },
    {
     "name": "stdout",
     "output_type": "stream",
     "text": [
      "2024-09-28 11:24:43,223 - INFO - Year 13-1 processed: 0 new files uploaded to S3 bucket sipsa-bucket.\n",
      "2024-09-28 11:24:43,223 - INFO - Year 13-1 processed: 0 new files uploaded to S3 bucket sipsa-bucket.\n"
     ]
    },
    {
     "name": "stderr",
     "output_type": "stream",
     "text": [
      "\n",
      "INFO:__main__:Year 13-1 processed: 0 new files uploaded to S3 bucket sipsa-bucket.\n"
     ]
    },
    {
     "name": "stdout",
     "output_type": "stream",
     "text": [
      "2024-09-28 11:24:44,639 - INFO - Working on 12-1 files\n",
      "2024-09-28 11:24:44,639 - INFO - Working on 12-1 files\n"
     ]
    },
    {
     "name": "stderr",
     "output_type": "stream",
     "text": [
      "INFO:__main__:Working on 12-1 files\n"
     ]
    },
    {
     "name": "stdout",
     "output_type": "stream",
     "text": [
      "2024-09-28 11:24:44,984 - INFO - Loaded existing files tracker from S3.\n",
      "2024-09-28 11:24:44,984 - INFO - Loaded existing files tracker from S3.\n"
     ]
    },
    {
     "name": "stderr",
     "output_type": "stream",
     "text": [
      "INFO:__main__:Loaded existing files tracker from S3.\n",
      "Processing 12-1 files: 100%|██████████| 7/7 [00:00<00:00, 7086.68file/s]"
     ]
    },
    {
     "name": "stdout",
     "output_type": "stream",
     "text": [
      "2024-09-28 11:24:45,133 - INFO - Year 12-1 processed: 0 new files uploaded to S3 bucket sipsa-bucket.\n",
      "2024-09-28 11:24:45,133 - INFO - Year 12-1 processed: 0 new files uploaded to S3 bucket sipsa-bucket.\n"
     ]
    },
    {
     "name": "stderr",
     "output_type": "stream",
     "text": [
      "\n",
      "INFO:__main__:Year 12-1 processed: 0 new files uploaded to S3 bucket sipsa-bucket.\n"
     ]
    },
    {
     "name": "stdout",
     "output_type": "stream",
     "text": [
      "2024-09-28 11:24:45,527 - INFO - Log file logfile uploaded successfully to S3 bucket sipsa-bucket.\n",
      "2024-09-28 11:24:45,527 - INFO - Log file logfile uploaded successfully to S3 bucket sipsa-bucket.\n"
     ]
    },
    {
     "name": "stderr",
     "output_type": "stream",
     "text": [
      "INFO:__main__:Log file logfile uploaded successfully to S3 bucket sipsa-bucket.\n"
     ]
    },
    {
     "name": "stdout",
     "output_type": "stream",
     "text": [
      "2024-09-28 11:24:45,532 - INFO - Fetching first format paths from bucket: sipsa-bucket\n",
      "2024-09-28 11:24:45,532 - INFO - Fetching first format paths from bucket: sipsa-bucket\n"
     ]
    },
    {
     "name": "stderr",
     "output_type": "stream",
     "text": [
      "INFO:__main__:Fetching first format paths from bucket: sipsa-bucket\n"
     ]
    },
    {
     "name": "stdout",
     "output_type": "stream",
     "text": [
      "2024-09-28 11:24:46,993 - INFO - Found 285 files for the first format.\n",
      "2024-09-28 11:24:46,993 - INFO - Found 285 files for the first format.\n"
     ]
    },
    {
     "name": "stderr",
     "output_type": "stream",
     "text": [
      "INFO:__main__:Found 285 files for the first format.\n"
     ]
    },
    {
     "name": "stdout",
     "output_type": "stream",
     "text": [
      "2024-09-28 11:24:47,001 - INFO - Fetching second format paths from bucket: sipsa-bucket\n",
      "2024-09-28 11:24:47,001 - INFO - Fetching second format paths from bucket: sipsa-bucket\n"
     ]
    },
    {
     "name": "stderr",
     "output_type": "stream",
     "text": [
      "INFO:__main__:Fetching second format paths from bucket: sipsa-bucket\n"
     ]
    },
    {
     "name": "stdout",
     "output_type": "stream",
     "text": [
      "2024-09-28 11:24:47,361 - INFO - Found 333 files for the second format.\n",
      "2024-09-28 11:24:47,361 - INFO - Found 333 files for the second format.\n"
     ]
    },
    {
     "name": "stderr",
     "output_type": "stream",
     "text": [
      "INFO:__main__:Found 333 files for the second format.\n"
     ]
    },
    {
     "name": "stdout",
     "output_type": "stream",
     "text": [
      "2024-09-28 11:24:47,364 - INFO - [INFO] First batch of files\n",
      "2024-09-28 11:24:47,364 - INFO - [INFO] First batch of files\n"
     ]
    },
    {
     "name": "stderr",
     "output_type": "stream",
     "text": [
      "INFO:__main__:[INFO] First batch of files\n",
      "  0%|          | 0/285 [00:00<?, ?it/s]"
     ]
    },
    {
     "name": "stdout",
     "output_type": "stream",
     "text": [
      "2024-09-28 11:24:47,374 - INFO - [INFO] Skipping file week_1_Anexo_Bol_Semanal_SIPSA_Noviembre_16_2012.xls as it is already loaded into RDS.\n",
      "2024-09-28 11:24:47,374 - INFO - [INFO] Skipping file week_1_Anexo_Bol_Semanal_SIPSA_Noviembre_16_2012.xls as it is already loaded into RDS.\n"
     ]
    },
    {
     "name": "stderr",
     "output_type": "stream",
     "text": [
      "INFO:__main__:[INFO] Skipping file week_1_Anexo_Bol_Semanal_SIPSA_Noviembre_16_2012.xls as it is already loaded into RDS.\n"
     ]
    },
    {
     "name": "stdout",
     "output_type": "stream",
     "text": [
      "2024-09-28 11:24:47,380 - INFO - [INFO] Skipping file week_2_Anexo_Bol_Semanal_SIPSA_Noviembre_23_2012.xls as it is already loaded into RDS.\n",
      "2024-09-28 11:24:47,380 - INFO - [INFO] Skipping file week_2_Anexo_Bol_Semanal_SIPSA_Noviembre_23_2012.xls as it is already loaded into RDS.\n"
     ]
    },
    {
     "name": "stderr",
     "output_type": "stream",
     "text": [
      "INFO:__main__:[INFO] Skipping file week_2_Anexo_Bol_Semanal_SIPSA_Noviembre_23_2012.xls as it is already loaded into RDS.\n"
     ]
    },
    {
     "name": "stdout",
     "output_type": "stream",
     "text": [
      "2024-09-28 11:24:47,384 - INFO - [INFO] Skipping file week_3_Anexo_Bol_Semanal_SIPSA_Noviembre_24_2012.xls as it is already loaded into RDS.\n",
      "2024-09-28 11:24:47,384 - INFO - [INFO] Skipping file week_3_Anexo_Bol_Semanal_SIPSA_Noviembre_24_2012.xls as it is already loaded into RDS.\n"
     ]
    },
    {
     "name": "stderr",
     "output_type": "stream",
     "text": [
      "INFO:__main__:[INFO] Skipping file week_3_Anexo_Bol_Semanal_SIPSA_Noviembre_24_2012.xls as it is already loaded into RDS.\n"
     ]
    },
    {
     "name": "stdout",
     "output_type": "stream",
     "text": [
      "2024-09-28 11:24:47,392 - INFO - [INFO] Skipping file week_4_Anexo_Bol_Semanal_SIPSA_Diciembre_1_2012.xls as it is already loaded into RDS.\n",
      "2024-09-28 11:24:47,392 - INFO - [INFO] Skipping file week_4_Anexo_Bol_Semanal_SIPSA_Diciembre_1_2012.xls as it is already loaded into RDS.\n"
     ]
    },
    {
     "name": "stderr",
     "output_type": "stream",
     "text": [
      "INFO:__main__:[INFO] Skipping file week_4_Anexo_Bol_Semanal_SIPSA_Diciembre_1_2012.xls as it is already loaded into RDS.\n"
     ]
    },
    {
     "name": "stdout",
     "output_type": "stream",
     "text": [
      "2024-09-28 11:24:47,419 - INFO - [INFO] Skipping file week_5_Anexo_Bol_Semanal_SIPSA_Diciembre_8_2012.xls as it is already loaded into RDS.\n",
      "2024-09-28 11:24:47,419 - INFO - [INFO] Skipping file week_5_Anexo_Bol_Semanal_SIPSA_Diciembre_8_2012.xls as it is already loaded into RDS.\n"
     ]
    },
    {
     "name": "stderr",
     "output_type": "stream",
     "text": [
      "INFO:__main__:[INFO] Skipping file week_5_Anexo_Bol_Semanal_SIPSA_Diciembre_8_2012.xls as it is already loaded into RDS.\n",
      "  2%|▏         | 5/285 [00:00<00:06, 45.87it/s]"
     ]
    },
    {
     "name": "stdout",
     "output_type": "stream",
     "text": [
      "2024-09-28 11:24:47,485 - INFO - [INFO] Skipping file week_6_Anexo_Bol_Semanal_SIPSA_Diciembre_15_2012.xls as it is already loaded into RDS.\n",
      "2024-09-28 11:24:47,485 - INFO - [INFO] Skipping file week_6_Anexo_Bol_Semanal_SIPSA_Diciembre_15_2012.xls as it is already loaded into RDS.\n"
     ]
    },
    {
     "name": "stderr",
     "output_type": "stream",
     "text": [
      "INFO:__main__:[INFO] Skipping file week_6_Anexo_Bol_Semanal_SIPSA_Diciembre_15_2012.xls as it is already loaded into RDS.\n"
     ]
    },
    {
     "name": "stdout",
     "output_type": "stream",
     "text": [
      "2024-09-28 11:24:47,497 - INFO - [INFO] Skipping file week_7_Anexo_Bol_Semanal_SIPSA_Diciembre_28_2012.xls as it is already loaded into RDS.\n",
      "2024-09-28 11:24:47,497 - INFO - [INFO] Skipping file week_7_Anexo_Bol_Semanal_SIPSA_Diciembre_28_2012.xls as it is already loaded into RDS.\n"
     ]
    },
    {
     "name": "stderr",
     "output_type": "stream",
     "text": [
      "INFO:__main__:[INFO] Skipping file week_7_Anexo_Bol_Semanal_SIPSA_Diciembre_28_2012.xls as it is already loaded into RDS.\n"
     ]
    },
    {
     "name": "stdout",
     "output_type": "stream",
     "text": [
      "2024-09-28 11:24:47,502 - INFO - [INFO] Skipping file week_10_Anexo_Bol_Semanal_SIPSA_marzo2_2013.xls as it is already loaded into RDS.\n",
      "2024-09-28 11:24:47,502 - INFO - [INFO] Skipping file week_10_Anexo_Bol_Semanal_SIPSA_marzo2_2013.xls as it is already loaded into RDS.\n"
     ]
    },
    {
     "name": "stderr",
     "output_type": "stream",
     "text": [
      "INFO:__main__:[INFO] Skipping file week_10_Anexo_Bol_Semanal_SIPSA_marzo2_2013.xls as it is already loaded into RDS.\n"
     ]
    },
    {
     "name": "stdout",
     "output_type": "stream",
     "text": [
      "2024-09-28 11:24:47,508 - INFO - [INFO] Skipping file week_11_Anexo_Bol_Semanal_SIPSA_marzo9_2013.xls as it is already loaded into RDS.\n",
      "2024-09-28 11:24:47,508 - INFO - [INFO] Skipping file week_11_Anexo_Bol_Semanal_SIPSA_marzo9_2013.xls as it is already loaded into RDS.\n"
     ]
    },
    {
     "name": "stderr",
     "output_type": "stream",
     "text": [
      "INFO:__main__:[INFO] Skipping file week_11_Anexo_Bol_Semanal_SIPSA_marzo9_2013.xls as it is already loaded into RDS.\n"
     ]
    },
    {
     "name": "stdout",
     "output_type": "stream",
     "text": [
      "2024-09-28 11:24:47,514 - INFO - [INFO] Skipping file week_12_Anexo_Bol_Semanal_SIPSA_marzo16_2013.xls as it is already loaded into RDS.\n",
      "2024-09-28 11:24:47,514 - INFO - [INFO] Skipping file week_12_Anexo_Bol_Semanal_SIPSA_marzo16_2013.xls as it is already loaded into RDS.\n"
     ]
    },
    {
     "name": "stderr",
     "output_type": "stream",
     "text": [
      "INFO:__main__:[INFO] Skipping file week_12_Anexo_Bol_Semanal_SIPSA_marzo16_2013.xls as it is already loaded into RDS.\n"
     ]
    },
    {
     "name": "stdout",
     "output_type": "stream",
     "text": [
      "2024-09-28 11:24:47,544 - INFO - [INFO] Skipping file week_13_Anexo_Bol_Semanal_SIPSA_marzo23_2013.xls as it is already loaded into RDS.\n",
      "2024-09-28 11:24:47,544 - INFO - [INFO] Skipping file week_13_Anexo_Bol_Semanal_SIPSA_marzo23_2013.xls as it is already loaded into RDS.\n"
     ]
    },
    {
     "name": "stderr",
     "output_type": "stream",
     "text": [
      "INFO:__main__:[INFO] Skipping file week_13_Anexo_Bol_Semanal_SIPSA_marzo23_2013.xls as it is already loaded into RDS.\n"
     ]
    },
    {
     "name": "stdout",
     "output_type": "stream",
     "text": [
      "2024-09-28 11:24:47,580 - INFO - [INFO] Skipping file week_14_Anexo_Bol_Semanal_SIPSA_abril5_2013.xls as it is already loaded into RDS.\n",
      "2024-09-28 11:24:47,580 - INFO - [INFO] Skipping file week_14_Anexo_Bol_Semanal_SIPSA_abril5_2013.xls as it is already loaded into RDS.\n"
     ]
    },
    {
     "name": "stderr",
     "output_type": "stream",
     "text": [
      "INFO:__main__:[INFO] Skipping file week_14_Anexo_Bol_Semanal_SIPSA_abril5_2013.xls as it is already loaded into RDS.\n",
      "  4%|▍         | 12/285 [00:00<00:04, 58.56it/s]"
     ]
    },
    {
     "name": "stdout",
     "output_type": "stream",
     "text": [
      "2024-09-28 11:24:47,588 - INFO - [INFO] Skipping file week_15_Anexo_Bol_Semanal_SIPSA_abril6_2013.xls as it is already loaded into RDS.\n",
      "2024-09-28 11:24:47,588 - INFO - [INFO] Skipping file week_15_Anexo_Bol_Semanal_SIPSA_abril6_2013.xls as it is already loaded into RDS.\n"
     ]
    },
    {
     "name": "stderr",
     "output_type": "stream",
     "text": [
      "INFO:__main__:[INFO] Skipping file week_15_Anexo_Bol_Semanal_SIPSA_abril6_2013.xls as it is already loaded into RDS.\n"
     ]
    },
    {
     "name": "stdout",
     "output_type": "stream",
     "text": [
      "2024-09-28 11:24:47,665 - INFO - [INFO] Skipping file week_16_Anexo_Bol_Semanal_SIPSA_abril20_2013.xls as it is already loaded into RDS.\n",
      "2024-09-28 11:24:47,665 - INFO - [INFO] Skipping file week_16_Anexo_Bol_Semanal_SIPSA_abril20_2013.xls as it is already loaded into RDS.\n"
     ]
    },
    {
     "name": "stderr",
     "output_type": "stream",
     "text": [
      "INFO:__main__:[INFO] Skipping file week_16_Anexo_Bol_Semanal_SIPSA_abril20_2013.xls as it is already loaded into RDS.\n"
     ]
    },
    {
     "name": "stdout",
     "output_type": "stream",
     "text": [
      "2024-09-28 11:24:47,679 - INFO - [INFO] Skipping file week_17_Anexo_Bol_Semanal_SIPSA_abril27_2013.xls as it is already loaded into RDS.\n",
      "2024-09-28 11:24:47,679 - INFO - [INFO] Skipping file week_17_Anexo_Bol_Semanal_SIPSA_abril27_2013.xls as it is already loaded into RDS.\n"
     ]
    },
    {
     "name": "stderr",
     "output_type": "stream",
     "text": [
      "INFO:__main__:[INFO] Skipping file week_17_Anexo_Bol_Semanal_SIPSA_abril27_2013.xls as it is already loaded into RDS.\n"
     ]
    },
    {
     "name": "stdout",
     "output_type": "stream",
     "text": [
      "2024-09-28 11:24:47,701 - INFO - [INFO] Skipping file week_18_Anexo_Bol_Semanal_SIPSA_mayo04_2013.xls as it is already loaded into RDS.\n",
      "2024-09-28 11:24:47,701 - INFO - [INFO] Skipping file week_18_Anexo_Bol_Semanal_SIPSA_mayo04_2013.xls as it is already loaded into RDS.\n"
     ]
    },
    {
     "name": "stderr",
     "output_type": "stream",
     "text": [
      "INFO:__main__:[INFO] Skipping file week_18_Anexo_Bol_Semanal_SIPSA_mayo04_2013.xls as it is already loaded into RDS.\n"
     ]
    },
    {
     "name": "stdout",
     "output_type": "stream",
     "text": [
      "2024-09-28 11:24:47,711 - INFO - [INFO] Skipping file week_19_Anexo_Bol_Semanal_SIPSA_mayo11_2013.xls as it is already loaded into RDS.\n",
      "2024-09-28 11:24:47,711 - INFO - [INFO] Skipping file week_19_Anexo_Bol_Semanal_SIPSA_mayo11_2013.xls as it is already loaded into RDS.\n"
     ]
    },
    {
     "name": "stderr",
     "output_type": "stream",
     "text": [
      "INFO:__main__:[INFO] Skipping file week_19_Anexo_Bol_Semanal_SIPSA_mayo11_2013.xls as it is already loaded into RDS.\n"
     ]
    },
    {
     "name": "stdout",
     "output_type": "stream",
     "text": [
      "2024-09-28 11:24:47,761 - INFO - [INFO] Skipping file week_1_Anexo_Bol_Semanal_SIPSA_enero_04_2013.xls as it is already loaded into RDS.\n",
      "2024-09-28 11:24:47,761 - INFO - [INFO] Skipping file week_1_Anexo_Bol_Semanal_SIPSA_enero_04_2013.xls as it is already loaded into RDS.\n"
     ]
    },
    {
     "name": "stderr",
     "output_type": "stream",
     "text": [
      "INFO:__main__:[INFO] Skipping file week_1_Anexo_Bol_Semanal_SIPSA_enero_04_2013.xls as it is already loaded into RDS.\n",
      "  6%|▋         | 18/285 [00:00<00:07, 36.30it/s]"
     ]
    },
    {
     "name": "stdout",
     "output_type": "stream",
     "text": [
      "2024-09-28 11:24:47,829 - INFO - [INFO] Skipping file week_20_Anexo_Bol_Semanal_SIPSA_mayo18_2013.xls as it is already loaded into RDS.\n",
      "2024-09-28 11:24:47,829 - INFO - [INFO] Skipping file week_20_Anexo_Bol_Semanal_SIPSA_mayo18_2013.xls as it is already loaded into RDS.\n"
     ]
    },
    {
     "name": "stderr",
     "output_type": "stream",
     "text": [
      "INFO:__main__:[INFO] Skipping file week_20_Anexo_Bol_Semanal_SIPSA_mayo18_2013.xls as it is already loaded into RDS.\n"
     ]
    },
    {
     "name": "stdout",
     "output_type": "stream",
     "text": [
      "2024-09-28 11:24:47,834 - INFO - [INFO] Skipping file week_21_Anexo_Bol_Semanal_SIPSA_mayo25_2013.xls as it is already loaded into RDS.\n",
      "2024-09-28 11:24:47,834 - INFO - [INFO] Skipping file week_21_Anexo_Bol_Semanal_SIPSA_mayo25_2013.xls as it is already loaded into RDS.\n"
     ]
    },
    {
     "name": "stderr",
     "output_type": "stream",
     "text": [
      "INFO:__main__:[INFO] Skipping file week_21_Anexo_Bol_Semanal_SIPSA_mayo25_2013.xls as it is already loaded into RDS.\n"
     ]
    },
    {
     "name": "stdout",
     "output_type": "stream",
     "text": [
      "2024-09-28 11:24:47,848 - INFO - [INFO] Skipping file week_22_Anexo_Bol_Semanal_jun5_2013.xls as it is already loaded into RDS.\n",
      "2024-09-28 11:24:47,848 - INFO - [INFO] Skipping file week_22_Anexo_Bol_Semanal_jun5_2013.xls as it is already loaded into RDS.\n"
     ]
    },
    {
     "name": "stderr",
     "output_type": "stream",
     "text": [
      "INFO:__main__:[INFO] Skipping file week_22_Anexo_Bol_Semanal_jun5_2013.xls as it is already loaded into RDS.\n"
     ]
    },
    {
     "name": "stdout",
     "output_type": "stream",
     "text": [
      "2024-09-28 11:24:47,875 - INFO - [INFO] Skipping file week_23_Anexo_Bol_Semanal_jun8_2013.xls as it is already loaded into RDS.\n",
      "2024-09-28 11:24:47,875 - INFO - [INFO] Skipping file week_23_Anexo_Bol_Semanal_jun8_2013.xls as it is already loaded into RDS.\n"
     ]
    },
    {
     "name": "stderr",
     "output_type": "stream",
     "text": [
      "INFO:__main__:[INFO] Skipping file week_23_Anexo_Bol_Semanal_jun8_2013.xls as it is already loaded into RDS.\n"
     ]
    },
    {
     "name": "stdout",
     "output_type": "stream",
     "text": [
      "2024-09-28 11:24:47,880 - INFO - [INFO] Skipping file week_24_Anexo_Bol_Semanal_jun15_2013.xls as it is already loaded into RDS.\n",
      "2024-09-28 11:24:47,880 - INFO - [INFO] Skipping file week_24_Anexo_Bol_Semanal_jun15_2013.xls as it is already loaded into RDS.\n"
     ]
    },
    {
     "name": "stderr",
     "output_type": "stream",
     "text": [
      "INFO:__main__:[INFO] Skipping file week_24_Anexo_Bol_Semanal_jun15_2013.xls as it is already loaded into RDS.\n"
     ]
    },
    {
     "name": "stdout",
     "output_type": "stream",
     "text": [
      "2024-09-28 11:24:47,885 - INFO - [INFO] Skipping file week_25_Anexo_Bol_Semanal_jun22_2013.xls as it is already loaded into RDS.\n",
      "2024-09-28 11:24:47,885 - INFO - [INFO] Skipping file week_25_Anexo_Bol_Semanal_jun22_2013.xls as it is already loaded into RDS.\n"
     ]
    },
    {
     "name": "stderr",
     "output_type": "stream",
     "text": [
      "INFO:__main__:[INFO] Skipping file week_25_Anexo_Bol_Semanal_jun22_2013.xls as it is already loaded into RDS.\n"
     ]
    },
    {
     "name": "stdout",
     "output_type": "stream",
     "text": [
      "2024-09-28 11:24:47,913 - INFO - [INFO] Skipping file week_26_Anexo_Bol_Semanal_jun29_2013.xls as it is already loaded into RDS.\n",
      "2024-09-28 11:24:47,913 - INFO - [INFO] Skipping file week_26_Anexo_Bol_Semanal_jun29_2013.xls as it is already loaded into RDS.\n"
     ]
    },
    {
     "name": "stderr",
     "output_type": "stream",
     "text": [
      "INFO:__main__:[INFO] Skipping file week_26_Anexo_Bol_Semanal_jun29_2013.xls as it is already loaded into RDS.\n"
     ]
    },
    {
     "name": "stdout",
     "output_type": "stream",
     "text": [
      "2024-09-28 11:24:47,919 - INFO - [INFO] Skipping file week_27_Anexo_Bol_Semanal_jul6_2013.xls as it is already loaded into RDS.\n",
      "2024-09-28 11:24:47,919 - INFO - [INFO] Skipping file week_27_Anexo_Bol_Semanal_jul6_2013.xls as it is already loaded into RDS.\n"
     ]
    },
    {
     "name": "stderr",
     "output_type": "stream",
     "text": [
      "INFO:__main__:[INFO] Skipping file week_27_Anexo_Bol_Semanal_jul6_2013.xls as it is already loaded into RDS.\n",
      "  9%|▉         | 26/285 [00:00<00:05, 44.06it/s]"
     ]
    },
    {
     "name": "stdout",
     "output_type": "stream",
     "text": [
      "2024-09-28 11:24:47,967 - INFO - [INFO] Skipping file week_28_Anexo_Bol_Semanal_jul13_2013.xls as it is already loaded into RDS.\n",
      "2024-09-28 11:24:47,967 - INFO - [INFO] Skipping file week_28_Anexo_Bol_Semanal_jul13_2013.xls as it is already loaded into RDS.\n"
     ]
    },
    {
     "name": "stderr",
     "output_type": "stream",
     "text": [
      "INFO:__main__:[INFO] Skipping file week_28_Anexo_Bol_Semanal_jul13_2013.xls as it is already loaded into RDS.\n"
     ]
    },
    {
     "name": "stdout",
     "output_type": "stream",
     "text": [
      "2024-09-28 11:24:47,982 - INFO - [INFO] Skipping file week_29_Anexo_Bol_Semanal_jul20_2013.xls as it is already loaded into RDS.\n",
      "2024-09-28 11:24:47,982 - INFO - [INFO] Skipping file week_29_Anexo_Bol_Semanal_jul20_2013.xls as it is already loaded into RDS.\n"
     ]
    },
    {
     "name": "stderr",
     "output_type": "stream",
     "text": [
      "INFO:__main__:[INFO] Skipping file week_29_Anexo_Bol_Semanal_jul20_2013.xls as it is already loaded into RDS.\n"
     ]
    },
    {
     "name": "stdout",
     "output_type": "stream",
     "text": [
      "2024-09-28 11:24:47,990 - INFO - [INFO] Skipping file week_2_Anexo_Bol_Semanal_SIPSA_enero_11_2013.xls as it is already loaded into RDS.\n",
      "2024-09-28 11:24:47,990 - INFO - [INFO] Skipping file week_2_Anexo_Bol_Semanal_SIPSA_enero_11_2013.xls as it is already loaded into RDS.\n"
     ]
    },
    {
     "name": "stderr",
     "output_type": "stream",
     "text": [
      "INFO:__main__:[INFO] Skipping file week_2_Anexo_Bol_Semanal_SIPSA_enero_11_2013.xls as it is already loaded into RDS.\n"
     ]
    },
    {
     "name": "stdout",
     "output_type": "stream",
     "text": [
      "2024-09-28 11:24:47,995 - INFO - [INFO] Skipping file week_30_Anexo_Bol_Semanal_jul27_2013.xls as it is already loaded into RDS.\n",
      "2024-09-28 11:24:47,995 - INFO - [INFO] Skipping file week_30_Anexo_Bol_Semanal_jul27_2013.xls as it is already loaded into RDS.\n"
     ]
    },
    {
     "name": "stderr",
     "output_type": "stream",
     "text": [
      "INFO:__main__:[INFO] Skipping file week_30_Anexo_Bol_Semanal_jul27_2013.xls as it is already loaded into RDS.\n"
     ]
    },
    {
     "name": "stdout",
     "output_type": "stream",
     "text": [
      "2024-09-28 11:24:48,024 - INFO - [INFO] Skipping file week_31_Anexo_Bol_Semanal_ago3_2013.xls as it is already loaded into RDS.\n",
      "2024-09-28 11:24:48,024 - INFO - [INFO] Skipping file week_31_Anexo_Bol_Semanal_ago3_2013.xls as it is already loaded into RDS.\n"
     ]
    },
    {
     "name": "stderr",
     "output_type": "stream",
     "text": [
      "INFO:__main__:[INFO] Skipping file week_31_Anexo_Bol_Semanal_ago3_2013.xls as it is already loaded into RDS.\n"
     ]
    },
    {
     "name": "stdout",
     "output_type": "stream",
     "text": [
      "2024-09-28 11:24:48,031 - INFO - [INFO] Skipping file week_32_Anexo_Bol_Semanal_ago10_2013.xls as it is already loaded into RDS.\n",
      "2024-09-28 11:24:48,031 - INFO - [INFO] Skipping file week_32_Anexo_Bol_Semanal_ago10_2013.xls as it is already loaded into RDS.\n"
     ]
    },
    {
     "name": "stderr",
     "output_type": "stream",
     "text": [
      "INFO:__main__:[INFO] Skipping file week_32_Anexo_Bol_Semanal_ago10_2013.xls as it is already loaded into RDS.\n"
     ]
    },
    {
     "name": "stdout",
     "output_type": "stream",
     "text": [
      "2024-09-28 11:24:48,038 - INFO - [INFO] Skipping file week_33_Anexo_Bol_Semanal_ago20_2013.xls as it is already loaded into RDS.\n",
      "2024-09-28 11:24:48,038 - INFO - [INFO] Skipping file week_33_Anexo_Bol_Semanal_ago20_2013.xls as it is already loaded into RDS.\n"
     ]
    },
    {
     "name": "stderr",
     "output_type": "stream",
     "text": [
      "INFO:__main__:[INFO] Skipping file week_33_Anexo_Bol_Semanal_ago20_2013.xls as it is already loaded into RDS.\n"
     ]
    },
    {
     "name": "stdout",
     "output_type": "stream",
     "text": [
      "2024-09-28 11:24:48,051 - INFO - [INFO] Skipping file week_34_Anexo_Bol_Semanal_ago30_2013.xls as it is already loaded into RDS.\n",
      "2024-09-28 11:24:48,051 - INFO - [INFO] Skipping file week_34_Anexo_Bol_Semanal_ago30_2013.xls as it is already loaded into RDS.\n"
     ]
    },
    {
     "name": "stderr",
     "output_type": "stream",
     "text": [
      "INFO:__main__:[INFO] Skipping file week_34_Anexo_Bol_Semanal_ago30_2013.xls as it is already loaded into RDS.\n",
      " 12%|█▏        | 34/285 [00:00<00:04, 51.83it/s]"
     ]
    },
    {
     "name": "stdout",
     "output_type": "stream",
     "text": [
      "2024-09-28 11:24:48,078 - INFO - [INFO] Skipping file week_35_Anexo_Bol_Semanal_sept6_2013.xls as it is already loaded into RDS.\n",
      "2024-09-28 11:24:48,078 - INFO - [INFO] Skipping file week_35_Anexo_Bol_Semanal_sept6_2013.xls as it is already loaded into RDS.\n"
     ]
    },
    {
     "name": "stderr",
     "output_type": "stream",
     "text": [
      "INFO:__main__:[INFO] Skipping file week_35_Anexo_Bol_Semanal_sept6_2013.xls as it is already loaded into RDS.\n"
     ]
    },
    {
     "name": "stdout",
     "output_type": "stream",
     "text": [
      "2024-09-28 11:24:48,088 - INFO - [INFO] Skipping file week_36_Anexo_Bol_Semanal_sept7_2013.xls as it is already loaded into RDS.\n",
      "2024-09-28 11:24:48,088 - INFO - [INFO] Skipping file week_36_Anexo_Bol_Semanal_sept7_2013.xls as it is already loaded into RDS.\n"
     ]
    },
    {
     "name": "stderr",
     "output_type": "stream",
     "text": [
      "INFO:__main__:[INFO] Skipping file week_36_Anexo_Bol_Semanal_sept7_2013.xls as it is already loaded into RDS.\n"
     ]
    },
    {
     "name": "stdout",
     "output_type": "stream",
     "text": [
      "2024-09-28 11:24:48,101 - INFO - [INFO] Skipping file week_37_Anexo_Bol_Semanal_sept14_2013.xls as it is already loaded into RDS.\n",
      "2024-09-28 11:24:48,101 - INFO - [INFO] Skipping file week_37_Anexo_Bol_Semanal_sept14_2013.xls as it is already loaded into RDS.\n"
     ]
    },
    {
     "name": "stderr",
     "output_type": "stream",
     "text": [
      "INFO:__main__:[INFO] Skipping file week_37_Anexo_Bol_Semanal_sept14_2013.xls as it is already loaded into RDS.\n"
     ]
    },
    {
     "name": "stdout",
     "output_type": "stream",
     "text": [
      "2024-09-28 11:24:48,107 - INFO - [INFO] Skipping file week_38_Anexo_Bol_Semanal_sept23_2013.xls as it is already loaded into RDS.\n",
      "2024-09-28 11:24:48,107 - INFO - [INFO] Skipping file week_38_Anexo_Bol_Semanal_sept23_2013.xls as it is already loaded into RDS.\n"
     ]
    },
    {
     "name": "stderr",
     "output_type": "stream",
     "text": [
      "INFO:__main__:[INFO] Skipping file week_38_Anexo_Bol_Semanal_sept23_2013.xls as it is already loaded into RDS.\n"
     ]
    },
    {
     "name": "stdout",
     "output_type": "stream",
     "text": [
      "2024-09-28 11:24:48,112 - INFO - [INFO] Skipping file week_39_Anexo_Bol_Semanal_oct4_2013.xls as it is already loaded into RDS.\n",
      "2024-09-28 11:24:48,112 - INFO - [INFO] Skipping file week_39_Anexo_Bol_Semanal_oct4_2013.xls as it is already loaded into RDS.\n"
     ]
    },
    {
     "name": "stderr",
     "output_type": "stream",
     "text": [
      "INFO:__main__:[INFO] Skipping file week_39_Anexo_Bol_Semanal_oct4_2013.xls as it is already loaded into RDS.\n"
     ]
    },
    {
     "name": "stdout",
     "output_type": "stream",
     "text": [
      "2024-09-28 11:24:48,117 - INFO - [INFO] Skipping file week_3_Anexo_Bol_Semanal_SIPSA_enero_12_2013.xls as it is already loaded into RDS.\n",
      "2024-09-28 11:24:48,117 - INFO - [INFO] Skipping file week_3_Anexo_Bol_Semanal_SIPSA_enero_12_2013.xls as it is already loaded into RDS.\n"
     ]
    },
    {
     "name": "stderr",
     "output_type": "stream",
     "text": [
      "INFO:__main__:[INFO] Skipping file week_3_Anexo_Bol_Semanal_SIPSA_enero_12_2013.xls as it is already loaded into RDS.\n"
     ]
    },
    {
     "name": "stdout",
     "output_type": "stream",
     "text": [
      "2024-09-28 11:24:48,123 - INFO - [INFO] Skipping file week_40_Anexo_Bol_Semanal_oct5_2013.xls as it is already loaded into RDS.\n",
      "2024-09-28 11:24:48,123 - INFO - [INFO] Skipping file week_40_Anexo_Bol_Semanal_oct5_2013.xls as it is already loaded into RDS.\n"
     ]
    },
    {
     "name": "stderr",
     "output_type": "stream",
     "text": [
      "INFO:__main__:[INFO] Skipping file week_40_Anexo_Bol_Semanal_oct5_2013.xls as it is already loaded into RDS.\n"
     ]
    },
    {
     "name": "stdout",
     "output_type": "stream",
     "text": [
      "2024-09-28 11:24:48,149 - INFO - [INFO] Skipping file week_41_Anexo_Bol_Semanal_oct12_2013.xls as it is already loaded into RDS.\n",
      "2024-09-28 11:24:48,149 - INFO - [INFO] Skipping file week_41_Anexo_Bol_Semanal_oct12_2013.xls as it is already loaded into RDS.\n"
     ]
    },
    {
     "name": "stderr",
     "output_type": "stream",
     "text": [
      "INFO:__main__:[INFO] Skipping file week_41_Anexo_Bol_Semanal_oct12_2013.xls as it is already loaded into RDS.\n"
     ]
    },
    {
     "name": "stdout",
     "output_type": "stream",
     "text": [
      "2024-09-28 11:24:48,165 - INFO - [INFO] Skipping file week_42_Anexo_Bol_Semanal_oct19_2013.xls as it is already loaded into RDS.\n",
      "2024-09-28 11:24:48,165 - INFO - [INFO] Skipping file week_42_Anexo_Bol_Semanal_oct19_2013.xls as it is already loaded into RDS.\n"
     ]
    },
    {
     "name": "stderr",
     "output_type": "stream",
     "text": [
      "INFO:__main__:[INFO] Skipping file week_42_Anexo_Bol_Semanal_oct19_2013.xls as it is already loaded into RDS.\n",
      " 15%|█▌        | 43/285 [00:00<00:03, 61.27it/s]"
     ]
    },
    {
     "name": "stdout",
     "output_type": "stream",
     "text": [
      "2024-09-28 11:24:48,185 - INFO - [INFO] Skipping file week_43_Anexo_Bol_Semanal_oct26_2013.xls as it is already loaded into RDS.\n",
      "2024-09-28 11:24:48,185 - INFO - [INFO] Skipping file week_43_Anexo_Bol_Semanal_oct26_2013.xls as it is already loaded into RDS.\n"
     ]
    },
    {
     "name": "stderr",
     "output_type": "stream",
     "text": [
      "INFO:__main__:[INFO] Skipping file week_43_Anexo_Bol_Semanal_oct26_2013.xls as it is already loaded into RDS.\n"
     ]
    },
    {
     "name": "stdout",
     "output_type": "stream",
     "text": [
      "2024-09-28 11:24:48,215 - INFO - [INFO] Skipping file week_44_Anexo_Bol_Semanal_nov2_2013.xls as it is already loaded into RDS.\n",
      "2024-09-28 11:24:48,215 - INFO - [INFO] Skipping file week_44_Anexo_Bol_Semanal_nov2_2013.xls as it is already loaded into RDS.\n"
     ]
    },
    {
     "name": "stderr",
     "output_type": "stream",
     "text": [
      "INFO:__main__:[INFO] Skipping file week_44_Anexo_Bol_Semanal_nov2_2013.xls as it is already loaded into RDS.\n"
     ]
    },
    {
     "name": "stdout",
     "output_type": "stream",
     "text": [
      "2024-09-28 11:24:48,222 - INFO - [INFO] Skipping file week_45_Anexo_Bol_Semanal_nov9_2013.xls as it is already loaded into RDS.\n",
      "2024-09-28 11:24:48,222 - INFO - [INFO] Skipping file week_45_Anexo_Bol_Semanal_nov9_2013.xls as it is already loaded into RDS.\n"
     ]
    },
    {
     "name": "stderr",
     "output_type": "stream",
     "text": [
      "INFO:__main__:[INFO] Skipping file week_45_Anexo_Bol_Semanal_nov9_2013.xls as it is already loaded into RDS.\n"
     ]
    },
    {
     "name": "stdout",
     "output_type": "stream",
     "text": [
      "2024-09-28 11:24:48,233 - INFO - [INFO] Skipping file week_46_Anexo_Bol_Semanal_nov16_2013.xls as it is already loaded into RDS.\n",
      "2024-09-28 11:24:48,233 - INFO - [INFO] Skipping file week_46_Anexo_Bol_Semanal_nov16_2013.xls as it is already loaded into RDS.\n"
     ]
    },
    {
     "name": "stderr",
     "output_type": "stream",
     "text": [
      "INFO:__main__:[INFO] Skipping file week_46_Anexo_Bol_Semanal_nov16_2013.xls as it is already loaded into RDS.\n"
     ]
    },
    {
     "name": "stdout",
     "output_type": "stream",
     "text": [
      "2024-09-28 11:24:48,241 - INFO - [INFO] Skipping file week_47_Anexo_Bol_Semanal_nov23_2013.xls as it is already loaded into RDS.\n",
      "2024-09-28 11:24:48,241 - INFO - [INFO] Skipping file week_47_Anexo_Bol_Semanal_nov23_2013.xls as it is already loaded into RDS.\n"
     ]
    },
    {
     "name": "stderr",
     "output_type": "stream",
     "text": [
      "INFO:__main__:[INFO] Skipping file week_47_Anexo_Bol_Semanal_nov23_2013.xls as it is already loaded into RDS.\n"
     ]
    },
    {
     "name": "stdout",
     "output_type": "stream",
     "text": [
      "2024-09-28 11:24:48,267 - INFO - [INFO] Skipping file week_48_Anexo_Bol_Semanal_nov29_2013.xls as it is already loaded into RDS.\n",
      "2024-09-28 11:24:48,267 - INFO - [INFO] Skipping file week_48_Anexo_Bol_Semanal_nov29_2013.xls as it is already loaded into RDS.\n"
     ]
    },
    {
     "name": "stderr",
     "output_type": "stream",
     "text": [
      "INFO:__main__:[INFO] Skipping file week_48_Anexo_Bol_Semanal_nov29_2013.xls as it is already loaded into RDS.\n"
     ]
    },
    {
     "name": "stdout",
     "output_type": "stream",
     "text": [
      "2024-09-28 11:24:48,281 - INFO - [INFO] Skipping file week_49_Anexo_Bol_Semanal_dic13_2013.xls as it is already loaded into RDS.\n",
      "2024-09-28 11:24:48,281 - INFO - [INFO] Skipping file week_49_Anexo_Bol_Semanal_dic13_2013.xls as it is already loaded into RDS.\n"
     ]
    },
    {
     "name": "stderr",
     "output_type": "stream",
     "text": [
      "INFO:__main__:[INFO] Skipping file week_49_Anexo_Bol_Semanal_dic13_2013.xls as it is already loaded into RDS.\n",
      " 18%|█▊        | 50/285 [00:00<00:03, 62.98it/s]"
     ]
    },
    {
     "name": "stdout",
     "output_type": "stream",
     "text": [
      "2024-09-28 11:24:48,288 - INFO - [INFO] Skipping file week_4_Anexo_Bol_Semanal_SIPSA_enero_19_2013.xls as it is already loaded into RDS.\n",
      "2024-09-28 11:24:48,288 - INFO - [INFO] Skipping file week_4_Anexo_Bol_Semanal_SIPSA_enero_19_2013.xls as it is already loaded into RDS.\n"
     ]
    },
    {
     "name": "stderr",
     "output_type": "stream",
     "text": [
      "INFO:__main__:[INFO] Skipping file week_4_Anexo_Bol_Semanal_SIPSA_enero_19_2013.xls as it is already loaded into RDS.\n"
     ]
    },
    {
     "name": "stdout",
     "output_type": "stream",
     "text": [
      "2024-09-28 11:24:48,293 - INFO - [INFO] Skipping file week_50_Anexo_Bol_Semanal_dic14_2013.xls as it is already loaded into RDS.\n",
      "2024-09-28 11:24:48,293 - INFO - [INFO] Skipping file week_50_Anexo_Bol_Semanal_dic14_2013.xls as it is already loaded into RDS.\n"
     ]
    },
    {
     "name": "stderr",
     "output_type": "stream",
     "text": [
      "INFO:__main__:[INFO] Skipping file week_50_Anexo_Bol_Semanal_dic14_2013.xls as it is already loaded into RDS.\n"
     ]
    },
    {
     "name": "stdout",
     "output_type": "stream",
     "text": [
      "2024-09-28 11:24:48,309 - INFO - [INFO] Skipping file week_51_Anexo_Bol_Semanal_dic21_2013.xls as it is already loaded into RDS.\n",
      "2024-09-28 11:24:48,309 - INFO - [INFO] Skipping file week_51_Anexo_Bol_Semanal_dic21_2013.xls as it is already loaded into RDS.\n"
     ]
    },
    {
     "name": "stderr",
     "output_type": "stream",
     "text": [
      "INFO:__main__:[INFO] Skipping file week_51_Anexo_Bol_Semanal_dic21_2013.xls as it is already loaded into RDS.\n"
     ]
    },
    {
     "name": "stdout",
     "output_type": "stream",
     "text": [
      "2024-09-28 11:24:48,328 - INFO - [INFO] Skipping file week_5_Anexo_Bol_Semanal_SIPSA_enero_26_2013.xls as it is already loaded into RDS.\n",
      "2024-09-28 11:24:48,328 - INFO - [INFO] Skipping file week_5_Anexo_Bol_Semanal_SIPSA_enero_26_2013.xls as it is already loaded into RDS.\n"
     ]
    },
    {
     "name": "stderr",
     "output_type": "stream",
     "text": [
      "INFO:__main__:[INFO] Skipping file week_5_Anexo_Bol_Semanal_SIPSA_enero_26_2013.xls as it is already loaded into RDS.\n"
     ]
    },
    {
     "name": "stdout",
     "output_type": "stream",
     "text": [
      "2024-09-28 11:24:48,334 - INFO - [INFO] Skipping file week_6_Anexo_Bol_Semanal_SIPSA_febrero_2_2013.xls as it is already loaded into RDS.\n",
      "2024-09-28 11:24:48,334 - INFO - [INFO] Skipping file week_6_Anexo_Bol_Semanal_SIPSA_febrero_2_2013.xls as it is already loaded into RDS.\n"
     ]
    },
    {
     "name": "stderr",
     "output_type": "stream",
     "text": [
      "INFO:__main__:[INFO] Skipping file week_6_Anexo_Bol_Semanal_SIPSA_febrero_2_2013.xls as it is already loaded into RDS.\n"
     ]
    },
    {
     "name": "stdout",
     "output_type": "stream",
     "text": [
      "2024-09-28 11:24:48,344 - INFO - [INFO] Skipping file week_7_Anexo_Bol_Semanal_SIPSA_febrero_9_2013.xls as it is already loaded into RDS.\n",
      "2024-09-28 11:24:48,344 - INFO - [INFO] Skipping file week_7_Anexo_Bol_Semanal_SIPSA_febrero_9_2013.xls as it is already loaded into RDS.\n"
     ]
    },
    {
     "name": "stderr",
     "output_type": "stream",
     "text": [
      "INFO:__main__:[INFO] Skipping file week_7_Anexo_Bol_Semanal_SIPSA_febrero_9_2013.xls as it is already loaded into RDS.\n"
     ]
    },
    {
     "name": "stdout",
     "output_type": "stream",
     "text": [
      "2024-09-28 11:24:48,350 - INFO - [INFO] Skipping file week_8_Anexo_Bol_Semanal_SIPSA_febrero_16_2013.xls as it is already loaded into RDS.\n",
      "2024-09-28 11:24:48,350 - INFO - [INFO] Skipping file week_8_Anexo_Bol_Semanal_SIPSA_febrero_16_2013.xls as it is already loaded into RDS.\n"
     ]
    },
    {
     "name": "stderr",
     "output_type": "stream",
     "text": [
      "INFO:__main__:[INFO] Skipping file week_8_Anexo_Bol_Semanal_SIPSA_febrero_16_2013.xls as it is already loaded into RDS.\n"
     ]
    },
    {
     "name": "stdout",
     "output_type": "stream",
     "text": [
      "2024-09-28 11:24:48,357 - INFO - [INFO] Skipping file week_9_Anexo_Bol_Semanal_SIPSA_febrero_23_2013.xls as it is already loaded into RDS.\n",
      "2024-09-28 11:24:48,357 - INFO - [INFO] Skipping file week_9_Anexo_Bol_Semanal_SIPSA_febrero_23_2013.xls as it is already loaded into RDS.\n"
     ]
    },
    {
     "name": "stderr",
     "output_type": "stream",
     "text": [
      "INFO:__main__:[INFO] Skipping file week_9_Anexo_Bol_Semanal_SIPSA_febrero_23_2013.xls as it is already loaded into RDS.\n",
      " 20%|██        | 58/285 [00:01<00:03, 66.62it/s]"
     ]
    },
    {
     "name": "stdout",
     "output_type": "stream",
     "text": [
      "2024-09-28 11:24:48,398 - INFO - [INFO] Skipping file week_10_Anexo_Bol_Semanal_mar1_2014.xls as it is already loaded into RDS.\n",
      "2024-09-28 11:24:48,398 - INFO - [INFO] Skipping file week_10_Anexo_Bol_Semanal_mar1_2014.xls as it is already loaded into RDS.\n"
     ]
    },
    {
     "name": "stderr",
     "output_type": "stream",
     "text": [
      "INFO:__main__:[INFO] Skipping file week_10_Anexo_Bol_Semanal_mar1_2014.xls as it is already loaded into RDS.\n"
     ]
    },
    {
     "name": "stdout",
     "output_type": "stream",
     "text": [
      "2024-09-28 11:24:48,403 - INFO - [INFO] Skipping file week_11_Anexo_Bol_Semanal_mar8_2014.xls as it is already loaded into RDS.\n",
      "2024-09-28 11:24:48,403 - INFO - [INFO] Skipping file week_11_Anexo_Bol_Semanal_mar8_2014.xls as it is already loaded into RDS.\n"
     ]
    },
    {
     "name": "stderr",
     "output_type": "stream",
     "text": [
      "INFO:__main__:[INFO] Skipping file week_11_Anexo_Bol_Semanal_mar8_2014.xls as it is already loaded into RDS.\n"
     ]
    },
    {
     "name": "stdout",
     "output_type": "stream",
     "text": [
      "2024-09-28 11:24:48,410 - INFO - [INFO] Skipping file week_12_Anexo_Bol_Semanal_mar15_2014.xls as it is already loaded into RDS.\n",
      "2024-09-28 11:24:48,410 - INFO - [INFO] Skipping file week_12_Anexo_Bol_Semanal_mar15_2014.xls as it is already loaded into RDS.\n"
     ]
    },
    {
     "name": "stderr",
     "output_type": "stream",
     "text": [
      "INFO:__main__:[INFO] Skipping file week_12_Anexo_Bol_Semanal_mar15_2014.xls as it is already loaded into RDS.\n"
     ]
    },
    {
     "name": "stdout",
     "output_type": "stream",
     "text": [
      "2024-09-28 11:24:48,415 - INFO - [INFO] Skipping file week_13_Anexo_Bol_Semanal_mar22_2014.xls as it is already loaded into RDS.\n",
      "2024-09-28 11:24:48,415 - INFO - [INFO] Skipping file week_13_Anexo_Bol_Semanal_mar22_2014.xls as it is already loaded into RDS.\n"
     ]
    },
    {
     "name": "stderr",
     "output_type": "stream",
     "text": [
      "INFO:__main__:[INFO] Skipping file week_13_Anexo_Bol_Semanal_mar22_2014.xls as it is already loaded into RDS.\n"
     ]
    },
    {
     "name": "stdout",
     "output_type": "stream",
     "text": [
      "2024-09-28 11:24:48,447 - INFO - [INFO] Skipping file week_14_Anexo_Bol_Semanal_mar29_2014.xls as it is already loaded into RDS.\n",
      "2024-09-28 11:24:48,447 - INFO - [INFO] Skipping file week_14_Anexo_Bol_Semanal_mar29_2014.xls as it is already loaded into RDS.\n"
     ]
    },
    {
     "name": "stderr",
     "output_type": "stream",
     "text": [
      "INFO:__main__:[INFO] Skipping file week_14_Anexo_Bol_Semanal_mar29_2014.xls as it is already loaded into RDS.\n"
     ]
    },
    {
     "name": "stdout",
     "output_type": "stream",
     "text": [
      "2024-09-28 11:24:48,466 - INFO - [INFO] Skipping file week_15_Anexo_Bol_Semanal_abr5_2014.xls as it is already loaded into RDS.\n",
      "2024-09-28 11:24:48,466 - INFO - [INFO] Skipping file week_15_Anexo_Bol_Semanal_abr5_2014.xls as it is already loaded into RDS.\n"
     ]
    },
    {
     "name": "stderr",
     "output_type": "stream",
     "text": [
      "INFO:__main__:[INFO] Skipping file week_15_Anexo_Bol_Semanal_abr5_2014.xls as it is already loaded into RDS.\n"
     ]
    },
    {
     "name": "stdout",
     "output_type": "stream",
     "text": [
      "2024-09-28 11:24:48,472 - INFO - [INFO] Skipping file week_16_Anexo_Bol_Semanal_abr16_2014.xls as it is already loaded into RDS.\n",
      "2024-09-28 11:24:48,472 - INFO - [INFO] Skipping file week_16_Anexo_Bol_Semanal_abr16_2014.xls as it is already loaded into RDS.\n"
     ]
    },
    {
     "name": "stderr",
     "output_type": "stream",
     "text": [
      "INFO:__main__:[INFO] Skipping file week_16_Anexo_Bol_Semanal_abr16_2014.xls as it is already loaded into RDS.\n"
     ]
    },
    {
     "name": "stdout",
     "output_type": "stream",
     "text": [
      "2024-09-28 11:24:48,478 - INFO - [INFO] Skipping file week_17_Anexo_Bol_Semanal_abr19_2014.xls as it is already loaded into RDS.\n",
      "2024-09-28 11:24:48,478 - INFO - [INFO] Skipping file week_17_Anexo_Bol_Semanal_abr19_2014.xls as it is already loaded into RDS.\n"
     ]
    },
    {
     "name": "stderr",
     "output_type": "stream",
     "text": [
      "INFO:__main__:[INFO] Skipping file week_17_Anexo_Bol_Semanal_abr19_2014.xls as it is already loaded into RDS.\n"
     ]
    },
    {
     "name": "stdout",
     "output_type": "stream",
     "text": [
      "2024-09-28 11:24:48,482 - INFO - [INFO] Skipping file week_18_Anexo_Bol_Semanal_may2_2014.xls as it is already loaded into RDS.\n",
      "2024-09-28 11:24:48,482 - INFO - [INFO] Skipping file week_18_Anexo_Bol_Semanal_may2_2014.xls as it is already loaded into RDS.\n"
     ]
    },
    {
     "name": "stderr",
     "output_type": "stream",
     "text": [
      "INFO:__main__:[INFO] Skipping file week_18_Anexo_Bol_Semanal_may2_2014.xls as it is already loaded into RDS.\n",
      " 24%|██▎       | 67/285 [00:01<00:03, 69.41it/s]"
     ]
    },
    {
     "name": "stdout",
     "output_type": "stream",
     "text": [
      "2024-09-28 11:24:48,512 - INFO - [INFO] Skipping file week_19_Anexo_Bol_Semanal_may3_2014.xls as it is already loaded into RDS.\n",
      "2024-09-28 11:24:48,512 - INFO - [INFO] Skipping file week_19_Anexo_Bol_Semanal_may3_2014.xls as it is already loaded into RDS.\n"
     ]
    },
    {
     "name": "stderr",
     "output_type": "stream",
     "text": [
      "INFO:__main__:[INFO] Skipping file week_19_Anexo_Bol_Semanal_may3_2014.xls as it is already loaded into RDS.\n"
     ]
    },
    {
     "name": "stdout",
     "output_type": "stream",
     "text": [
      "2024-09-28 11:24:48,518 - INFO - [INFO] Skipping file week_1_Anexo_Bol_Semanal_ene3_2014.xls as it is already loaded into RDS.\n",
      "2024-09-28 11:24:48,518 - INFO - [INFO] Skipping file week_1_Anexo_Bol_Semanal_ene3_2014.xls as it is already loaded into RDS.\n"
     ]
    },
    {
     "name": "stderr",
     "output_type": "stream",
     "text": [
      "INFO:__main__:[INFO] Skipping file week_1_Anexo_Bol_Semanal_ene3_2014.xls as it is already loaded into RDS.\n"
     ]
    },
    {
     "name": "stdout",
     "output_type": "stream",
     "text": [
      "2024-09-28 11:24:48,531 - INFO - [INFO] Skipping file week_20_Anexo_Bol_Semanal_100may10_2014.xls as it is already loaded into RDS.\n",
      "2024-09-28 11:24:48,531 - INFO - [INFO] Skipping file week_20_Anexo_Bol_Semanal_100may10_2014.xls as it is already loaded into RDS.\n"
     ]
    },
    {
     "name": "stderr",
     "output_type": "stream",
     "text": [
      "INFO:__main__:[INFO] Skipping file week_20_Anexo_Bol_Semanal_100may10_2014.xls as it is already loaded into RDS.\n"
     ]
    },
    {
     "name": "stdout",
     "output_type": "stream",
     "text": [
      "2024-09-28 11:24:48,541 - INFO - [INFO] Skipping file week_21_Anexo_Bol_Semanal_may17_2014.xls as it is already loaded into RDS.\n",
      "2024-09-28 11:24:48,541 - INFO - [INFO] Skipping file week_21_Anexo_Bol_Semanal_may17_2014.xls as it is already loaded into RDS.\n"
     ]
    },
    {
     "name": "stderr",
     "output_type": "stream",
     "text": [
      "INFO:__main__:[INFO] Skipping file week_21_Anexo_Bol_Semanal_may17_2014.xls as it is already loaded into RDS.\n"
     ]
    },
    {
     "name": "stdout",
     "output_type": "stream",
     "text": [
      "2024-09-28 11:24:48,567 - INFO - [INFO] Skipping file week_22_Anexo_Bol_Semanal_may24_2014.xls as it is already loaded into RDS.\n",
      "2024-09-28 11:24:48,567 - INFO - [INFO] Skipping file week_22_Anexo_Bol_Semanal_may24_2014.xls as it is already loaded into RDS.\n"
     ]
    },
    {
     "name": "stderr",
     "output_type": "stream",
     "text": [
      "INFO:__main__:[INFO] Skipping file week_22_Anexo_Bol_Semanal_may24_2014.xls as it is already loaded into RDS.\n"
     ]
    },
    {
     "name": "stdout",
     "output_type": "stream",
     "text": [
      "2024-09-28 11:24:48,577 - INFO - [INFO] Skipping file week_23_Anexo_Bol_Semanal_jun6_2014.xls as it is already loaded into RDS.\n",
      "2024-09-28 11:24:48,577 - INFO - [INFO] Skipping file week_23_Anexo_Bol_Semanal_jun6_2014.xls as it is already loaded into RDS.\n"
     ]
    },
    {
     "name": "stderr",
     "output_type": "stream",
     "text": [
      "INFO:__main__:[INFO] Skipping file week_23_Anexo_Bol_Semanal_jun6_2014.xls as it is already loaded into RDS.\n"
     ]
    },
    {
     "name": "stdout",
     "output_type": "stream",
     "text": [
      "2024-09-28 11:24:48,583 - INFO - [INFO] Skipping file week_24_Anexo_Bol_Semanal_jun7_2014.xls as it is already loaded into RDS.\n",
      "2024-09-28 11:24:48,583 - INFO - [INFO] Skipping file week_24_Anexo_Bol_Semanal_jun7_2014.xls as it is already loaded into RDS.\n"
     ]
    },
    {
     "name": "stderr",
     "output_type": "stream",
     "text": [
      "INFO:__main__:[INFO] Skipping file week_24_Anexo_Bol_Semanal_jun7_2014.xls as it is already loaded into RDS.\n"
     ]
    },
    {
     "name": "stdout",
     "output_type": "stream",
     "text": [
      "2024-09-28 11:24:48,589 - INFO - [INFO] Skipping file week_25_Anexo_Bol_Semanal_jun16_2014.xls as it is already loaded into RDS.\n",
      "2024-09-28 11:24:48,589 - INFO - [INFO] Skipping file week_25_Anexo_Bol_Semanal_jun16_2014.xls as it is already loaded into RDS.\n"
     ]
    },
    {
     "name": "stderr",
     "output_type": "stream",
     "text": [
      "INFO:__main__:[INFO] Skipping file week_25_Anexo_Bol_Semanal_jun16_2014.xls as it is already loaded into RDS.\n"
     ]
    },
    {
     "name": "stdout",
     "output_type": "stream",
     "text": [
      "2024-09-28 11:24:48,599 - INFO - [INFO] Skipping file week_26_Anexo_Bol_Semanal_jun21_2014.xls as it is already loaded into RDS.\n",
      "2024-09-28 11:24:48,599 - INFO - [INFO] Skipping file week_26_Anexo_Bol_Semanal_jun21_2014.xls as it is already loaded into RDS.\n"
     ]
    },
    {
     "name": "stderr",
     "output_type": "stream",
     "text": [
      "INFO:__main__:[INFO] Skipping file week_26_Anexo_Bol_Semanal_jun21_2014.xls as it is already loaded into RDS.\n",
      " 27%|██▋       | 76/285 [00:01<00:02, 72.72it/s]"
     ]
    },
    {
     "name": "stdout",
     "output_type": "stream",
     "text": [
      "2024-09-28 11:24:48,625 - INFO - [INFO] Skipping file week_27_Anexo_Bol_Semanal_jun28_2014.xls as it is already loaded into RDS.\n",
      "2024-09-28 11:24:48,625 - INFO - [INFO] Skipping file week_27_Anexo_Bol_Semanal_jun28_2014.xls as it is already loaded into RDS.\n"
     ]
    },
    {
     "name": "stderr",
     "output_type": "stream",
     "text": [
      "INFO:__main__:[INFO] Skipping file week_27_Anexo_Bol_Semanal_jun28_2014.xls as it is already loaded into RDS.\n"
     ]
    },
    {
     "name": "stdout",
     "output_type": "stream",
     "text": [
      "2024-09-28 11:24:48,633 - INFO - [INFO] Skipping file week_28_Anexo_Bol_Semanal_jul11_2014.xls as it is already loaded into RDS.\n",
      "2024-09-28 11:24:48,633 - INFO - [INFO] Skipping file week_28_Anexo_Bol_Semanal_jul11_2014.xls as it is already loaded into RDS.\n"
     ]
    },
    {
     "name": "stderr",
     "output_type": "stream",
     "text": [
      "INFO:__main__:[INFO] Skipping file week_28_Anexo_Bol_Semanal_jul11_2014.xls as it is already loaded into RDS.\n"
     ]
    },
    {
     "name": "stdout",
     "output_type": "stream",
     "text": [
      "2024-09-28 11:24:48,645 - INFO - [INFO] Skipping file week_29_Anexo_Bol_Semanal_jul18_2014.xls as it is already loaded into RDS.\n",
      "2024-09-28 11:24:48,645 - INFO - [INFO] Skipping file week_29_Anexo_Bol_Semanal_jul18_2014.xls as it is already loaded into RDS.\n"
     ]
    },
    {
     "name": "stderr",
     "output_type": "stream",
     "text": [
      "INFO:__main__:[INFO] Skipping file week_29_Anexo_Bol_Semanal_jul18_2014.xls as it is already loaded into RDS.\n"
     ]
    },
    {
     "name": "stdout",
     "output_type": "stream",
     "text": [
      "2024-09-28 11:24:48,651 - INFO - [INFO] Skipping file week_2_Anexo_Bol_Semanal_ene4_2014.xls as it is already loaded into RDS.\n",
      "2024-09-28 11:24:48,651 - INFO - [INFO] Skipping file week_2_Anexo_Bol_Semanal_ene4_2014.xls as it is already loaded into RDS.\n"
     ]
    },
    {
     "name": "stderr",
     "output_type": "stream",
     "text": [
      "INFO:__main__:[INFO] Skipping file week_2_Anexo_Bol_Semanal_ene4_2014.xls as it is already loaded into RDS.\n"
     ]
    },
    {
     "name": "stdout",
     "output_type": "stream",
     "text": [
      "2024-09-28 11:24:48,700 - INFO - [INFO] Skipping file week_30_Anexo_Bol_Semanal_jul19_2014.xls as it is already loaded into RDS.\n",
      "2024-09-28 11:24:48,700 - INFO - [INFO] Skipping file week_30_Anexo_Bol_Semanal_jul19_2014.xls as it is already loaded into RDS.\n"
     ]
    },
    {
     "name": "stderr",
     "output_type": "stream",
     "text": [
      "INFO:__main__:[INFO] Skipping file week_30_Anexo_Bol_Semanal_jul19_2014.xls as it is already loaded into RDS.\n"
     ]
    },
    {
     "name": "stdout",
     "output_type": "stream",
     "text": [
      "2024-09-28 11:24:48,712 - INFO - [INFO] Skipping file week_31_Anexo_Bol_Semanal_jul26_2014.xls as it is already loaded into RDS.\n",
      "2024-09-28 11:24:48,712 - INFO - [INFO] Skipping file week_31_Anexo_Bol_Semanal_jul26_2014.xls as it is already loaded into RDS.\n"
     ]
    },
    {
     "name": "stderr",
     "output_type": "stream",
     "text": [
      "INFO:__main__:[INFO] Skipping file week_31_Anexo_Bol_Semanal_jul26_2014.xls as it is already loaded into RDS.\n"
     ]
    },
    {
     "name": "stdout",
     "output_type": "stream",
     "text": [
      "2024-09-28 11:24:48,743 - INFO - [INFO] Skipping file week_32_Anexo_Bol_Semanal_ago2_2014.xls as it is already loaded into RDS.\n",
      "2024-09-28 11:24:48,743 - INFO - [INFO] Skipping file week_32_Anexo_Bol_Semanal_ago2_2014.xls as it is already loaded into RDS.\n"
     ]
    },
    {
     "name": "stderr",
     "output_type": "stream",
     "text": [
      "INFO:__main__:[INFO] Skipping file week_32_Anexo_Bol_Semanal_ago2_2014.xls as it is already loaded into RDS.\n"
     ]
    },
    {
     "name": "stdout",
     "output_type": "stream",
     "text": [
      "2024-09-28 11:24:48,754 - INFO - [INFO] Skipping file week_33_Anexo_Bol_Semanal_ago23_2014.xls as it is already loaded into RDS.\n",
      "2024-09-28 11:24:48,754 - INFO - [INFO] Skipping file week_33_Anexo_Bol_Semanal_ago23_2014.xls as it is already loaded into RDS.\n"
     ]
    },
    {
     "name": "stderr",
     "output_type": "stream",
     "text": [
      "INFO:__main__:[INFO] Skipping file week_33_Anexo_Bol_Semanal_ago23_2014.xls as it is already loaded into RDS.\n",
      " 29%|██▉       | 84/285 [00:01<00:02, 68.05it/s]"
     ]
    },
    {
     "name": "stdout",
     "output_type": "stream",
     "text": [
      "2024-09-28 11:24:48,761 - INFO - [INFO] Skipping file week_34_Anexo_Bol_Semanal_ago30_2014.xls as it is already loaded into RDS.\n",
      "2024-09-28 11:24:48,761 - INFO - [INFO] Skipping file week_34_Anexo_Bol_Semanal_ago30_2014.xls as it is already loaded into RDS.\n"
     ]
    },
    {
     "name": "stderr",
     "output_type": "stream",
     "text": [
      "INFO:__main__:[INFO] Skipping file week_34_Anexo_Bol_Semanal_ago30_2014.xls as it is already loaded into RDS.\n"
     ]
    },
    {
     "name": "stdout",
     "output_type": "stream",
     "text": [
      "2024-09-28 11:24:48,768 - INFO - [INFO] Skipping file week_35_Anexo_Bol_Semanal_sep6_2014.xls as it is already loaded into RDS.\n",
      "2024-09-28 11:24:48,768 - INFO - [INFO] Skipping file week_35_Anexo_Bol_Semanal_sep6_2014.xls as it is already loaded into RDS.\n"
     ]
    },
    {
     "name": "stderr",
     "output_type": "stream",
     "text": [
      "INFO:__main__:[INFO] Skipping file week_35_Anexo_Bol_Semanal_sep6_2014.xls as it is already loaded into RDS.\n"
     ]
    },
    {
     "name": "stdout",
     "output_type": "stream",
     "text": [
      "2024-09-28 11:24:48,797 - INFO - [INFO] Skipping file week_36_Anexo_Bol_Semanal_sep13_2014.xls as it is already loaded into RDS.\n",
      "2024-09-28 11:24:48,797 - INFO - [INFO] Skipping file week_36_Anexo_Bol_Semanal_sep13_2014.xls as it is already loaded into RDS.\n"
     ]
    },
    {
     "name": "stderr",
     "output_type": "stream",
     "text": [
      "INFO:__main__:[INFO] Skipping file week_36_Anexo_Bol_Semanal_sep13_2014.xls as it is already loaded into RDS.\n"
     ]
    },
    {
     "name": "stdout",
     "output_type": "stream",
     "text": [
      "2024-09-28 11:24:48,802 - INFO - [INFO] Skipping file week_37_Anexo_Bol_Semanal_sep26_2014.xls as it is already loaded into RDS.\n",
      "2024-09-28 11:24:48,802 - INFO - [INFO] Skipping file week_37_Anexo_Bol_Semanal_sep26_2014.xls as it is already loaded into RDS.\n"
     ]
    },
    {
     "name": "stderr",
     "output_type": "stream",
     "text": [
      "INFO:__main__:[INFO] Skipping file week_37_Anexo_Bol_Semanal_sep26_2014.xls as it is already loaded into RDS.\n"
     ]
    },
    {
     "name": "stdout",
     "output_type": "stream",
     "text": [
      "2024-09-28 11:24:48,814 - INFO - [INFO] Skipping file week_38_Anexo_Bol_Semanal_sep27_2014.xls as it is already loaded into RDS.\n",
      "2024-09-28 11:24:48,814 - INFO - [INFO] Skipping file week_38_Anexo_Bol_Semanal_sep27_2014.xls as it is already loaded into RDS.\n"
     ]
    },
    {
     "name": "stderr",
     "output_type": "stream",
     "text": [
      "INFO:__main__:[INFO] Skipping file week_38_Anexo_Bol_Semanal_sep27_2014.xls as it is already loaded into RDS.\n"
     ]
    },
    {
     "name": "stdout",
     "output_type": "stream",
     "text": [
      "2024-09-28 11:24:48,820 - INFO - [INFO] Skipping file week_39_Anexo_Bol_Semanal_oct4_2014.xls as it is already loaded into RDS.\n",
      "2024-09-28 11:24:48,820 - INFO - [INFO] Skipping file week_39_Anexo_Bol_Semanal_oct4_2014.xls as it is already loaded into RDS.\n"
     ]
    },
    {
     "name": "stderr",
     "output_type": "stream",
     "text": [
      "INFO:__main__:[INFO] Skipping file week_39_Anexo_Bol_Semanal_oct4_2014.xls as it is already loaded into RDS.\n"
     ]
    },
    {
     "name": "stdout",
     "output_type": "stream",
     "text": [
      "2024-09-28 11:24:48,827 - INFO - [INFO] Skipping file week_3_Anexo_Bol_Semanal_ene11_2014.xls as it is already loaded into RDS.\n",
      "2024-09-28 11:24:48,827 - INFO - [INFO] Skipping file week_3_Anexo_Bol_Semanal_ene11_2014.xls as it is already loaded into RDS.\n"
     ]
    },
    {
     "name": "stderr",
     "output_type": "stream",
     "text": [
      "INFO:__main__:[INFO] Skipping file week_3_Anexo_Bol_Semanal_ene11_2014.xls as it is already loaded into RDS.\n"
     ]
    },
    {
     "name": "stdout",
     "output_type": "stream",
     "text": [
      "2024-09-28 11:24:48,854 - INFO - [INFO] Skipping file week_40_Anexo_Bol_Semanal_oct11_2014.xls as it is already loaded into RDS.\n",
      "2024-09-28 11:24:48,854 - INFO - [INFO] Skipping file week_40_Anexo_Bol_Semanal_oct11_2014.xls as it is already loaded into RDS.\n"
     ]
    },
    {
     "name": "stderr",
     "output_type": "stream",
     "text": [
      "INFO:__main__:[INFO] Skipping file week_40_Anexo_Bol_Semanal_oct11_2014.xls as it is already loaded into RDS.\n",
      " 32%|███▏      | 92/285 [00:01<00:02, 69.56it/s]"
     ]
    },
    {
     "name": "stdout",
     "output_type": "stream",
     "text": [
      "2024-09-28 11:24:48,870 - INFO - [INFO] Skipping file week_41_Anexo_Bol_Semanal_oct24_2014.xls as it is already loaded into RDS.\n",
      "2024-09-28 11:24:48,870 - INFO - [INFO] Skipping file week_41_Anexo_Bol_Semanal_oct24_2014.xls as it is already loaded into RDS.\n"
     ]
    },
    {
     "name": "stderr",
     "output_type": "stream",
     "text": [
      "INFO:__main__:[INFO] Skipping file week_41_Anexo_Bol_Semanal_oct24_2014.xls as it is already loaded into RDS.\n"
     ]
    },
    {
     "name": "stdout",
     "output_type": "stream",
     "text": [
      "2024-09-28 11:24:48,876 - INFO - [INFO] Skipping file week_42_Anexo_Bol_Semanal_oct25_2014.xls as it is already loaded into RDS.\n",
      "2024-09-28 11:24:48,876 - INFO - [INFO] Skipping file week_42_Anexo_Bol_Semanal_oct25_2014.xls as it is already loaded into RDS.\n"
     ]
    },
    {
     "name": "stderr",
     "output_type": "stream",
     "text": [
      "INFO:__main__:[INFO] Skipping file week_42_Anexo_Bol_Semanal_oct25_2014.xls as it is already loaded into RDS.\n"
     ]
    },
    {
     "name": "stdout",
     "output_type": "stream",
     "text": [
      "2024-09-28 11:24:48,881 - INFO - [INFO] Skipping file week_43_Anexo_Bol_Semanal_nov01_2014.xls as it is already loaded into RDS.\n",
      "2024-09-28 11:24:48,881 - INFO - [INFO] Skipping file week_43_Anexo_Bol_Semanal_nov01_2014.xls as it is already loaded into RDS.\n"
     ]
    },
    {
     "name": "stderr",
     "output_type": "stream",
     "text": [
      "INFO:__main__:[INFO] Skipping file week_43_Anexo_Bol_Semanal_nov01_2014.xls as it is already loaded into RDS.\n"
     ]
    },
    {
     "name": "stdout",
     "output_type": "stream",
     "text": [
      "2024-09-28 11:24:48,913 - INFO - [INFO] Skipping file week_44_Anexo_Bol_Semanal_nov08_2014.xls as it is already loaded into RDS.\n",
      "2024-09-28 11:24:48,913 - INFO - [INFO] Skipping file week_44_Anexo_Bol_Semanal_nov08_2014.xls as it is already loaded into RDS.\n"
     ]
    },
    {
     "name": "stderr",
     "output_type": "stream",
     "text": [
      "INFO:__main__:[INFO] Skipping file week_44_Anexo_Bol_Semanal_nov08_2014.xls as it is already loaded into RDS.\n"
     ]
    },
    {
     "name": "stdout",
     "output_type": "stream",
     "text": [
      "2024-09-28 11:24:48,918 - INFO - [INFO] Skipping file week_45_Anex_Bol_Semanal_nov15_2014.xls as it is already loaded into RDS.\n",
      "2024-09-28 11:24:48,918 - INFO - [INFO] Skipping file week_45_Anex_Bol_Semanal_nov15_2014.xls as it is already loaded into RDS.\n"
     ]
    },
    {
     "name": "stderr",
     "output_type": "stream",
     "text": [
      "INFO:__main__:[INFO] Skipping file week_45_Anex_Bol_Semanal_nov15_2014.xls as it is already loaded into RDS.\n"
     ]
    },
    {
     "name": "stdout",
     "output_type": "stream",
     "text": [
      "2024-09-28 11:24:48,936 - INFO - [INFO] Skipping file week_46_Anex_Bol_Semanal_nov22_2014.xls as it is already loaded into RDS.\n",
      "2024-09-28 11:24:48,936 - INFO - [INFO] Skipping file week_46_Anex_Bol_Semanal_nov22_2014.xls as it is already loaded into RDS.\n"
     ]
    },
    {
     "name": "stderr",
     "output_type": "stream",
     "text": [
      "INFO:__main__:[INFO] Skipping file week_46_Anex_Bol_Semanal_nov22_2014.xls as it is already loaded into RDS.\n"
     ]
    },
    {
     "name": "stdout",
     "output_type": "stream",
     "text": [
      "2024-09-28 11:24:48,944 - INFO - [INFO] Skipping file week_47_Anex_Bol_Semanal_nov29_05dic_2014.xls as it is already loaded into RDS.\n",
      "2024-09-28 11:24:48,944 - INFO - [INFO] Skipping file week_47_Anex_Bol_Semanal_nov29_05dic_2014.xls as it is already loaded into RDS.\n"
     ]
    },
    {
     "name": "stderr",
     "output_type": "stream",
     "text": [
      "INFO:__main__:[INFO] Skipping file week_47_Anex_Bol_Semanal_nov29_05dic_2014.xls as it is already loaded into RDS.\n"
     ]
    },
    {
     "name": "stdout",
     "output_type": "stream",
     "text": [
      "2024-09-28 11:24:48,973 - INFO - [INFO] Skipping file week_48_Anex_Bol_Semanal_dic6_dic12_2014.xls as it is already loaded into RDS.\n",
      "2024-09-28 11:24:48,973 - INFO - [INFO] Skipping file week_48_Anex_Bol_Semanal_dic6_dic12_2014.xls as it is already loaded into RDS.\n"
     ]
    },
    {
     "name": "stderr",
     "output_type": "stream",
     "text": [
      "INFO:__main__:[INFO] Skipping file week_48_Anex_Bol_Semanal_dic6_dic12_2014.xls as it is already loaded into RDS.\n",
      " 35%|███▌      | 100/285 [00:01<00:02, 70.29it/s]"
     ]
    },
    {
     "name": "stdout",
     "output_type": "stream",
     "text": [
      "2024-09-28 11:24:48,980 - INFO - [INFO] Skipping file week_49_Anex_Bol_Semanal_dic_20_26_2014.xls as it is already loaded into RDS.\n",
      "2024-09-28 11:24:48,980 - INFO - [INFO] Skipping file week_49_Anex_Bol_Semanal_dic_20_26_2014.xls as it is already loaded into RDS.\n"
     ]
    },
    {
     "name": "stderr",
     "output_type": "stream",
     "text": [
      "INFO:__main__:[INFO] Skipping file week_49_Anex_Bol_Semanal_dic_20_26_2014.xls as it is already loaded into RDS.\n"
     ]
    },
    {
     "name": "stdout",
     "output_type": "stream",
     "text": [
      "2024-09-28 11:24:48,985 - INFO - [INFO] Skipping file week_4_Anexo_Bol_Semanal_ene18_2014.xls as it is already loaded into RDS.\n",
      "2024-09-28 11:24:48,985 - INFO - [INFO] Skipping file week_4_Anexo_Bol_Semanal_ene18_2014.xls as it is already loaded into RDS.\n"
     ]
    },
    {
     "name": "stderr",
     "output_type": "stream",
     "text": [
      "INFO:__main__:[INFO] Skipping file week_4_Anexo_Bol_Semanal_ene18_2014.xls as it is already loaded into RDS.\n"
     ]
    },
    {
     "name": "stdout",
     "output_type": "stream",
     "text": [
      "2024-09-28 11:24:48,999 - INFO - [INFO] Skipping file week_50_Anex_Bol_Semanal_dic13_19_2014.xls as it is already loaded into RDS.\n",
      "2024-09-28 11:24:48,999 - INFO - [INFO] Skipping file week_50_Anex_Bol_Semanal_dic13_19_2014.xls as it is already loaded into RDS.\n"
     ]
    },
    {
     "name": "stderr",
     "output_type": "stream",
     "text": [
      "INFO:__main__:[INFO] Skipping file week_50_Anex_Bol_Semanal_dic13_19_2014.xls as it is already loaded into RDS.\n"
     ]
    },
    {
     "name": "stdout",
     "output_type": "stream",
     "text": [
      "2024-09-28 11:24:49,007 - INFO - [INFO] Skipping file week_51_Anex_Bol_Semanal_dic_20_26_2014.xls as it is already loaded into RDS.\n",
      "2024-09-28 11:24:49,007 - INFO - [INFO] Skipping file week_51_Anex_Bol_Semanal_dic_20_26_2014.xls as it is already loaded into RDS.\n"
     ]
    },
    {
     "name": "stderr",
     "output_type": "stream",
     "text": [
      "INFO:__main__:[INFO] Skipping file week_51_Anex_Bol_Semanal_dic_20_26_2014.xls as it is already loaded into RDS.\n"
     ]
    },
    {
     "name": "stdout",
     "output_type": "stream",
     "text": [
      "2024-09-28 11:24:49,033 - INFO - [INFO] Skipping file week_5_Anexo_Bol_Semanal_ene25_2014.xls as it is already loaded into RDS.\n",
      "2024-09-28 11:24:49,033 - INFO - [INFO] Skipping file week_5_Anexo_Bol_Semanal_ene25_2014.xls as it is already loaded into RDS.\n"
     ]
    },
    {
     "name": "stderr",
     "output_type": "stream",
     "text": [
      "INFO:__main__:[INFO] Skipping file week_5_Anexo_Bol_Semanal_ene25_2014.xls as it is already loaded into RDS.\n"
     ]
    },
    {
     "name": "stdout",
     "output_type": "stream",
     "text": [
      "2024-09-28 11:24:49,072 - INFO - [INFO] Skipping file week_6_Anexo_Bol_Semanal_feb1_2014.xls as it is already loaded into RDS.\n",
      "2024-09-28 11:24:49,072 - INFO - [INFO] Skipping file week_6_Anexo_Bol_Semanal_feb1_2014.xls as it is already loaded into RDS.\n"
     ]
    },
    {
     "name": "stderr",
     "output_type": "stream",
     "text": [
      "INFO:__main__:[INFO] Skipping file week_6_Anexo_Bol_Semanal_feb1_2014.xls as it is already loaded into RDS.\n"
     ]
    },
    {
     "name": "stdout",
     "output_type": "stream",
     "text": [
      "2024-09-28 11:24:49,119 - INFO - [INFO] Skipping file week_7_Anexo_Bol_Semanal_feb8_2014.xls as it is already loaded into RDS.\n",
      "2024-09-28 11:24:49,119 - INFO - [INFO] Skipping file week_7_Anexo_Bol_Semanal_feb8_2014.xls as it is already loaded into RDS.\n"
     ]
    },
    {
     "name": "stderr",
     "output_type": "stream",
     "text": [
      "INFO:__main__:[INFO] Skipping file week_7_Anexo_Bol_Semanal_feb8_2014.xls as it is already loaded into RDS.\n"
     ]
    },
    {
     "name": "stdout",
     "output_type": "stream",
     "text": [
      "2024-09-28 11:24:49,166 - INFO - [INFO] Skipping file week_8_Anexo_Bol_Semanal_feb15_2014.xls as it is already loaded into RDS.\n",
      "2024-09-28 11:24:49,166 - INFO - [INFO] Skipping file week_8_Anexo_Bol_Semanal_feb15_2014.xls as it is already loaded into RDS.\n"
     ]
    },
    {
     "name": "stderr",
     "output_type": "stream",
     "text": [
      "INFO:__main__:[INFO] Skipping file week_8_Anexo_Bol_Semanal_feb15_2014.xls as it is already loaded into RDS.\n",
      " 38%|███▊      | 108/285 [00:01<00:03, 54.09it/s]"
     ]
    },
    {
     "name": "stdout",
     "output_type": "stream",
     "text": [
      "2024-09-28 11:24:49,212 - INFO - [INFO] Skipping file week_9_Anexo_Bol_Semanal_feb22_2014.xls as it is already loaded into RDS.\n",
      "2024-09-28 11:24:49,212 - INFO - [INFO] Skipping file week_9_Anexo_Bol_Semanal_feb22_2014.xls as it is already loaded into RDS.\n"
     ]
    },
    {
     "name": "stderr",
     "output_type": "stream",
     "text": [
      "INFO:__main__:[INFO] Skipping file week_9_Anexo_Bol_Semanal_feb22_2014.xls as it is already loaded into RDS.\n"
     ]
    },
    {
     "name": "stdout",
     "output_type": "stream",
     "text": [
      "2024-09-28 11:24:49,235 - INFO - [INFO] Skipping file week_10_Anexo_28feb_6mar_2015.xls as it is already loaded into RDS.\n",
      "2024-09-28 11:24:49,235 - INFO - [INFO] Skipping file week_10_Anexo_28feb_6mar_2015.xls as it is already loaded into RDS.\n"
     ]
    },
    {
     "name": "stderr",
     "output_type": "stream",
     "text": [
      "INFO:__main__:[INFO] Skipping file week_10_Anexo_28feb_6mar_2015.xls as it is already loaded into RDS.\n"
     ]
    },
    {
     "name": "stdout",
     "output_type": "stream",
     "text": [
      "2024-09-28 11:24:49,241 - INFO - [INFO] Skipping file week_11_Anexo_7mar_13mar_2015.xls as it is already loaded into RDS.\n",
      "2024-09-28 11:24:49,241 - INFO - [INFO] Skipping file week_11_Anexo_7mar_13mar_2015.xls as it is already loaded into RDS.\n"
     ]
    },
    {
     "name": "stderr",
     "output_type": "stream",
     "text": [
      "INFO:__main__:[INFO] Skipping file week_11_Anexo_7mar_13mar_2015.xls as it is already loaded into RDS.\n"
     ]
    },
    {
     "name": "stdout",
     "output_type": "stream",
     "text": [
      "2024-09-28 11:24:49,247 - INFO - [INFO] Skipping file week_12_Anexo_14mar_20mar_2015.xls as it is already loaded into RDS.\n",
      "2024-09-28 11:24:49,247 - INFO - [INFO] Skipping file week_12_Anexo_14mar_20mar_2015.xls as it is already loaded into RDS.\n"
     ]
    },
    {
     "name": "stderr",
     "output_type": "stream",
     "text": [
      "INFO:__main__:[INFO] Skipping file week_12_Anexo_14mar_20mar_2015.xls as it is already loaded into RDS.\n"
     ]
    },
    {
     "name": "stdout",
     "output_type": "stream",
     "text": [
      "2024-09-28 11:24:49,252 - INFO - [INFO] Skipping file week_13_Anexo_21mar_27mar_2015.xls as it is already loaded into RDS.\n",
      "2024-09-28 11:24:49,252 - INFO - [INFO] Skipping file week_13_Anexo_21mar_27mar_2015.xls as it is already loaded into RDS.\n"
     ]
    },
    {
     "name": "stderr",
     "output_type": "stream",
     "text": [
      "INFO:__main__:[INFO] Skipping file week_13_Anexo_21mar_27mar_2015.xls as it is already loaded into RDS.\n"
     ]
    },
    {
     "name": "stdout",
     "output_type": "stream",
     "text": [
      "2024-09-28 11:24:49,299 - INFO - [INFO] Skipping file week_14_Anexo_28mar_1abr_2015.xls as it is already loaded into RDS.\n",
      "2024-09-28 11:24:49,299 - INFO - [INFO] Skipping file week_14_Anexo_28mar_1abr_2015.xls as it is already loaded into RDS.\n"
     ]
    },
    {
     "name": "stderr",
     "output_type": "stream",
     "text": [
      "INFO:__main__:[INFO] Skipping file week_14_Anexo_28mar_1abr_2015.xls as it is already loaded into RDS.\n"
     ]
    },
    {
     "name": "stdout",
     "output_type": "stream",
     "text": [
      "2024-09-28 11:24:49,305 - INFO - [INFO] Skipping file week_15_Anexo_4_10abr_2015.xls as it is already loaded into RDS.\n",
      "2024-09-28 11:24:49,305 - INFO - [INFO] Skipping file week_15_Anexo_4_10abr_2015.xls as it is already loaded into RDS.\n"
     ]
    },
    {
     "name": "stderr",
     "output_type": "stream",
     "text": [
      "INFO:__main__:[INFO] Skipping file week_15_Anexo_4_10abr_2015.xls as it is already loaded into RDS.\n",
      " 40%|████      | 115/285 [00:01<00:03, 54.52it/s]"
     ]
    },
    {
     "name": "stdout",
     "output_type": "stream",
     "text": [
      "2024-09-28 11:24:51,484 - WARNING - No 'cuadro' titles found in reports/2015/week_16_Anexo_13_17abr_2015.xls\n",
      "2024-09-28 11:24:51,484 - WARNING - No 'cuadro' titles found in reports/2015/week_16_Anexo_13_17abr_2015.xls\n"
     ]
    },
    {
     "name": "stderr",
     "output_type": "stream",
     "text": [
      "WARNING:__main__:No 'cuadro' titles found in reports/2015/week_16_Anexo_13_17abr_2015.xls\n",
      " 98%|█████████▊| 279/285 [16:33<00:39,  6.59s/it]"
     ]
    },
    {
     "name": "stdout",
     "output_type": "stream",
     "text": [
      "2024-09-28 11:41:23,050 - ERROR - Error processing category 6 in file reports/2018/week_4_Sem_20ene_26ene_2018.xls: list index out of range\n",
      "2024-09-28 11:41:23,050 - ERROR - Error processing category 6 in file reports/2018/week_4_Sem_20ene_26ene_2018.xls: list index out of range\n"
     ]
    },
    {
     "name": "stderr",
     "output_type": "stream",
     "text": [
      "ERROR:__main__:Error processing category 6 in file reports/2018/week_4_Sem_20ene_26ene_2018.xls: list index out of range\n",
      "100%|██████████| 285/285 [17:08<00:00,  3.61s/it]"
     ]
    },
    {
     "name": "stdout",
     "output_type": "stream",
     "text": [
      "2024-09-28 11:41:55,729 - INFO - [INFO] Second batch of files\n",
      "2024-09-28 11:41:55,729 - INFO - [INFO] Second batch of files\n"
     ]
    },
    {
     "name": "stderr",
     "output_type": "stream",
     "text": [
      "\n",
      "INFO:__main__:[INFO] Second batch of files\n",
      "100%|██████████| 333/333 [41:26<00:00,  7.47s/it]   \n"
     ]
    }
   ],
   "source": [
    "df = final.executing_process(output_dataframe = True)"
   ]
  },
  {
   "cell_type": "markdown",
   "metadata": {},
   "source": [
    "## EDA"
   ]
  },
  {
   "cell_type": "code",
   "execution_count": 150,
   "metadata": {
    "ExecuteTime": {
     "end_time": "2024-09-28T17:40:55.337944Z",
     "start_time": "2024-09-28T17:40:54.612142Z"
    }
   },
   "outputs": [],
   "source": [
    "df_all = df.copy()"
   ]
  },
  {
   "cell_type": "code",
   "execution_count": null,
   "metadata": {},
   "outputs": [],
   "source": []
  },
  {
   "cell_type": "code",
   "execution_count": 151,
   "metadata": {
    "ExecuteTime": {
     "end_time": "2024-09-28T17:41:00.931747Z",
     "start_time": "2024-09-28T17:40:58.408456Z"
    }
   },
   "outputs": [
    {
     "name": "stdout",
     "output_type": "stream",
     "text": [
      "[Info] Data Frame with 4910 rows and 4 columns imported successfully.\n"
     ]
    }
   ],
   "source": [
    "query_test = \"\"\"\n",
    "SELECT categoria, AVG(precio_medio), semana_no, anho FROM product_prices \n",
    "GROUP BY categoria, semana_no, anho\n",
    "--AND producto = 'Chocolate amargo'\n",
    "\"\"\"\n",
    "df = final.querying_db(query = query_test)"
   ]
  },
  {
   "cell_type": "code",
   "execution_count": 154,
   "metadata": {
    "ExecuteTime": {
     "end_time": "2024-09-28T17:41:15.577687Z",
     "start_time": "2024-09-28T17:41:15.568243Z"
    }
   },
   "outputs": [],
   "source": [
    "df = df[df['avg']<30000]"
   ]
  },
  {
   "cell_type": "code",
   "execution_count": 155,
   "metadata": {
    "ExecuteTime": {
     "end_time": "2024-09-28T17:41:16.316453Z",
     "start_time": "2024-09-28T17:41:16.263454Z"
    }
   },
   "outputs": [],
   "source": [
    "df['date'] = (df['anho'].astype(str) +'.'+ df['semana_no'].astype(str)).astype(float)"
   ]
  },
  {
   "cell_type": "code",
   "execution_count": 156,
   "metadata": {
    "ExecuteTime": {
     "end_time": "2024-09-28T17:41:17.021698Z",
     "start_time": "2024-09-28T17:41:16.974703Z"
    }
   },
   "outputs": [],
   "source": [
    "df = df.sort_values(by ='date').reset_index(drop = True)"
   ]
  },
  {
   "cell_type": "code",
   "execution_count": 157,
   "metadata": {
    "ExecuteTime": {
     "end_time": "2024-09-28T17:41:18.378881Z",
     "start_time": "2024-09-28T17:41:17.494850Z"
    }
   },
   "outputs": [
    {
     "data": {
      "image/png": "[encoded data removed]",
      "text/plain": [
       "<Figure size 1008x576 with 1 Axes>"
      ]
     },
     "metadata": {
      "needs_background": "light"
     },
     "output_type": "display_data"
    }
   ],
   "source": [
    "plt.figure(figsize=(14, 8))\n",
    "# Loop through each category\n",
    "for category in df['categoria'].unique():\n",
    "    subset = df[df['categoria'] == category]\n",
    "    plt.plot(subset['date'], subset['avg'], label=category)\n",
    "\n",
    "plt.xlabel('Year (Including Week Number)')\n",
    "plt.ylabel('Average Price')\n",
    "plt.title('Average Price per Category Over Time')\n",
    "plt.legend(title=\"Category\")\n",
    "plt.grid(True)\n",
    "\n",
    "plt.show()"
   ]
  },
  {
   "cell_type": "code",
   "execution_count": null,
   "metadata": {
    "ExecuteTime": {
     "end_time": "2024-09-28T17:35:19.338859Z",
     "start_time": "2024-09-28T17:35:19.338859Z"
    }
   },
   "outputs": [],
   "source": [
    "df"
   ]
  },
  {
   "cell_type": "markdown",
   "metadata": {
    "ExecuteTime": {
     "end_time": "2024-09-16T14:11:53.903761Z",
     "start_time": "2024-09-16T14:11:53.898761Z"
    }
   },
   "source": [
    "## testeando"
   ]
  },
  {
   "cell_type": "code",
   "execution_count": 156,
   "metadata": {
    "ExecuteTime": {
     "end_time": "2024-09-17T09:58:43.772418Z",
     "start_time": "2024-09-17T09:58:42.485746Z"
    }
   },
   "outputs": [
    {
     "name": "stdout",
     "output_type": "stream",
     "text": [
      "2024-09-17 04:58:42,509 - INFO - Fetching first format paths from bucket: sipsa-bucket\n"
     ]
    },
    {
     "name": "stderr",
     "output_type": "stream",
     "text": [
      "INFO:__main__:Fetching first format paths from bucket: sipsa-bucket\n"
     ]
    },
    {
     "name": "stdout",
     "output_type": "stream",
     "text": [
      "2024-09-17 04:58:43,482 - INFO - Found 285 files for the first format.\n"
     ]
    },
    {
     "name": "stderr",
     "output_type": "stream",
     "text": [
      "INFO:__main__:Found 285 files for the first format.\n"
     ]
    },
    {
     "name": "stdout",
     "output_type": "stream",
     "text": [
      "2024-09-17 04:58:43,485 - INFO - Fetching second format paths from bucket: sipsa-bucket\n"
     ]
    },
    {
     "name": "stderr",
     "output_type": "stream",
     "text": [
      "INFO:__main__:Fetching second format paths from bucket: sipsa-bucket\n"
     ]
    },
    {
     "name": "stdout",
     "output_type": "stream",
     "text": [
      "2024-09-17 04:58:43,768 - INFO - Found 331 files for the second format.\n"
     ]
    },
    {
     "name": "stderr",
     "output_type": "stream",
     "text": [
      "INFO:__main__:Found 331 files for the second format.\n"
     ]
    }
   ],
   "source": [
    "coso = DataWrangler(s3 = s3, \n",
    "             bucket_name = bucket_name)\n",
    "\n",
    "file_name_builder = FileNameBuilder(s3)\n",
    "first_format_paths_aws = file_name_builder.first_format_paths(bucket_name='sipsa-bucket')\n",
    "second_format_paths_aws = file_name_builder.second_format_paths(bucket_name='sipsa-bucket')"
   ]
  },
  {
   "cell_type": "code",
   "execution_count": 185,
   "metadata": {
    "ExecuteTime": {
     "end_time": "2024-09-17T10:21:11.532814Z",
     "start_time": "2024-09-17T10:21:06.810372Z"
    }
   },
   "outputs": [],
   "source": [
    "import random \n",
    "i = random.randint(0,len(first_format_paths_aws))\n",
    "file_path = first_format_paths_aws[i]\n",
    "\n",
    "dataframe = coso.first_format_data_extraction(file_path)\n",
    "# dataframe = coso.first_format_data_transformation(dataframe,file_path)\n",
    "\n",
    "dataframe = process_dataframe(dataframe = dataframe, file_path = file_path)\n",
    "\n",
    "# testing = DataIngestor(engine = engine)\n",
    "# testing.insert_dataframe_to_db(dataframe = dataframe, \n",
    "#                                table_name = table_name)"
   ]
  },
  {
   "cell_type": "code",
   "execution_count": 186,
   "metadata": {
    "ExecuteTime": {
     "end_time": "2024-09-17T10:21:12.494550Z",
     "start_time": "2024-09-17T10:21:12.458551Z"
    }
   },
   "outputs": [
    {
     "data": {
      "text/html": [
       "<div>\n",
       "<style scoped>\n",
       "    .dataframe tbody tr th:only-of-type {\n",
       "        vertical-align: middle;\n",
       "    }\n",
       "\n",
       "    .dataframe tbody tr th {\n",
       "        vertical-align: top;\n",
       "    }\n",
       "\n",
       "    .dataframe thead th {\n",
       "        text-align: right;\n",
       "    }\n",
       "</style>\n",
       "<table border=\"1\" class=\"dataframe\">\n",
       "  <thead>\n",
       "    <tr style=\"text-align: right;\">\n",
       "      <th></th>\n",
       "      <th>ciudad</th>\n",
       "      <th>precio_minimo</th>\n",
       "      <th>precio_maximo</th>\n",
       "      <th>precio_medio</th>\n",
       "      <th>tendencia</th>\n",
       "    </tr>\n",
       "  </thead>\n",
       "  <tbody>\n",
       "    <tr>\n",
       "      <th>0</th>\n",
       "      <td>productos y mercados</td>\n",
       "      <td>Precio mínimo</td>\n",
       "      <td>Precio máximo</td>\n",
       "      <td>Precio medio</td>\n",
       "      <td>Tendencia</td>\n",
       "    </tr>\n",
       "    <tr>\n",
       "      <th>1</th>\n",
       "      <td>acelga</td>\n",
       "      <td>NaN</td>\n",
       "      <td>NaN</td>\n",
       "      <td>NaN</td>\n",
       "      <td>NaN</td>\n",
       "    </tr>\n",
       "    <tr>\n",
       "      <th>2</th>\n",
       "      <td>armenia, mercar</td>\n",
       "      <td>1067</td>\n",
       "      <td>1067</td>\n",
       "      <td>1067</td>\n",
       "      <td>-</td>\n",
       "    </tr>\n",
       "    <tr>\n",
       "      <th>3</th>\n",
       "      <td>barranquilla, barranquillita</td>\n",
       "      <td>2900</td>\n",
       "      <td>3200</td>\n",
       "      <td>3033</td>\n",
       "      <td>-</td>\n",
       "    </tr>\n",
       "    <tr>\n",
       "      <th>4</th>\n",
       "      <td>bogota, corabastos</td>\n",
       "      <td>400</td>\n",
       "      <td>1000</td>\n",
       "      <td>567</td>\n",
       "      <td>++</td>\n",
       "    </tr>\n",
       "    <tr>\n",
       "      <th>...</th>\n",
       "      <td>...</td>\n",
       "      <td>...</td>\n",
       "      <td>...</td>\n",
       "      <td>...</td>\n",
       "      <td>...</td>\n",
       "    </tr>\n",
       "    <tr>\n",
       "      <th>5045</th>\n",
       "      <td>cúcuta, la nueva sexta</td>\n",
       "      <td>1500</td>\n",
       "      <td>1667</td>\n",
       "      <td>1556</td>\n",
       "      <td>=</td>\n",
       "    </tr>\n",
       "    <tr>\n",
       "      <th>5046</th>\n",
       "      <td>pamplona (norte de santander)</td>\n",
       "      <td>1583</td>\n",
       "      <td>1583</td>\n",
       "      <td>1583</td>\n",
       "      <td>=</td>\n",
       "    </tr>\n",
       "    <tr>\n",
       "      <th>5047</th>\n",
       "      <td>santa marta (magdalena)</td>\n",
       "      <td>1167</td>\n",
       "      <td>1200</td>\n",
       "      <td>1175</td>\n",
       "      <td>=</td>\n",
       "    </tr>\n",
       "    <tr>\n",
       "      <th>5048</th>\n",
       "      <td>sincelejo, nuevo mercado</td>\n",
       "      <td>2167</td>\n",
       "      <td>2375</td>\n",
       "      <td>2254</td>\n",
       "      <td>=</td>\n",
       "    </tr>\n",
       "    <tr>\n",
       "      <th>5049</th>\n",
       "      <td>valledupar, mercado nuevo</td>\n",
       "      <td>1083</td>\n",
       "      <td>1167</td>\n",
       "      <td>1111</td>\n",
       "      <td>=</td>\n",
       "    </tr>\n",
       "  </tbody>\n",
       "</table>\n",
       "<p>5050 rows × 5 columns</p>\n",
       "</div>"
      ],
      "text/plain": [
       "                             ciudad  precio_minimo  precio_maximo  \\\n",
       "0              productos y mercados  Precio mínimo  Precio máximo   \n",
       "1                            acelga            NaN            NaN   \n",
       "2                   armenia, mercar           1067           1067   \n",
       "3      barranquilla, barranquillita           2900           3200   \n",
       "4                bogota, corabastos            400           1000   \n",
       "...                             ...            ...            ...   \n",
       "5045         cúcuta, la nueva sexta           1500           1667   \n",
       "5046  pamplona (norte de santander)           1583           1583   \n",
       "5047        santa marta (magdalena)           1167           1200   \n",
       "5048       sincelejo, nuevo mercado           2167           2375   \n",
       "5049      valledupar, mercado nuevo           1083           1167   \n",
       "\n",
       "      precio_medio  tendencia  \n",
       "0     Precio medio  Tendencia  \n",
       "1              NaN        NaN  \n",
       "2             1067          -  \n",
       "3             3033          -  \n",
       "4              567         ++  \n",
       "...            ...        ...  \n",
       "5045          1556          =  \n",
       "5046          1583          =  \n",
       "5047          1175          =  \n",
       "5048          2254          =  \n",
       "5049          1111          =  \n",
       "\n",
       "[5050 rows x 5 columns]"
      ]
     },
     "execution_count": 186,
     "metadata": {},
     "output_type": "execute_result"
    }
   ],
   "source": [
    "dataframe"
   ]
  },
  {
   "cell_type": "code",
   "execution_count": 184,
   "metadata": {
    "ExecuteTime": {
     "end_time": "2024-09-17T10:21:01.413517Z",
     "start_time": "2024-09-17T10:21:01.398519Z"
    }
   },
   "outputs": [],
   "source": [
    "def process_dataframe(dataframe: pd.DataFrame, \n",
    "                      file_path:str) -> pd.DataFrame:\n",
    "    # Keep only the first five columns and rename them\n",
    "    dataframe = dataframe.iloc[:, 0:5]\n",
    "    dataframe.columns = ['ciudad', 'precio_minimo', 'precio_maximo', 'precio_medio', 'tendencia']\n",
    "    dataframe['ciudad'] = dataframe['ciudad'].str.lower().str.replace('bogotá, d.c.', 'bogota')\n",
    "\n",
    "    # Remove rows where 'ciudad' is null\n",
    "    dataframe = dataframe[~dataframe['ciudad'].isnull()]\n",
    "\n",
    "    # This formatting would have eight food categories within the same spreadsheet divided only by a big title.\n",
    "    # Such title would include the word 'cuadro'. So, to separate categories, we look for blocks of data contained\n",
    "    # within two consecutive appearances of such words.\n",
    "\n",
    "    # Get row indexes where the word 'cuadro' is present\n",
    "    index_cuadro = dataframe[dataframe['ciudad'].str.contains('cuadro')].index\n",
    "        \n",
    "    # Creating target dataframe for all data\n",
    "    df_final = pd.DataFrame()\n",
    "\n",
    "#     # Iterating over food categories.\n",
    "#     for i_categoria in range(len(index_cuadro) + 1):\n",
    "#         # week 16 of 2015 does not have the 'cuadro' titles. \n",
    "#         try:\n",
    "#             # Capturing first category\n",
    "#             if i_categoria == 0:\n",
    "#                 dataframe_categoria = dataframe[1:index_cuadro[i_categoria]]\n",
    "#             # capturing intermediate categories\n",
    "#             elif (i_categoria <= 6) and (i_categoria > 0):\n",
    "#                 dataframe_categoria = dataframe[index_cuadro[i_categoria - 1] + 2:index_cuadro[i_categoria]]\n",
    "#             # Capturing last category\n",
    "#             else:\n",
    "#                 dataframe_categoria = dataframe[index_cuadro[i_categoria - 1] + 2:]\n",
    "\n",
    "#             # Within each category block, add category name\n",
    "#             dataframe_categoria['categoria'] = self.categories_dict[i_categoria + 1]\n",
    "\n",
    "#             # within each category block, there are several products. In the whole reporting, products are very likely to\n",
    "#             # contain several rows (same food item in different locations). What identifies such product blocks is the\n",
    "#             # fact that the precio_minimo column will be blank. So the product data would be contain within two\n",
    "#             # consecutive occurrences of blank prices.\n",
    "#             index_producto = dataframe_categoria[dataframe_categoria['precio_minimo'].isnull()].index\n",
    "\n",
    "#             # creating target data frame for product category\n",
    "#             df_categoria_final = pd.DataFrame()\n",
    "\n",
    "#             # Iterating over products within food category\n",
    "#             for i_producto in range(len(index_producto)):\n",
    "\n",
    "#                 # Capturing the first product in the category\n",
    "#                 if i_producto == 0:\n",
    "#                     dataframe_producto = dataframe_categoria.loc[\n",
    "#                                         index_producto[i_producto] - 1:index_producto[i_producto + 1] - 1].reset_index(\n",
    "#                         drop=True)\n",
    "\n",
    "#                 # Capturing all intermediate products\n",
    "#                 elif i_producto < len(index_producto) - 1:\n",
    "#                     dataframe_producto = dataframe_categoria.loc[\n",
    "#                                         index_producto[i_producto]:index_producto[i_producto + 1] - 1].reset_index(\n",
    "#                             drop=True)\n",
    "\n",
    "#                 # Capturing last product within category\n",
    "#                 else:\n",
    "#                     dataframe_producto = dataframe_categoria.loc[index_producto[i_producto]:].reset_index(drop=True)\n",
    "\n",
    "#                 # Adding product name column to each block of products\n",
    "#                 dataframe_producto['producto'] = dataframe_producto['ciudad'][0]\n",
    "\n",
    "#                 # Keeping only city name under the ciudad column\n",
    "#                 dataframe_producto['ciudad'] = dataframe_producto['ciudad'].str.replace(r'\\s*\\([^)]*\\)', '', regex=True)\n",
    "\n",
    "#                 # The name of the marketplaces is included on some of the city names. So we try to retrieve it\n",
    "#                 try:\n",
    "#                     dataframe_producto['mercado'] = dataframe_producto['ciudad'].str.split(',').str[1].str.strip()\n",
    "#                 except:\n",
    "#                     dataframe_producto['mercado'] = np.nan\n",
    "\n",
    "#                 # Getting a clean version of city name\n",
    "#                 try:\n",
    "#                     dataframe_producto['ciudad'] = dataframe_producto['ciudad'].str.split(',').str[0].str.strip()\n",
    "#                 except:\n",
    "#                     None\n",
    "\n",
    "#                 # Dropping first row\n",
    "#                 dataframe_producto = dataframe_producto.drop(0)\n",
    "\n",
    "#                 # Putting together all data for products within food category\n",
    "#                 df_categoria_final = pd.concat([df_categoria_final, dataframe_producto], ignore_index=True)\n",
    "\n",
    "#             # Putting together all data\n",
    "#             df_final = pd.concat([df_final, df_categoria_final], ignore_index=True)\n",
    "#         except: \n",
    "#             None\n",
    "#     # Once data per file is complete, time stamps are added: year and week number\n",
    "#     df_final['semana_no'] = int(Path(file_path).name.split('_')[1])  # file_path.stem[5:7]\n",
    "#     df_final['anho'] = Path(file_path).stem[-4:]\n",
    "\n",
    "    return dataframe"
   ]
  },
  {
   "cell_type": "code",
   "execution_count": null,
   "metadata": {},
   "outputs": [],
   "source": []
  }
 ],
 "metadata": {
  "kernelspec": {
   "display_name": "Python 3 (ipykernel)",
   "language": "python",
   "name": "python3"
  },
  "language_info": {
   "codemirror_mode": {
    "name": "ipython",
    "version": 3
   },
   "file_extension": ".py",
   "mimetype": "text/x-python",
   "name": "python",
   "nbconvert_exporter": "python",
   "pygments_lexer": "ipython3",
   "version": "3.9.7"
  },
  "toc": {
   "base_numbering": 1,
   "nav_menu": {},
   "number_sections": false,
   "sideBar": true,
   "skip_h1_title": true,
   "title_cell": "Table of Contents",
   "title_sidebar": "Contents",
   "toc_cell": false,
   "toc_position": {
    "height": "1018.75px",
    "left": "395px",
    "top": "280.855px",
    "width": "167.5px"
   },
   "toc_section_display": true,
   "toc_window_display": true
  },
  "varInspector": {
   "cols": {
    "lenName": 16,
    "lenType": 16,
    "lenVar": 40
   },
   "kernels_config": {
    "python": {
     "delete_cmd_postfix": "",
     "delete_cmd_prefix": "del ",
     "library": "var_list.py",
     "varRefreshCmd": "print(var_dic_list())"
    },
    "r": {
     "delete_cmd_postfix": ") ",
     "delete_cmd_prefix": "rm(",
     "library": "var_list.r",
     "varRefreshCmd": "cat(var_dic_list()) "
    }
   },
   "types_to_exclude": [
    "module",
    "function",
    "builtin_function_or_method",
    "instance",
    "_Feature"
   ],
   "window_display": false
  }
 },
 "nbformat": 4,
 "nbformat_minor": 2
}
