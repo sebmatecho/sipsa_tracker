{
 "cells": [
  {
   "cell_type": "markdown",
   "id": "4c89a737",
   "metadata": {},
   "source": [
    "# SIPSA Project\n",
    "##### Developed by Sébastien Lozano-Forero\n",
    "\n",
    "\n",
    "\n",
    "\n"
   ]
  },
  {
   "cell_type": "code",
   "execution_count": 33,
   "id": "e5c9dad1",
   "metadata": {
    "ExecuteTime": {
     "end_time": "2024-10-06T14:38:15.844603Z",
     "start_time": "2024-10-06T14:38:15.837520Z"
    }
   },
   "outputs": [],
   "source": [
    "import sys\n",
    "from pathlib import Path\n",
    "\n",
    "# Add the 'utils' directory to the system path so we can import from it\n",
    "sys.path.append(str(Path().resolve().parent / 'utils'))\n",
    "\n",
    "\n",
    "import pandas as pd\n",
    "from aws_utils import DataPipelineManager"
   ]
  },
  {
   "cell_type": "markdown",
   "id": "6cd5feb8",
   "metadata": {},
   "source": [
    "## Exploratory Data Analysis"
   ]
  },
  {
   "cell_type": "code",
   "execution_count": 16,
   "id": "967f71c3",
   "metadata": {
    "ExecuteTime": {
     "end_time": "2024-10-06T14:31:35.356066Z",
     "start_time": "2024-10-06T14:31:35.336469Z"
    }
   },
   "outputs": [],
   "source": [
    "run = DataPipelineManager()"
   ]
  },
  {
   "cell_type": "code",
   "execution_count": 63,
   "id": "f6751e5a",
   "metadata": {
    "ExecuteTime": {
     "end_time": "2024-10-06T14:50:55.054903Z",
     "start_time": "2024-10-06T14:50:54.524706Z"
    }
   },
   "outputs": [],
   "source": [
    "query = \"\"\"\n",
    "    SELECT * FROM product_prices\n",
    "    WHERE mercado = 'corabastos'\n",
    "\"\"\"\n",
    "\n",
    "df = run.queries_on_rds(query = query)"
   ]
  },
  {
   "cell_type": "code",
   "execution_count": 65,
   "id": "26b95607",
   "metadata": {
    "ExecuteTime": {
     "end_time": "2024-10-06T14:51:01.621061Z",
     "start_time": "2024-10-06T14:51:01.585858Z"
    }
   },
   "outputs": [
    {
     "data": {
      "text/html": [
       "<div>\n",
       "<style scoped>\n",
       "    .dataframe tbody tr th:only-of-type {\n",
       "        vertical-align: middle;\n",
       "    }\n",
       "\n",
       "    .dataframe tbody tr th {\n",
       "        vertical-align: top;\n",
       "    }\n",
       "\n",
       "    .dataframe thead th {\n",
       "        text-align: right;\n",
       "    }\n",
       "</style>\n",
       "<table border=\"1\" class=\"dataframe\">\n",
       "  <thead>\n",
       "    <tr style=\"text-align: right;\">\n",
       "      <th></th>\n",
       "      <th>producto</th>\n",
       "      <th>ciudad</th>\n",
       "      <th>precio_minimo</th>\n",
       "      <th>precio_maximo</th>\n",
       "      <th>precio_medio</th>\n",
       "      <th>tendencia</th>\n",
       "      <th>categoria</th>\n",
       "      <th>mercado</th>\n",
       "      <th>semana_no</th>\n",
       "      <th>anho</th>\n",
       "    </tr>\n",
       "  </thead>\n",
       "  <tbody>\n",
       "  </tbody>\n",
       "</table>\n",
       "</div>"
      ],
      "text/plain": [
       "Empty DataFrame\n",
       "Columns: [producto, ciudad, precio_minimo, precio_maximo, precio_medio, tendencia, categoria, mercado, semana_no, anho]\n",
       "Index: []"
      ]
     },
     "execution_count": 65,
     "metadata": {},
     "output_type": "execute_result"
    }
   ],
   "source": [
    "df[['semana_no','anho']].drop_duplicates().sample(10)"
   ]
  },
  {
   "cell_type": "code",
   "execution_count": 43,
   "id": "1057bf3d",
   "metadata": {
    "ExecuteTime": {
     "end_time": "2024-10-06T14:42:53.291004Z",
     "start_time": "2024-10-06T14:42:53.050867Z"
    }
   },
   "outputs": [
    {
     "data": {
      "text/html": [
       "<div>\n",
       "<style scoped>\n",
       "    .dataframe tbody tr th:only-of-type {\n",
       "        vertical-align: middle;\n",
       "    }\n",
       "\n",
       "    .dataframe tbody tr th {\n",
       "        vertical-align: top;\n",
       "    }\n",
       "\n",
       "    .dataframe thead th {\n",
       "        text-align: right;\n",
       "    }\n",
       "</style>\n",
       "<table border=\"1\" class=\"dataframe\">\n",
       "  <thead>\n",
       "    <tr style=\"text-align: right;\">\n",
       "      <th></th>\n",
       "      <th>producto</th>\n",
       "      <th>ciudad</th>\n",
       "      <th>precio_minimo</th>\n",
       "      <th>precio_maximo</th>\n",
       "      <th>precio_medio</th>\n",
       "      <th>tendencia</th>\n",
       "      <th>categoria</th>\n",
       "      <th>mercado</th>\n",
       "      <th>semana_no</th>\n",
       "      <th>anho</th>\n",
       "      <th>date</th>\n",
       "    </tr>\n",
       "  </thead>\n",
       "  <tbody>\n",
       "    <tr>\n",
       "      <th>22189</th>\n",
       "      <td>acelga</td>\n",
       "      <td>bogota</td>\n",
       "      <td>300</td>\n",
       "      <td>333</td>\n",
       "      <td>303</td>\n",
       "      <td>--</td>\n",
       "      <td>verduras_hortalizas</td>\n",
       "      <td>corabastos</td>\n",
       "      <td>1</td>\n",
       "      <td>2012</td>\n",
       "      <td>2012-01-01</td>\n",
       "    </tr>\n",
       "    <tr>\n",
       "      <th>23085</th>\n",
       "      <td>papa_unica</td>\n",
       "      <td>bogota</td>\n",
       "      <td>413</td>\n",
       "      <td>500</td>\n",
       "      <td>463</td>\n",
       "      <td>-</td>\n",
       "      <td>tuberculos_raices_platanos</td>\n",
       "      <td>corabastos</td>\n",
       "      <td>1</td>\n",
       "      <td>2012</td>\n",
       "      <td>2012-01-01</td>\n",
       "    </tr>\n",
       "    <tr>\n",
       "      <th>23084</th>\n",
       "      <td>papa_suprema</td>\n",
       "      <td>bogota</td>\n",
       "      <td>520</td>\n",
       "      <td>700</td>\n",
       "      <td>587</td>\n",
       "      <td>--</td>\n",
       "      <td>tuberculos_raices_platanos</td>\n",
       "      <td>corabastos</td>\n",
       "      <td>1</td>\n",
       "      <td>2012</td>\n",
       "      <td>2012-01-01</td>\n",
       "    </tr>\n",
       "    <tr>\n",
       "      <th>23083</th>\n",
       "      <td>papa_parda_pastusa</td>\n",
       "      <td>bogota</td>\n",
       "      <td>813</td>\n",
       "      <td>910</td>\n",
       "      <td>876</td>\n",
       "      <td>+</td>\n",
       "      <td>tuberculos_raices_platanos</td>\n",
       "      <td>corabastos</td>\n",
       "      <td>1</td>\n",
       "      <td>2012</td>\n",
       "      <td>2012-01-01</td>\n",
       "    </tr>\n",
       "    <tr>\n",
       "      <th>23082</th>\n",
       "      <td>papa_criolla_sucia</td>\n",
       "      <td>bogota</td>\n",
       "      <td>700</td>\n",
       "      <td>867</td>\n",
       "      <td>779</td>\n",
       "      <td>--</td>\n",
       "      <td>tuberculos_raices_platanos</td>\n",
       "      <td>corabastos</td>\n",
       "      <td>1</td>\n",
       "      <td>2012</td>\n",
       "      <td>2012-01-01</td>\n",
       "    </tr>\n",
       "    <tr>\n",
       "      <th>...</th>\n",
       "      <td>...</td>\n",
       "      <td>...</td>\n",
       "      <td>...</td>\n",
       "      <td>...</td>\n",
       "      <td>...</td>\n",
       "      <td>...</td>\n",
       "      <td>...</td>\n",
       "      <td>...</td>\n",
       "      <td>...</td>\n",
       "      <td>...</td>\n",
       "      <td>...</td>\n",
       "    </tr>\n",
       "    <tr>\n",
       "      <th>14972</th>\n",
       "      <td>azucar_morena</td>\n",
       "      <td>bogota</td>\n",
       "      <td>4320</td>\n",
       "      <td>4500</td>\n",
       "      <td>4400</td>\n",
       "      <td>-</td>\n",
       "      <td>productos_procesados</td>\n",
       "      <td>corabastos</td>\n",
       "      <td>54</td>\n",
       "      <td>2024</td>\n",
       "      <td>2025-01-06</td>\n",
       "    </tr>\n",
       "    <tr>\n",
       "      <th>14971</th>\n",
       "      <td>avena_molida</td>\n",
       "      <td>bogota</td>\n",
       "      <td>9203</td>\n",
       "      <td>9877</td>\n",
       "      <td>9407</td>\n",
       "      <td>-</td>\n",
       "      <td>productos_procesados</td>\n",
       "      <td>corabastos</td>\n",
       "      <td>54</td>\n",
       "      <td>2024</td>\n",
       "      <td>2025-01-06</td>\n",
       "    </tr>\n",
       "    <tr>\n",
       "      <th>14970</th>\n",
       "      <td>avena_en_hojuelas</td>\n",
       "      <td>bogota</td>\n",
       "      <td>9203</td>\n",
       "      <td>9877</td>\n",
       "      <td>9407</td>\n",
       "      <td>-</td>\n",
       "      <td>productos_procesados</td>\n",
       "      <td>corabastos</td>\n",
       "      <td>54</td>\n",
       "      <td>2024</td>\n",
       "      <td>2025-01-06</td>\n",
       "    </tr>\n",
       "    <tr>\n",
       "      <th>14981</th>\n",
       "      <td>gelatina</td>\n",
       "      <td>bogota</td>\n",
       "      <td>37405</td>\n",
       "      <td>38571</td>\n",
       "      <td>38024</td>\n",
       "      <td>-</td>\n",
       "      <td>productos_procesados</td>\n",
       "      <td>corabastos</td>\n",
       "      <td>54</td>\n",
       "      <td>2024</td>\n",
       "      <td>2025-01-06</td>\n",
       "    </tr>\n",
       "    <tr>\n",
       "      <th>16302</th>\n",
       "      <td>platano_harton_verde</td>\n",
       "      <td>bogota</td>\n",
       "      <td>2250</td>\n",
       "      <td>2500</td>\n",
       "      <td>2394</td>\n",
       "      <td>-</td>\n",
       "      <td>tuberculos_raices_platanos</td>\n",
       "      <td>corabastos</td>\n",
       "      <td>54</td>\n",
       "      <td>2024</td>\n",
       "      <td>2025-01-06</td>\n",
       "    </tr>\n",
       "  </tbody>\n",
       "</table>\n",
       "<p>84243 rows × 11 columns</p>\n",
       "</div>"
      ],
      "text/plain": [
       "                   producto  ciudad  precio_minimo  precio_maximo  \\\n",
       "22189                acelga  bogota            300            333   \n",
       "23085            papa_unica  bogota            413            500   \n",
       "23084          papa_suprema  bogota            520            700   \n",
       "23083    papa_parda_pastusa  bogota            813            910   \n",
       "23082    papa_criolla_sucia  bogota            700            867   \n",
       "...                     ...     ...            ...            ...   \n",
       "14972         azucar_morena  bogota           4320           4500   \n",
       "14971          avena_molida  bogota           9203           9877   \n",
       "14970     avena_en_hojuelas  bogota           9203           9877   \n",
       "14981              gelatina  bogota          37405          38571   \n",
       "16302  platano_harton_verde  bogota           2250           2500   \n",
       "\n",
       "       precio_medio tendencia                   categoria     mercado  \\\n",
       "22189           303        --         verduras_hortalizas  corabastos   \n",
       "23085           463         -  tuberculos_raices_platanos  corabastos   \n",
       "23084           587        --  tuberculos_raices_platanos  corabastos   \n",
       "23083           876         +  tuberculos_raices_platanos  corabastos   \n",
       "23082           779        --  tuberculos_raices_platanos  corabastos   \n",
       "...             ...       ...                         ...         ...   \n",
       "14972          4400         -        productos_procesados  corabastos   \n",
       "14971          9407         -        productos_procesados  corabastos   \n",
       "14970          9407         -        productos_procesados  corabastos   \n",
       "14981         38024         -        productos_procesados  corabastos   \n",
       "16302          2394         -  tuberculos_raices_platanos  corabastos   \n",
       "\n",
       "       semana_no  anho       date  \n",
       "22189          1  2012 2012-01-01  \n",
       "23085          1  2012 2012-01-01  \n",
       "23084          1  2012 2012-01-01  \n",
       "23083          1  2012 2012-01-01  \n",
       "23082          1  2012 2012-01-01  \n",
       "...          ...   ...        ...  \n",
       "14972         54  2024 2025-01-06  \n",
       "14971         54  2024 2025-01-06  \n",
       "14970         54  2024 2025-01-06  \n",
       "14981         54  2024 2025-01-06  \n",
       "16302         54  2024 2025-01-06  \n",
       "\n",
       "[84243 rows x 11 columns]"
      ]
     },
     "execution_count": 43,
     "metadata": {},
     "output_type": "execute_result"
    }
   ],
   "source": [
    "# Create a date column using the first day of the year and adding the week number as a timedelta\n",
    "df['date'] = pd.to_datetime(df['anho'].astype(str) + '-1-1') + pd.to_timedelta(df['semana_no'].sub(1).mul(7), unit='D')\n",
    "\n",
    "# Sort by the newly created date column\n",
    "df_sorted = df.sort_values(by='date')\n",
    "\n",
    "# Show the sorted data\n",
    "df_sorted\n"
   ]
  },
  {
   "cell_type": "code",
   "execution_count": 62,
   "id": "d3559600",
   "metadata": {
    "ExecuteTime": {
     "end_time": "2024-10-06T14:47:54.606617Z",
     "start_time": "2024-10-06T14:47:54.595667Z"
    }
   },
   "outputs": [
    {
     "data": {
      "text/plain": [
       "[1,\n",
       " 2,\n",
       " 3,\n",
       " 4,\n",
       " 5,\n",
       " 6,\n",
       " 7,\n",
       " 8,\n",
       " 9,\n",
       " 10,\n",
       " 11,\n",
       " 12,\n",
       " 13,\n",
       " 14,\n",
       " 15,\n",
       " 16,\n",
       " 17,\n",
       " 18,\n",
       " 19,\n",
       " 20,\n",
       " 21,\n",
       " 22,\n",
       " 23,\n",
       " 24,\n",
       " 25,\n",
       " 26,\n",
       " 27,\n",
       " 28,\n",
       " 29,\n",
       " 30,\n",
       " 31,\n",
       " 32,\n",
       " 33,\n",
       " 35,\n",
       " 36,\n",
       " 37,\n",
       " 38,\n",
       " 39,\n",
       " 40,\n",
       " 53,\n",
       " 54]"
      ]
     },
     "execution_count": 62,
     "metadata": {},
     "output_type": "execute_result"
    }
   ],
   "source": [
    "here = list(df.loc[df['anho']==2024,'semana_no'].unique())\n",
    "here.sort()\n",
    "here"
   ]
  },
  {
   "cell_type": "code",
   "execution_count": null,
   "id": "d0bb3a91",
   "metadata": {},
   "outputs": [],
   "source": []
  },
  {
   "cell_type": "code",
   "execution_count": null,
   "id": "4595295b",
   "metadata": {},
   "outputs": [],
   "source": []
  },
  {
   "cell_type": "markdown",
   "id": "358a558d",
   "metadata": {
    "ExecuteTime": {
     "end_time": "2024-10-06T13:28:55.313917Z",
     "start_time": "2024-10-06T13:28:55.307917Z"
    },
    "heading_collapsed": true
   },
   "source": [
    "## Util functions"
   ]
  },
  {
   "cell_type": "markdown",
   "id": "8cf82945",
   "metadata": {
    "hidden": true
   },
   "source": [
    "### DataPipelineManager"
   ]
  },
  {
   "cell_type": "code",
   "execution_count": 1,
   "id": "d2593171",
   "metadata": {
    "ExecuteTime": {
     "end_time": "2024-10-06T14:19:18.975200Z",
     "start_time": "2024-10-06T14:19:18.961197Z"
    },
    "hidden": true
   },
   "outputs": [],
   "source": [
    "# import boto3\n",
    "# import os\n",
    "# import pandas as pd\n",
    "# from dotenv import load_dotenv\n",
    "# from io import BytesIO\n",
    "# from sqlalchemy import create_engine\n",
    "# from botocore.exceptions import ClientError\n",
    "\n",
    "# class DataPipelineManager:\n",
    "#     def __init__(self):\n",
    "#         \"\"\"\n",
    "#         Initializes the DataPipelineManager class, loading environment variables and setting up S3 and RDS connections.\n",
    "#         \"\"\"\n",
    "#         load_dotenv()\n",
    "\n",
    "#         # Initialize AWS credentials\n",
    "#         self.aws_access_key_id = os.environ['aws_access_key_id']\n",
    "#         self.aws_secret_access_key = os.environ['aws_secret_access_key']\n",
    "#         self.bucket_name = os.environ['BUCKET_NAME']\n",
    "        \n",
    "#         # Initialize S3 resource\n",
    "#         self.s3 = boto3.resource('s3',\n",
    "#                                 aws_access_key_id=self.aws_access_key_id, \n",
    "#                                 aws_secret_access_key=self.aws_secret_access_key)\n",
    "\n",
    "#         # Initialize RDS database credentials\n",
    "#         self.db_user = os.environ['db_user']\n",
    "#         self.db_pass = os.environ['db_pass']\n",
    "#         self.db_host = os.environ['db_host']\n",
    "#         self.db_port = os.environ['db_port']\n",
    "#         self.db_name = os.environ['db_name']\n",
    "#         self.engine = create_engine(f'postgresql://{self.db_user}:{self.db_pass}@{self.db_host}:{self.db_port}/{self.db_name}')\n",
    "    \n",
    "#     def queries_on_rds(self, query: str) -> pd.DataFrame:\n",
    "#         \"\"\"\n",
    "#         Executes a SQL query on the RDS PostgreSQL database and returns the result as a pandas DataFrame.\n",
    "\n",
    "#         Args:\n",
    "#             query (str): The SQL query to execute.\n",
    "\n",
    "#         Returns:\n",
    "#             pd.DataFrame: The result of the SQL query.\n",
    "#         \"\"\"\n",
    "#         with self.engine.begin() as conn:\n",
    "#             dataframe = pd.read_sql(sql=query, con=conn)\n",
    "#         return dataframe\n",
    "\n",
    "#     def get_files_tracker_from_s3(self, file_name: str = 'files_tracker.csv') -> pd.DataFrame:\n",
    "#         \"\"\"\n",
    "#         Retrieves the 'files_tracker.csv' from the S3 bucket and returns its content as a pandas DataFrame.\n",
    "\n",
    "#         Args:\n",
    "#             file_name (str): The name of the file to retrieve from S3.\n",
    "\n",
    "#         Returns:\n",
    "#             pd.DataFrame: The content of the file as a pandas DataFrame.\n",
    "#         \"\"\"\n",
    "#         try:\n",
    "#             obj = self.s3.Object(self.bucket_name, file_name)\n",
    "#             csv_content = obj.get()['Body'].read()\n",
    "#             df = pd.read_csv(BytesIO(csv_content))\n",
    "#             return df\n",
    "#         except ClientError as e:\n",
    "#             print(f\"Error retrieving file from S3: {e}\")\n",
    "#             return pd.DataFrame()\n",
    "\n",
    "#     def log_files_manager(self, log_file: str = None, log_prefix: str = 'logs/') -> list:\n",
    "#         \"\"\"\n",
    "#         Lists or retrieves log files from the S3 bucket. If a log file is provided, its content is loaded into a pandas DataFrame.\n",
    "\n",
    "#         Args:\n",
    "#             log_file (str, optional): The specific log file to retrieve. Defaults to None, in which case all log files are listed.\n",
    "#             log_prefix (str, optional): The prefix where log files are stored. Defaults to 'logs/'.\n",
    "\n",
    "#         Returns:\n",
    "#             list: A list of log file names if log_file is None.\n",
    "#             pd.DataFrame: The content of the log file as a pandas DataFrame if log_file is provided.\n",
    "#         \"\"\"\n",
    "#         if log_file is None:\n",
    "#             try:\n",
    "#                 bucket = self.s3.Bucket(self.bucket_name)\n",
    "#                 log_files = [obj.key for obj in bucket.objects.filter(Prefix=log_prefix) if obj.key.endswith('.log')]\n",
    "#                 return log_files\n",
    "#             except ClientError as e:\n",
    "#                 print(f\"Error listing log files from S3: {e}\")\n",
    "#                 return []\n",
    "#         else:\n",
    "#             try:\n",
    "#                 obj = self.s3.Object(self.bucket_name, log_file)\n",
    "#                 log_content = obj.get()['Body'].read().decode('utf-8')\n",
    "#                 log_lines = log_content.splitlines()\n",
    "#                 log_data = [line.split(' - ', maxsplit=2) for line in log_lines if len(line.split(' - ', maxsplit=2)) == 3]\n",
    "#                 df = pd.DataFrame(log_data, columns=['timestamp', 'level', 'message'])\n",
    "#                 return df\n",
    "#             except ClientError as e:\n",
    "#                 print(f\"Error reading log file {log_file} from S3: {e}\")\n",
    "#                 return pd.DataFrame()"
   ]
  },
  {
   "cell_type": "code",
   "execution_count": 6,
   "id": "03655450",
   "metadata": {
    "ExecuteTime": {
     "end_time": "2024-10-06T14:25:30.114191Z",
     "start_time": "2024-10-06T14:25:29.520600Z"
    },
    "hidden": true
   },
   "outputs": [],
   "source": [
    "# Example Usage\n",
    "manager = DataPipelineManager()"
   ]
  },
  {
   "cell_type": "code",
   "execution_count": 9,
   "id": "d015cddf",
   "metadata": {
    "ExecuteTime": {
     "end_time": "2024-10-06T14:26:48.919845Z",
     "start_time": "2024-10-06T14:26:48.527232Z"
    },
    "hidden": true
   },
   "outputs": [
    {
     "data": {
      "text/html": [
       "<div>\n",
       "<style scoped>\n",
       "    .dataframe tbody tr th:only-of-type {\n",
       "        vertical-align: middle;\n",
       "    }\n",
       "\n",
       "    .dataframe tbody tr th {\n",
       "        vertical-align: top;\n",
       "    }\n",
       "\n",
       "    .dataframe thead th {\n",
       "        text-align: right;\n",
       "    }\n",
       "</style>\n",
       "<table border=\"1\" class=\"dataframe\">\n",
       "  <thead>\n",
       "    <tr style=\"text-align: right;\">\n",
       "      <th></th>\n",
       "      <th>file</th>\n",
       "      <th>link</th>\n",
       "      <th>date_added</th>\n",
       "      <th>rds_load</th>\n",
       "    </tr>\n",
       "  </thead>\n",
       "  <tbody>\n",
       "    <tr>\n",
       "      <th>0</th>\n",
       "      <td>week_39_anex-SIPSASemanal-21sep-27sep-2024.xlsx</td>\n",
       "      <td>https://www.dane.gov.co/files/operaciones/SIPS...</td>\n",
       "      <td>2024-10-02</td>\n",
       "      <td>yes</td>\n",
       "    </tr>\n",
       "    <tr>\n",
       "      <th>1</th>\n",
       "      <td>week_38_anex-SIPSASemanal-14sep-20sep-2024.xlsx</td>\n",
       "      <td>https://www.dane.gov.co/files/operaciones/SIPS...</td>\n",
       "      <td>2024-10-02</td>\n",
       "      <td>yes</td>\n",
       "    </tr>\n",
       "    <tr>\n",
       "      <th>2</th>\n",
       "      <td>week_37_anex-SIPSASemanal-7sep-13sep-2024.xlsx</td>\n",
       "      <td>https://www.dane.gov.co/files/operaciones/SIPS...</td>\n",
       "      <td>2024-10-02</td>\n",
       "      <td>yes</td>\n",
       "    </tr>\n",
       "    <tr>\n",
       "      <th>3</th>\n",
       "      <td>week_36_anex-SIPSASemanal-31ago-6sep-2024.xlsx</td>\n",
       "      <td>https://www.dane.gov.co/files/operaciones/SIPS...</td>\n",
       "      <td>2024-10-02</td>\n",
       "      <td>yes</td>\n",
       "    </tr>\n",
       "    <tr>\n",
       "      <th>4</th>\n",
       "      <td>week_35_anex-SIPSASemanal-24ago-30ago-2024.xlsx</td>\n",
       "      <td>https://www.dane.gov.co/files/operaciones/SIPS...</td>\n",
       "      <td>2024-10-02</td>\n",
       "      <td>yes</td>\n",
       "    </tr>\n",
       "    <tr>\n",
       "      <th>...</th>\n",
       "      <td>...</td>\n",
       "      <td>...</td>\n",
       "      <td>...</td>\n",
       "      <td>...</td>\n",
       "    </tr>\n",
       "    <tr>\n",
       "      <th>614</th>\n",
       "      <td>week_4_Anexo_Bol_Semanal_SIPSA_Diciembre_1_201...</td>\n",
       "      <td>https://www.dane.gov.co/files/investigaciones/...</td>\n",
       "      <td>2024-10-02</td>\n",
       "      <td>yes</td>\n",
       "    </tr>\n",
       "    <tr>\n",
       "      <th>615</th>\n",
       "      <td>week_3_Anexo_Bol_Semanal_SIPSA_Noviembre_24_20...</td>\n",
       "      <td>https://www.dane.gov.co/files/investigaciones/...</td>\n",
       "      <td>2024-10-02</td>\n",
       "      <td>yes</td>\n",
       "    </tr>\n",
       "    <tr>\n",
       "      <th>616</th>\n",
       "      <td>week_2_Anexo_Bol_Semanal_SIPSA_Noviembre_23_20...</td>\n",
       "      <td>https://www.dane.gov.co/files/investigaciones/...</td>\n",
       "      <td>2024-10-02</td>\n",
       "      <td>yes</td>\n",
       "    </tr>\n",
       "    <tr>\n",
       "      <th>617</th>\n",
       "      <td>week_1_Anexo_Bol_Semanal_SIPSA_Noviembre_16_20...</td>\n",
       "      <td>https://www.dane.gov.co/files/investigaciones/...</td>\n",
       "      <td>2024-10-02</td>\n",
       "      <td>yes</td>\n",
       "    </tr>\n",
       "    <tr>\n",
       "      <th>618</th>\n",
       "      <td>week_40_anex-SIPSASemanal-28sep-4oct-2024.xlsx</td>\n",
       "      <td>https://www.dane.gov.co/files/operaciones/SIPS...</td>\n",
       "      <td>2024-10-05</td>\n",
       "      <td>yes</td>\n",
       "    </tr>\n",
       "  </tbody>\n",
       "</table>\n",
       "<p>619 rows × 4 columns</p>\n",
       "</div>"
      ],
      "text/plain": [
       "                                                  file  \\\n",
       "0      week_39_anex-SIPSASemanal-21sep-27sep-2024.xlsx   \n",
       "1      week_38_anex-SIPSASemanal-14sep-20sep-2024.xlsx   \n",
       "2       week_37_anex-SIPSASemanal-7sep-13sep-2024.xlsx   \n",
       "3       week_36_anex-SIPSASemanal-31ago-6sep-2024.xlsx   \n",
       "4      week_35_anex-SIPSASemanal-24ago-30ago-2024.xlsx   \n",
       "..                                                 ...   \n",
       "614  week_4_Anexo_Bol_Semanal_SIPSA_Diciembre_1_201...   \n",
       "615  week_3_Anexo_Bol_Semanal_SIPSA_Noviembre_24_20...   \n",
       "616  week_2_Anexo_Bol_Semanal_SIPSA_Noviembre_23_20...   \n",
       "617  week_1_Anexo_Bol_Semanal_SIPSA_Noviembre_16_20...   \n",
       "618     week_40_anex-SIPSASemanal-28sep-4oct-2024.xlsx   \n",
       "\n",
       "                                                  link  date_added rds_load  \n",
       "0    https://www.dane.gov.co/files/operaciones/SIPS...  2024-10-02      yes  \n",
       "1    https://www.dane.gov.co/files/operaciones/SIPS...  2024-10-02      yes  \n",
       "2    https://www.dane.gov.co/files/operaciones/SIPS...  2024-10-02      yes  \n",
       "3    https://www.dane.gov.co/files/operaciones/SIPS...  2024-10-02      yes  \n",
       "4    https://www.dane.gov.co/files/operaciones/SIPS...  2024-10-02      yes  \n",
       "..                                                 ...         ...      ...  \n",
       "614  https://www.dane.gov.co/files/investigaciones/...  2024-10-02      yes  \n",
       "615  https://www.dane.gov.co/files/investigaciones/...  2024-10-02      yes  \n",
       "616  https://www.dane.gov.co/files/investigaciones/...  2024-10-02      yes  \n",
       "617  https://www.dane.gov.co/files/investigaciones/...  2024-10-02      yes  \n",
       "618  https://www.dane.gov.co/files/operaciones/SIPS...  2024-10-05      yes  \n",
       "\n",
       "[619 rows x 4 columns]"
      ]
     },
     "execution_count": 9,
     "metadata": {},
     "output_type": "execute_result"
    }
   ],
   "source": [
    "manager.get_files_tracker_from_s3()"
   ]
  },
  {
   "cell_type": "code",
   "execution_count": 11,
   "id": "1b121be4",
   "metadata": {
    "ExecuteTime": {
     "end_time": "2024-10-06T14:26:55.385847Z",
     "start_time": "2024-10-06T14:26:55.241533Z"
    },
    "hidden": true
   },
   "outputs": [
    {
     "data": {
      "text/plain": [
       "['logs/sipsa_process_10_02_2024.log',\n",
       " 'logs/sipsa_process_10_04_2024.log',\n",
       " 'logs/sipsa_process_10_05_2024.log',\n",
       " 'logs/sipsa_process_10_06_2024.log']"
      ]
     },
     "execution_count": 11,
     "metadata": {},
     "output_type": "execute_result"
    }
   ],
   "source": [
    "manager.log_files_manager()"
   ]
  },
  {
   "cell_type": "code",
   "execution_count": null,
   "id": "37134bb9",
   "metadata": {
    "hidden": true
   },
   "outputs": [],
   "source": []
  }
 ],
 "metadata": {
  "kernelspec": {
   "display_name": "Python 3 (ipykernel)",
   "language": "python",
   "name": "python3"
  },
  "language_info": {
   "codemirror_mode": {
    "name": "ipython",
    "version": 3
   },
   "file_extension": ".py",
   "mimetype": "text/x-python",
   "name": "python",
   "nbconvert_exporter": "python",
   "pygments_lexer": "ipython3",
   "version": "3.9.7"
  },
  "toc": {
   "base_numbering": 1,
   "nav_menu": {},
   "number_sections": true,
   "sideBar": true,
   "skip_h1_title": false,
   "title_cell": "Table of Contents",
   "title_sidebar": "Contents",
   "toc_cell": false,
   "toc_position": {},
   "toc_section_display": true,
   "toc_window_display": false
  },
  "varInspector": {
   "cols": {
    "lenName": 16,
    "lenType": 16,
    "lenVar": 40
   },
   "kernels_config": {
    "python": {
     "delete_cmd_postfix": "",
     "delete_cmd_prefix": "del ",
     "library": "var_list.py",
     "varRefreshCmd": "print(var_dic_list())"
    },
    "r": {
     "delete_cmd_postfix": ") ",
     "delete_cmd_prefix": "rm(",
     "library": "var_list.r",
     "varRefreshCmd": "cat(var_dic_list()) "
    }
   },
   "types_to_exclude": [
    "module",
    "function",
    "builtin_function_or_method",
    "instance",
    "_Feature"
   ],
   "window_display": false
  }
 },
 "nbformat": 4,
 "nbformat_minor": 5
}
